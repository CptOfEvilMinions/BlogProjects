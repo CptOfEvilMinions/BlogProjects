{
 "cells": [
  {
   "cell_type": "markdown",
   "metadata": {
    "application/vnd.databricks.v1+cell": {
     "cellMetadata": {},
     "inputWidgets": {},
     "nuid": "858bcf4a-f92f-4be7-9d25-0ff672574b9b",
     "showTitle": false,
     "tableResultSettingsMap": {},
     "title": ""
    }
   },
   "source": [
    "# Create silver tables\n"
   ]
  },
  {
   "cell_type": "code",
   "execution_count": 0,
   "metadata": {
    "application/vnd.databricks.v1+cell": {
     "cellMetadata": {
      "byteLimit": 2048000,
      "rowLimit": 10000
     },
     "inputWidgets": {},
     "nuid": "39d1db7c-6f78-4293-8161-8e845fb02c80",
     "showTitle": false,
     "tableResultSettingsMap": {},
     "title": ""
    }
   },
   "outputs": [],
   "source": [
    "__CATALOG = \"btv_dc30\"\n",
    "__BRONZE_SCHEMA = \"bronze\"\n",
    "__SILVER_SCHEMA = \"silver\"\n",
    "__BRONZE_BUCKET = \"btv-dc30-bronze-t7rrh\"\n",
    "__SILVER_BUCKET = \"btv-dc30-silver-t7rrh\""
   ]
  },
  {
   "cell_type": "markdown",
   "metadata": {
    "application/vnd.databricks.v1+cell": {
     "cellMetadata": {},
     "inputWidgets": {},
     "nuid": "726646a6-2c18-4d2c-a02b-0dbe3fe312dc",
     "showTitle": false,
     "tableResultSettingsMap": {},
     "title": ""
    }
   },
   "source": [
    "# Utils\n",
    "\n",
    "This code defines two functions for processing PySpark DataFrames with struct columns. The `infer_type()` inspects a sample string value and optionally its column name to infer its type as `boolean`, `long`, `double`, `timestamp`, `string`, or etc , treating columns like `ts` or containing `time` as `timestamps`. \n",
    "\n",
    "The `denullify_and_cast_struct()` takes a DataFrame and a struct column, removes any fields that are always `null`, and infers the type of each remaining field using a non-null sample. It then rebuilds the struct, casting each field to the appropriate PySpark type (`boolean`, `long`, `double`, `timestamp`, `string`, or etc) while leaving others as `strings`. The result is a cleaned and type-consistent struct column."
   ]
  },
  {
   "cell_type": "code",
   "execution_count": 0,
   "metadata": {
    "application/vnd.databricks.v1+cell": {
     "cellMetadata": {
      "byteLimit": 2048000,
      "rowLimit": 10000
     },
     "inputWidgets": {},
     "nuid": "aa2e8e65-0868-4994-9b60-cae81d484251",
     "showTitle": false,
     "tableResultSettingsMap": {},
     "title": ""
    }
   },
   "outputs": [],
   "source": [
    "from pyspark.sql.functions import col, struct, first, from_unixtime, to_timestamp\n",
    "from pyspark.sql import DataFrame\n",
    "import re\n",
    "\n",
    "long_regex = re.compile(r\"-?\\d+\")\n",
    "double_regex = re.compile(r\"-?\\d+\\.\\d+\")\n",
    "iso8601_regex = re.compile(r\"\\d{4}-\\d{2}-\\d{2}T\\d{2}:\\d{2}:\\d{2}.\\d+(\\+\\d{2}:\\d{2})?\")\n",
    "\n",
    "def infer_type(value: str, column_name) -> str:\n",
    "    \"\"\"\n",
    "    Infer the type of a string value, optionally using the column name.\n",
    "    \n",
    "    Args:\n",
    "        value (str): Sample string value.\n",
    "        column_name (str, optional): Name of the column for context.\n",
    "        \n",
    "    Returns:\n",
    "        str: One of \"boolean\", \"long\", \"double\", \"datetime\", or \"string\".\n",
    "    \"\"\"\n",
    "    # Check column name first for time-related columns\n",
    "    if column_name.lower() in (\"ts\", \"timestamp\") or \"time\" in column_name.lower():\n",
    "        if iso8601_regex.match(value):\n",
    "            return \"datetime\"\n",
    "        return \"timestamp\"\n",
    " \n",
    "\n",
    "    if value is None:\n",
    "        return \"string\"\n",
    "\n",
    "    value = str(value).strip().lower()\n",
    "\n",
    "    if value in (\"true\", \"false\"):\n",
    "        return \"boolean\"\n",
    "\n",
    "    if long_regex.fullmatch(value):\n",
    "        return \"long\"\n",
    "\n",
    "    if double_regex.fullmatch(value):\n",
    "        return \"double\"\n",
    "\n",
    "    return \"string\"\n",
    "\n",
    "\n",
    "def denullify_and_cast_struct(df: DataFrame, table_name: str, struct_cols: list[str]) -> DataFrame:\n",
    "    \"\"\"\n",
    "    Process multiple struct columns: remove null-only fields and cast types based on inferred types.\n",
    "\n",
    "    Args:\n",
    "        df (DataFrame): Input PySpark DataFrame.\n",
    "        table_name (str): Name of the table for logging.\n",
    "        struct_cols (list[str]): List of struct column names to process.\n",
    "\n",
    "    Returns:\n",
    "        DataFrame: Updated DataFrame with processed struct columns.\n",
    "    \"\"\"\n",
    "    for struct_col in struct_cols:\n",
    "        # Get fields in the struct\n",
    "        struct_fields = df.schema[struct_col].dataType.fieldNames()\n",
    "\n",
    "        # Determine fields that are always null\n",
    "        # null_fields = []\n",
    "        # for f in struct_fields:\n",
    "        #     if df.filter(col(f\"{struct_col}.{f}\").isNotNull()).count() == 0:\n",
    "        #         null_fields.append(f)\n",
    "\n",
    "        # Keep only fields that have some non-null values\n",
    "        fields_to_keep = [f for f in struct_fields]\n",
    "\n",
    "        # Get one non-null sample for type inference\n",
    "        samples = df.select(struct_col).dropna().limit(1000).collect()\n",
    "\n",
    "        inferred_types = {}\n",
    "        if samples:\n",
    "            # Initialize dictionary to store lists of observed types for each field\n",
    "            type_observations = {f: [] for f in fields_to_keep}\n",
    "\n",
    "            for row in samples:\n",
    "                row_dict = row[struct_col].asDict()\n",
    "                for f in fields_to_keep:\n",
    "                    value = row_dict.get(f)\n",
    "                    if value is not None:\n",
    "                        type_observations[f].append(infer_type(value, f))\n",
    "\n",
    "            # Decide final type for each field (e.g., most common type)\n",
    "            for f, types in type_observations.items():\n",
    "                if types:\n",
    "                    inferred_types[f] = max(set(types), key=types.count)  # most frequent type\n",
    "                else:\n",
    "                    inferred_types[f] = \"string\"\n",
    "        else:\n",
    "            inferred_types = {f: \"string\" for f in fields_to_keep}\n",
    "        #print(f\"{table_name} - {struct_col} inferred types:\", inferred_types)\n",
    "        \n",
    "\n",
    "        # Build struct with type casting\n",
    "        new_struct_cols = []\n",
    "        for f in fields_to_keep:\n",
    "            col_expr = col(f\"{struct_col}.{f}\")\n",
    "            match inferred_types[f]:\n",
    "                case \"long\":\n",
    "                    new_struct_cols.append(col_expr.cast(\"long\").alias(f))\n",
    "                case \"double\":\n",
    "                    new_struct_cols.append(col_expr.cast(\"double\").alias(f))\n",
    "                case \"datetime\":\n",
    "                    new_struct_cols.append(to_timestamp(col_expr, \"yyyy-MM-dd'T'HH:mm:ss.SSSSSSXXX\").alias(f))\n",
    "                case \"timestamp\":\n",
    "                    new_struct_cols.append((col_expr.cast(\"bigint\")).cast(\"timestamp\").alias(f))\n",
    "                case \"boolean\":\n",
    "                    new_struct_cols.append(col_expr.cast(\"boolean\").alias(f))\n",
    "                case _:\n",
    "                    new_struct_cols.append(col_expr.alias(f))\n",
    "\n",
    "        # Replace original struct column with cleaned struct\n",
    "        df = df.withColumn(struct_col, struct(*new_struct_cols))\n",
    "\n",
    "    return df"
   ]
  },
  {
   "cell_type": "markdown",
   "metadata": {
    "application/vnd.databricks.v1+cell": {
     "cellMetadata": {},
     "inputWidgets": {},
     "nuid": "2a7e4374-2616-4ad3-9244-d17e42890268",
     "showTitle": false,
     "tableResultSettingsMap": {},
     "title": ""
    }
   },
   "source": [
    "# Create Sysmon Silver tables\n",
    "This PySpark script orchestrates a standard Bronze-to-Silver transformation across multiple `sysmon_*` tables in a data lakehouse architecture. First, it lists all Bronze tables whose names match `sysmon_%`, then iterates through each one. For each table:\n",
    "\n",
    "* It reads the Bronze Delta table into a DataFrame.\n",
    "* It drops noisy or irrelevant fields (like `@timestamp`, `ecs`, `message`, etc.).\n",
    "* It extracts and casts the nested string timestamp (`event.created`) into a proper timestamp column called `ts`.\n",
    "* It creates a `hostname` root-level field from `host.name`.\n",
    "* The script also conditionally adds more human-readable columns—like `rule`, `filename`, `registry_path`, `process_name`, and `username`, only if those nested fields exist in the Bronze schema.\n",
    "* Finally, it writes the cleaned and enhanced data to the Silver layer as a Delta table, enabling schema evolution (mergeSchema) and organizing output by stripping the sysmon_ prefix and placing it into the appropriate Silver schema in S3.\n",
    "\n",
    "This approach follows the medallion architecture’s Silver layer pattern—cleaning, standardizing, and enriching raw Bronze data to make it more analysis-ready\n"
   ]
  },
  {
   "cell_type": "code",
   "execution_count": 0,
   "metadata": {
    "application/vnd.databricks.v1+cell": {
     "cellMetadata": {
      "byteLimit": 2048000,
      "rowLimit": 10000
     },
     "inputWidgets": {},
     "nuid": "1793454f-b4ef-4765-93ae-2b57bfc9654e",
     "showTitle": false,
     "tableResultSettingsMap": {},
     "title": ""
    }
   },
   "outputs": [
    {
     "output_type": "stream",
     "name": "stdout",
     "output_type": "stream",
     "text": [
      "Query table: btv_dc30.bronze.sysmon_clipboardchange\nQuery table: btv_dc30.bronze.sysmon_createremotethread\nQuery table: btv_dc30.bronze.sysmon_dnseventdnsquery\nQuery table: btv_dc30.bronze.sysmon_driverloaded\nQuery table: btv_dc30.bronze.sysmon_error\nQuery table: btv_dc30.bronze.sysmon_filecreate\nQuery table: btv_dc30.bronze.sysmon_filecreatestreamhash\nQuery table: btv_dc30.bronze.sysmon_imageloaded\nQuery table: btv_dc30.bronze.sysmon_networkconnection\nQuery table: btv_dc30.bronze.sysmon_pipeeventpipeconnected\nQuery table: btv_dc30.bronze.sysmon_pipeeventpipecreated\nQuery table: btv_dc30.bronze.sysmon_processaccess\nQuery table: btv_dc30.bronze.sysmon_processchangedafilecreationtime\nQuery table: btv_dc30.bronze.sysmon_processcreation\nQuery table: btv_dc30.bronze.sysmon_processtampering\nQuery table: btv_dc30.bronze.sysmon_processterminated\nQuery table: btv_dc30.bronze.sysmon_registryeventobjectcreateanddelete\nQuery table: btv_dc30.bronze.sysmon_registryeventvalueset\nQuery table: btv_dc30.bronze.sysmon_sysmonservicestatechanged\n"
     ]
    }
   ],
   "source": [
    "from pyspark.sql.functions import to_timestamp, col\n",
    "\n",
    "tables = spark.sql(f\"SHOW TABLES IN {__CATALOG}.{__BRONZE_SCHEMA}\").filter(\"tableName LIKE 'sysmon_%'\").collect()\n",
    "\n",
    "for t in tables:\n",
    "    bronze_table_name = f\"{__CATALOG}.{__BRONZE_SCHEMA}.{t.tableName}\"\n",
    "    print(f\"Query table: {bronze_table_name}\")\n",
    "\n",
    "    \n",
    "    df = spark.read.table(bronze_table_name) \\\n",
    "        .drop(\"@timestamp\",\"@version\",\"agent\", \"ecs\", \"log\", \"message\", \"tags\") \\\n",
    "        .withColumn(\"ts\", to_timestamp(col(\"event.created\"), \"yyyy-MM-dd'T'HH:mm:ss.SSS'Z'\")) \\\n",
    "        .withColumn(\"hostname\", col(\"host.name\")) \n",
    "\n",
    "    column_names =  df.columns\n",
    "\n",
    "    if \"rule\" in column_names:\n",
    "        df = df.withColumn(\"rule\", col(\"rule.name\"))\n",
    "\n",
    "    if \"file\" in column_names:\n",
    "        df = df.withColumn(\"filename\", col(\"file.name\"))\n",
    "    \n",
    "    if \"registry\" in column_names:\n",
    "        df = df.withColumn(\"registry_path\", col(\"registry.key\")) \n",
    "\n",
    "    if \"process\" in column_names:\n",
    "        df = df.withColumn(\"process_name\", col(\"process.name\"))\n",
    "\n",
    "    if \"user\" in column_names:\n",
    "        df = df.withColumn(\"username\", col(\"user.name\"))\n",
    "\n",
    "    df.write.format(\"delta\") \\\n",
    "        .mode(\"overwrite\") \\\n",
    "        .option(\"mergeSchema\", \"true\") \\\n",
    "        .option(\"path\", f\"s3://{__SILVER_BUCKET}/sysmon/{t.tableName.replace('sysmon_', '')}\") \\\n",
    "        .saveAsTable(f\"{__CATALOG}.{__SILVER_SCHEMA}.{t.tableName}\")\n",
    "\n",
    "\n",
    "    "
   ]
  },
  {
   "cell_type": "code",
   "execution_count": 0,
   "metadata": {
    "application/vnd.databricks.v1+cell": {
     "cellMetadata": {
      "byteLimit": 2048000,
      "rowLimit": 10000
     },
     "inputWidgets": {},
     "nuid": "567c6ef5-87fc-44d8-bfb9-6ac0e11e5825",
     "showTitle": false,
     "tableResultSettingsMap": {},
     "title": ""
    }
   },
   "outputs": [
    {
     "output_type": "stream",
     "name": "stdout",
     "output_type": "stream",
     "text": [
      "Query table: btv_dc30.silver.sysmon_clipboardchange\nQuery table: btv_dc30.silver.sysmon_createremotethread\nQuery table: btv_dc30.silver.sysmon_dnseventdnsquery\nQuery table: btv_dc30.silver.sysmon_driverloaded\nQuery table: btv_dc30.silver.sysmon_error\nQuery table: btv_dc30.silver.sysmon_filecreate\nQuery table: btv_dc30.silver.sysmon_filecreatestreamhash\nQuery table: btv_dc30.silver.sysmon_imageloaded\nQuery table: btv_dc30.silver.sysmon_networkconnection\nQuery table: btv_dc30.silver.sysmon_pipeeventpipeconnected\nQuery table: btv_dc30.silver.sysmon_pipeeventpipecreated\nQuery table: btv_dc30.silver.sysmon_processaccess\nQuery table: btv_dc30.silver.sysmon_processchangedafilecreationtime\nQuery table: btv_dc30.silver.sysmon_processcreation\nQuery table: btv_dc30.silver.sysmon_processtampering\nQuery table: btv_dc30.silver.sysmon_processterminated\nQuery table: btv_dc30.silver.sysmon_registryeventobjectcreateanddelete\nQuery table: btv_dc30.silver.sysmon_registryeventvalueset\nQuery table: btv_dc30.silver.sysmon_sysmonservicestatechanged\n"
     ]
    }
   ],
   "source": [
    "tables = spark.sql(f\"SHOW TABLES IN {__CATALOG}.{__SILVER_SCHEMA}\").filter(\"tableName LIKE 'sysmon_%'\").collect()\n",
    "\n",
    "for t in tables:\n",
    "    table_name = f\"{__CATALOG}.{__SILVER_SCHEMA}.{t.tableName}\"\n",
    "    print(f\"Query table: {table_name}\")\n",
    "    spark.sql(f\"\"\"SELECT * FROM {table_name} LIMIT 3;\"\"\")"
   ]
  },
  {
   "cell_type": "markdown",
   "metadata": {
    "application/vnd.databricks.v1+cell": {
     "cellMetadata": {},
     "inputWidgets": {},
     "nuid": "4da87769-a6a3-4ec6-953b-9197e2b77616",
     "showTitle": false,
     "tableResultSettingsMap": {},
     "title": ""
    }
   },
   "source": [
    "# Create Osquery Silver tables\n",
    "\n",
    "The code iterates over all tables in a specified Bronze schema whose names start with `osquery_`, reads each table into a PySpark DataFrame, and performs a series of transformations to normalize and prepare the data for storage in a Silver schema. \n",
    "\n",
    "It drops unnecessary metadata columns, extracts relevant fields from nested JSON structures, converts a Unix timestamp to a proper timestamp column, and flattens the JSON columns struct into individual columns. \n",
    "\n",
    "For the `osquery_iptables` table specifically, it safely casts `src_port` and `dst_port` to integers, defaulting to `0` if the values are empty or non-numeric. Finally, it writes each transformed DataFrame as a Delta table to S3, overwriting existing data and allowing schema merging.\n"
   ]
  },
  {
   "cell_type": "code",
   "execution_count": 0,
   "metadata": {
    "application/vnd.databricks.v1+cell": {
     "cellMetadata": {
      "byteLimit": 2048000,
      "rowLimit": 10000
     },
     "inputWidgets": {},
     "nuid": "526455e2-69ca-449e-a330-f359abdff432",
     "showTitle": false,
     "tableResultSettingsMap": {},
     "title": ""
    }
   },
   "outputs": [
    {
     "output_type": "stream",
     "name": "stdout",
     "output_type": "stream",
     "text": [
      "Query table: btv_dc30.bronze.osquery_cpu_time\nosquery_cpu_time - columns inferred types: {'core': 'long', 'guest': 'long', 'guest_nice': 'long', 'idle': 'long', 'iowait': 'long', 'irq': 'long', 'nice': 'long', 'softirq': 'long', 'steal': 'long', 'system': 'long', 'user': 'long'}\nQuery table: btv_dc30.bronze.osquery_device_nodes\nosquery_device_nodes - columns inferred types: {'atime': 'timestamp', 'block_size': 'long', 'ctime': 'timestamp', 'gid': 'long', 'mode': 'long', 'mtime': 'timestamp', 'path': 'string', 'type': 'string', 'uid': 'long'}\nQuery table: btv_dc30.bronze.osquery_iptables\nosquery_iptables - columns inferred types: {'bytes': 'long', 'chain': 'string', 'dst_ip': 'string', 'dst_mask': 'string', 'dst_port': 'string', 'filter_name': 'string', 'iniface': 'string', 'iniface_mask': 'string', 'match': 'string', 'outiface': 'string', 'outiface_mask': 'string', 'packets': 'long', 'policy': 'string', 'protocol': 'string', 'src_ip': 'string', 'src_mask': 'string', 'src_port': 'string', 'target': 'string'}\nQuery table: btv_dc30.bronze.osquery_kernel_modules\nosquery_kernel_modules - columns inferred types: {'address': 'string', 'name': 'string', 'size': 'long', 'status': 'string', 'used_by': 'string'}\nQuery table: btv_dc30.bronze.osquery_last\nosquery_last - columns inferred types: {'host': 'string', 'pid': 'long', 'time': 'timestamp', 'tty': 'string', 'type': 'long', 'type_name': 'string', 'username': 'string'}\nQuery table: btv_dc30.bronze.osquery_listening_ports\nosquery_listening_ports - columns inferred types: {'address': 'string', 'family': 'long', 'fd': 'long', 'net_namespace': 'long', 'path': 'string', 'pid': 'long', 'port': 'long', 'protocol': 'long', 'socket': 'long'}\nQuery table: btv_dc30.bronze.osquery_logged_in_users\nosquery_logged_in_users - columns inferred types: {'cmdline': 'string', 'cwd': 'string', 'host': 'string', 'name': 'string', 'pid': 'long', 'root': 'string', 'time': 'timestamp', 'tty': 'string', 'type': 'string', 'user': 'string'}\nQuery table: btv_dc30.bronze.osquery_memory_info\nosquery_memory_info - columns inferred types: {'active': 'long', 'buffers': 'long', 'cached': 'long', 'inactive': 'long', 'memory_free': 'long', 'memory_total': 'long', 'swap_cached': 'long', 'swap_free': 'long', 'swap_total': 'long'}\nQuery table: btv_dc30.bronze.osquery_mounts\nosquery_mounts - columns inferred types: {'blocks': 'long', 'blocks_available': 'long', 'blocks_free': 'long', 'blocks_size': 'long', 'device': 'string', 'device_alias': 'string', 'flags': 'string', 'inodes': 'long', 'inodes_free': 'long', 'path': 'string', 'type': 'string'}\nQuery table: btv_dc30.bronze.osquery_open_sockets\nosquery_open_sockets - columns inferred types: {'family': 'long', 'local_address': 'string', 'local_port': 'long', 'path': 'string', 'pid': 'long', 'protocol': 'long', 'remote_address': 'string', 'remote_port': 'long'}\nQuery table: btv_dc30.bronze.osquery_osquery_info\nosquery_osquery_info - columns inferred types: {'build_distro': 'string', 'build_platform': 'string', 'config_hash': 'string', 'config_valid': 'long', 'counter': 'long', 'extensions': 'string', 'instance_id': 'string', 'pid': 'long', 'platform_mask': 'long', 'resident_size': 'long', 'start_time': 'timestamp', 'system_time': 'timestamp', 'user_time': 'timestamp', 'uuid': 'string', 'version': 'string', 'watcher': 'long'}\nQuery table: btv_dc30.bronze.osquery_process_events\nosquery_process_events - columns inferred types: {'auid': 'long', 'cmdline': 'string', 'ctime': 'timestamp', 'cwd': 'string', 'egid': 'long', 'euid': 'long', 'gid': 'long', 'parent': 'long', 'path': 'string', 'pid': 'long', 'time': 'timestamp', 'uid': 'long'}\nQuery table: btv_dc30.bronze.osquery_runtime_perf\nosquery_runtime_perf - columns inferred types: {'build_distro': 'string', 'build_platform': 'string', 'config_hash': 'string', 'config_valid': 'long', 'counter': 'long', 'database_size': 'double', 'extensions': 'string', 'instance_id': 'string', 'os_codename': 'string', 'os_platform': 'string', 'os_version': 'string', 'pid': 'long', 'platform_mask': 'long', 'resident_size': 'long', 'start_time': 'timestamp', 'system_time': 'timestamp', 'user_time': 'timestamp', 'uuid': 'string', 'version': 'string', 'watcher': 'long'}\nQuery table: btv_dc30.bronze.osquery_schedule\nosquery_schedule - columns inferred types: {'average_memory': 'long', 'avg_system_time': 'timestamp', 'avg_user_time': 'timestamp', 'denylisted': 'long', 'executions': 'long', 'interval': 'long', 'last_executed': 'long', 'name': 'string', 'output_size': 'string', 'wall_time': 'timestamp'}\nQuery table: btv_dc30.bronze.osquery_smbios_tables\nosquery_smbios_tables - columns inferred types: {'description': 'string', 'handle': 'long', 'header_size': 'long', 'md5': 'string', 'number': 'long', 'size': 'long', 'type': 'long'}\nQuery table: btv_dc30.bronze.osquery_socket_events\nosquery_socket_events - columns inferred types: {'action': 'string', 'auid': 'long', 'family': 'long', 'local_address': 'long', 'local_port': 'long', 'path': 'string', 'pid': 'long', 'remote_address': 'string', 'remote_port': 'long', 'success': 'long', 'time': 'timestamp'}\nQuery table: btv_dc30.bronze.osquery_syslog_events\nosquery_syslog_events - columns inferred types: {'datetime': 'datetime', 'facility': 'string', 'host': 'string', 'message': 'string', 'severity': 'long', 'tag': 'string', 'time': 'timestamp'}\n"
     ]
    }
   ],
   "source": [
    "from pyspark.sql.functions import to_timestamp, col, timestamp_seconds, when\n",
    "\n",
    "\n",
    "tables = spark.sql(f\"SHOW TABLES IN {__CATALOG}.{__BRONZE_SCHEMA}\").filter(\"tableName LIKE 'osquery_%'\").collect()\n",
    "\n",
    "for t in tables:\n",
    "    bronze_table_name = f\"{__CATALOG}.{__BRONZE_SCHEMA}.{t.tableName}\"\n",
    "    print(f\"Query table: {bronze_table_name}\")\n",
    "\n",
    "    df = spark.read.table(bronze_table_name) \\\n",
    "        .drop(\"@timestamp\",\"@version\",\"agent\", \"ecs\", \"event\", \"fileset\", \"input\", \"log\", \"service\", \"tags\") \\\n",
    "        .withColumn(\"columns\", col(\"json.columns\")) \\\n",
    "        .withColumn(\"ts\", timestamp_seconds(\"json.unixTime\")) \\\n",
    "        .withColumn(\"hostname\", col(\"host.name\")) \\\n",
    "        .withColumn(\"change\", col(\"json.action\")) \n",
    "    \n",
    "    df = denullify_and_cast_struct(df, t.tableName, [\"columns\"])\n",
    "    df = df.drop(\"json\")\n",
    "\n",
    "\n",
    "    columns_fields = df.select(\"columns.*\").columns\n",
    "    df = df.select(\n",
    "        col(\"ts\"),\n",
    "        col(\"hostname\"),\n",
    "        col(\"change\"),\n",
    "        *[col(f\"columns.{c}\").alias(c) for c in columns_fields]\n",
    "    )\n",
    "\n",
    "    if t.tableName == \"osquery_iptables\":\n",
    "        df = df \\\n",
    "            .withColumn(\n",
    "                \"src_port\",\n",
    "                when(col(\"src_port\").rlike(\"^\\d+$\"), col(\"src_port\").cast(\"int\")).otherwise(0)\n",
    "            ) \\\n",
    "            .withColumn(\n",
    "                \"dst_port\",\n",
    "                when(col(\"dst_port\").rlike(\"^\\d+$\"), col(\"dst_port\").cast(\"int\")).otherwise(0)\n",
    "            )\n",
    "\n",
    "    df.write.format(\"delta\") \\\n",
    "        .mode(\"overwrite\") \\\n",
    "        .option(\"mergeSchema\", \"true\") \\\n",
    "        .option(\"path\", f\"s3://{__SILVER_BUCKET}/osquery/{t.tableName.replace('osquery_', '')}\") \\\n",
    "        .saveAsTable(f\"{__CATALOG}.{__SILVER_SCHEMA}.{t.tableName}\")\n",
    "\n",
    "    "
   ]
  },
  {
   "cell_type": "code",
   "execution_count": 0,
   "metadata": {
    "application/vnd.databricks.v1+cell": {
     "cellMetadata": {
      "byteLimit": 2048000,
      "rowLimit": 10000
     },
     "inputWidgets": {},
     "nuid": "663754e2-9632-4ebf-9034-ca03a1a533da",
     "showTitle": true,
     "tableResultSettingsMap": {},
     "title": ""
    }
   },
   "outputs": [
    {
     "output_type": "stream",
     "name": "stdout",
     "output_type": "stream",
     "text": [
      "Query table: btv_dc30.silver.osquery_cpu_time\nQuery table: btv_dc30.silver.osquery_device_nodes\nQuery table: btv_dc30.silver.osquery_iptables\nQuery table: btv_dc30.silver.osquery_kernel_modules\nQuery table: btv_dc30.silver.osquery_last\nQuery table: btv_dc30.silver.osquery_listening_ports\nQuery table: btv_dc30.silver.osquery_logged_in_users\nQuery table: btv_dc30.silver.osquery_memory_info\nQuery table: btv_dc30.silver.osquery_mounts\nQuery table: btv_dc30.silver.osquery_open_sockets\nQuery table: btv_dc30.silver.osquery_osquery_info\nQuery table: btv_dc30.silver.osquery_process_events\nQuery table: btv_dc30.silver.osquery_runtime_perf\nQuery table: btv_dc30.silver.osquery_schedule\nQuery table: btv_dc30.silver.osquery_smbios_tables\nQuery table: btv_dc30.silver.osquery_socket_events\nQuery table: btv_dc30.silver.osquery_syslog_events\n"
     ]
    }
   ],
   "source": [
    "tables = spark.sql(f\"SHOW TABLES IN {__CATALOG}.{__SILVER_SCHEMA}\").filter(\"tableName LIKE 'osquery_%'\").collect()\n",
    "\n",
    "for t in tables:\n",
    "    table_name = f\"{__CATALOG}.{__SILVER_SCHEMA}.{t.tableName}\"\n",
    "    print(f\"Query table: {table_name}\")\n",
    "    spark.sql(f\"\"\"SELECT * FROM {table_name} LIMIT 3;\"\"\")"
   ]
  },
  {
   "cell_type": "markdown",
   "metadata": {
    "application/vnd.databricks.v1+cell": {
     "cellMetadata": {},
     "inputWidgets": {},
     "nuid": "0a563488-f8c6-4797-8ee6-8a738bbdd7ff",
     "showTitle": false,
     "tableResultSettingsMap": {},
     "title": ""
    }
   },
   "source": [
    "# Create Zeek silver tables\n",
    "\n",
    "The code iterates over all tables in a specified Bronze schema whose names start with `zeek_`, reads each table into a PySpark DataFrame, and converts the `ts` column from a Unix timestamp to a proper timestamp type. \n",
    "\n",
    "If the table contains Zeek network log fields such as `id.orig_h` and `id.resp_h`, it renames them to more descriptive names (`src_ip`, `src_port`, `dest_ip`, `dest_port`). After these transformations, each DataFrame is written as a Delta table to a Silver schema in S3, overwriting existing data and allowing schema merging."
   ]
  },
  {
   "cell_type": "code",
   "execution_count": 0,
   "metadata": {
    "application/vnd.databricks.v1+cell": {
     "cellMetadata": {
      "byteLimit": 2048000,
      "rowLimit": 10000
     },
     "inputWidgets": {},
     "nuid": "08dce0b9-b3ad-4b70-9e0e-76b267fc6b75",
     "showTitle": false,
     "tableResultSettingsMap": {},
     "title": ""
    }
   },
   "outputs": [
    {
     "output_type": "stream",
     "name": "stdout",
     "output_type": "stream",
     "text": [
      "Query table: btv_dc30.bronze.zeek_cluster\n['message', 'node', 'ts']\n+--------------------+------+--------------------+\n|             message|  node|                  ts|\n+--------------------+------+--------------------+\n|node down: worker...|logger|2022-02-19 23:19:...|\n|node down: worker...|logger|2022-02-19 23:19:...|\n|node down: worker...| proxy|2022-02-19 23:19:...|\n+--------------------+------+--------------------+\nonly showing top 3 rows\nQuery table: btv_dc30.bronze.zeek_conn\n['community_id', 'conn_state', 'duration', 'history', 'id.orig_h', 'id.orig_p', 'id.resp_h', 'id.resp_p', 'local_orig', 'local_resp', 'missed_bytes', 'orig_bytes', 'orig_ip_bytes', 'orig_pkts', 'proto', 'resp_bytes', 'resp_ip_bytes', 'resp_pkts', 'service', 'ts', 'tunnel_parents', 'uid']\n+--------------------+----------+------------------+-------+-------------+--------+-----------+---------+----------+----------+------------+----------+-------------+---------+-----+----------+-------------+---------+-------+--------------------+--------------+------------------+\n|        community_id|conn_state|          duration|history|       src_ip|src_port|    dest_ip|dest_port|local_orig|local_resp|missed_bytes|orig_bytes|orig_ip_bytes|orig_pkts|proto|resp_bytes|resp_ip_bytes|resp_pkts|service|                  ts|tunnel_parents|               uid|\n+--------------------+----------+------------------+-------+-------------+--------+-----------+---------+----------+----------+------------+----------+-------------+---------+-----+----------+-------------+---------+-------+--------------------+--------------+------------------+\n|1:u5EENpgc8exkjkg...|        S0|17107.634745836258|      D|172.16.50.110|   65450|172.16.43.7|     4789|      true|      true|           0|   4398960|      4632508|     8341|  udp|         0|            0|        0|  vxlan|2022-02-12 18:56:...|          NULL|CVtleQ3ThDjqvvmTw4|\n|1:nRuSXKpSHXn3x1k...|        S0|11601.135350942612|      D|172.16.50.110|   65506|172.16.43.7|     4789|      true|      true|           0|   9127133|      9435721|    11021|  udp|         0|            0|        0|  vxlan|2022-02-12 20:28:...|          NULL|CvjIYo3XD25XbOvNii|\n|1:0SSjYfNOjMu3rpH...|        S0|12004.628880023956|      D|172.16.50.110|   65519|172.16.43.7|     4789|      true|      true|           0|   3514943|      3718559|     7272|  udp|         0|            0|        0|  vxlan|2022-02-12 20:21:...|          NULL|CrGxFv4S3VRhna3S56|\n+--------------------+----------+------------------+-------+-------------+--------+-----------+---------+----------+----------+------------+----------+-------------+---------+-----+----------+-------------+---------+-------+--------------------+--------------+------------------+\nonly showing top 3 rows\nQuery table: btv_dc30.bronze.zeek_dce_rpc\n['endpoint', 'id.orig_h', 'id.orig_p', 'id.resp_h', 'id.resp_p', 'named_pipe', 'operation', 'rtt', 'ts', 'uid']\n+--------+-------------+--------+-------------+---------+----------+-------------+----+--------------------+------------------+\n|endpoint|       src_ip|src_port|      dest_ip|dest_port|named_pipe|    operation| rtt|                  ts|               uid|\n+--------+-------------+--------+-------------+---------+----------+-------------+----+--------------------+------------------+\n|epmapper|172.16.50.132|   54410|172.16.50.101|      135|       135|      ept_map|NULL|2022-02-19 23:00:...|Ckh9X43F2fKJcZGbgj|\n| drsuapi|172.16.50.132|   54411|172.16.50.101|    49666|     49666|      DRSBind|NULL|2022-02-19 23:00:...|ClN6ZM1Q4BHcckz5qe|\n| drsuapi|172.16.50.132|   54411|172.16.50.101|    49666|     49666|DRSCrackNames|NULL|2022-02-19 23:00:...|ClN6ZM1Q4BHcckz5qe|\n+--------+-------------+--------+-------------+---------+----------+-------------+----+--------------------+------------------+\nonly showing top 3 rows\nQuery table: btv_dc30.bronze.zeek_dns\n['AA', 'RA', 'RD', 'TC', 'TTLs', 'Z', 'answers', 'id.orig_h', 'id.orig_p', 'id.resp_h', 'id.resp_p', 'proto', 'qclass', 'qclass_name', 'qtype', 'qtype_name', 'query', 'rcode', 'rcode_name', 'rejected', 'rtt', 'trans_id', 'ts', 'uid']\n+-----+-----+----+-----+--------+---+---------------+-------------+--------+-------------+---------+-----+------+-----------+-----+----------+--------------------+-----+----------+--------+--------------------+--------+--------------------+------------------+\n|   AA|   RA|  RD|   TC|    TTLs|  Z|        answers|       src_ip|src_port|      dest_ip|dest_port|proto|qclass|qclass_name|qtype|qtype_name|               query|rcode|rcode_name|rejected|                 rtt|trans_id|                  ts|               uid|\n+-----+-----+----+-----+--------+---+---------------+-------------+--------+-------------+---------+-----+------+-----------+-----+----------+--------------------+-----+----------+--------+--------------------+--------+--------------------+------------------+\n|false| true|true|false| [142.0]|  0|[142.250.190.2]|172.16.50.131|   61641|172.16.50.100|       53|  udp|     1| C_INTERNET|    1|         A|pagead2.googlesyn...|    0|   NOERROR|   false|0.001402139663696289|   19985|2022-02-19 23:00:...|CV13Ph3ka8y8sfGWgg|\n| true| true|true|false|[3600.0]|  0|[18.188.230.95]|172.16.50.137|   65148|172.16.50.100|       53|  udp|     1| C_INTERNET|    1|         A|velociraptor.magn...|    0|   NOERROR|   false|2.279281616210937...|    5795|2022-02-19 23:00:...|CyDmRV1EwgKzfVAVae|\n|false|false|true|false|    NULL|  0|           NULL|172.16.50.132|   52192|172.16.50.100|       53|  udp|     1| C_INTERNET|    6|       SOA|wkst03.magnumtemp...|    0|   NOERROR|   false|                NULL|   36452|2022-02-19 23:00:...|C9WFAK28GOVje2g8cf|\n+-----+-----+----+-----+--------+---+---------------+-------------+--------+-------------+---------+-----+------+-----------+-----+----------+--------------------+-----+----------+--------+--------------------+--------+--------------------+------------------+\nonly showing top 3 rows\nQuery table: btv_dc30.bronze.zeek_dpd\n['analyzer', 'failure_reason', 'id.orig_h', 'id.orig_p', 'id.resp_h', 'id.resp_p', 'proto', 'ts', 'uid']\n+--------+--------------------+-------------+--------+-------------+---------+-----+--------------------+------------------+\n|analyzer|      failure_reason|       src_ip|src_port|      dest_ip|dest_port|proto|                  ts|               uid|\n+--------+--------------------+-------------+--------+-------------+---------+-----+--------------------+------------------+\n| DCE_RPC|Binpac exception:...|172.16.50.135|   57713|172.16.50.110|      445|  tcp|2022-02-19 20:26:...|C1HSsd4fIsWUKuf61b|\n| DCE_RPC|Binpac exception:...|172.16.55.110|   49800|172.16.50.110|      445|  tcp|2022-02-19 20:32:...|CbwStB4ytufzVG3bzi|\n|     SMB|Binpac exception:...|172.16.50.144|   51320|172.16.50.110|      445|  tcp|2022-02-19 20:41:...| CFe0n8dQ17ViQEGW2|\n+--------+--------------------+-------------+--------+-------------+---------+-----+--------------------+------------------+\nonly showing top 3 rows\nQuery table: btv_dc30.bronze.zeek_files\n['analyzers', 'conn_uids', 'depth', 'duration', 'extracted', 'extracted_cutoff', 'filename', 'fuid', 'is_orig', 'local_orig', 'md5', 'mime_type', 'missing_bytes', 'overflow_bytes', 'rx_hosts', 'seen_bytes', 'sha1', 'sha256', 'source', 'timedout', 'total_bytes', 'ts', 'tx_hosts']\n+--------------------+--------------------+-----+--------+---------+----------------+--------------------+------------------+-------+----------+--------------------+--------------------+-------------+--------------+---------------+----------+--------------------+--------------------+------+--------+-----------+--------------------+---------------+\n|           analyzers|           conn_uids|depth|duration|extracted|extracted_cutoff|            filename|              fuid|is_orig|local_orig|                 md5|           mime_type|missing_bytes|overflow_bytes|       rx_hosts|seen_bytes|                sha1|              sha256|source|timedout|total_bytes|                  ts|       tx_hosts|\n+--------------------+--------------------+-----+--------+---------+----------------+--------------------+------------------+-------+----------+--------------------+--------------------+-------------+--------------+---------------+----------+--------------------+--------------------+------+--------+-----------+--------------------+---------------+\n|         [SHA1, MD5]|[CKMd7U18jiKFJQbfPd]|    0|     0.0|     NULL|            NULL|magnumtempus.fina...|FaStX74vet3Vftpdrk|  false|      true|7e0e096d326649619...|            text/ini|            0|             0|[172.16.50.136]|        60|5110770dc404df385...|                NULL|   SMB|   false|         60|2022-02-19 22:00:...|[172.16.50.100]|\n|[SHA1, X509, MD5,...|[C8hw8B3twqgcb3G7h3]|    0|     0.0|     NULL|            NULL|                NULL|FZxDp62abFaReQdEnj|  false|     false|951903ae25f7997d7...|application/x-x50...|            0|             0|[172.16.55.120]|      1637|da32ee8ed3c1eb173...|72f6691d936f848ed...|   SSL|   false|       NULL|2022-02-19 22:00:...|   [52.95.16.2]|\n|[SHA1, X509, MD5,...|[C8hw8B3twqgcb3G7h3]|    0|     0.0|     NULL|            NULL|                NULL|FIN31K3s59LdctGPTk|  false|     false|eb268e55d434febda...|application/x-x50...|            0|             0|[172.16.55.120]|      1101|917e732d330f9a124...|f55f9ffcb83c73453...|   SSL|   false|       NULL|2022-02-19 22:00:...|   [52.95.16.2]|\n+--------------------+--------------------+-----+--------+---------+----------------+--------------------+------------------+-------+----------+--------------------+--------------------+-------------+--------------+---------------+----------+--------------------+--------------------+------+--------+-----------+--------------------+---------------+\nonly showing top 3 rows\nQuery table: btv_dc30.bronze.zeek_http\n['host', 'id.orig_h', 'id.orig_p', 'id.resp_h', 'id.resp_p', 'info_code', 'info_msg', 'method', 'orig_filenames', 'orig_fuids', 'orig_mime_types', 'request_body_len', 'resp_filenames', 'resp_fuids', 'resp_mime_types', 'response_body_len', 'status_code', 'status_msg', 'tags', 'trans_depth', 'ts', 'uid', 'uri', 'user_agent', 'username', 'version']\n+--------------------+-------------+--------+-------------+---------+---------+--------+------+--------------+--------------------+-----------------+----------------+--------------+-------------------+-----------------+-----------------+-----------+-----------------+----+-----------+--------------------+------------------+--------------------+--------------------+--------+-------+\n|                host|       src_ip|src_port|      dest_ip|dest_port|info_code|info_msg|method|orig_filenames|          orig_fuids|  orig_mime_types|request_body_len|resp_filenames|         resp_fuids|  resp_mime_types|response_body_len|status_code|       status_msg|tags|trans_depth|                  ts|               uid|                 uri|          user_agent|username|version|\n+--------------------+-------------+--------+-------------+---------+---------+--------+------+--------------+--------------------+-----------------+----------------+--------------+-------------------+-----------------+-----------------+-----------+-----------------+----+-----------+--------------------+------------------+--------------------+--------------------+--------+-------+\n|    go.microsoft.com|172.16.50.101|   50281| 23.64.248.88|       80|     NULL|    NULL|  POST|          NULL|[FVnCXJ15N7NnkmRkUk]|[application/xml]|            1242|          NULL|               NULL|             NULL|                0|        302|Moved Temporarily|  []|          1|2022-02-19 19:05:...|CAQQHq27Po27LZ3f6j|/fwlink/?LinkID=2...|MICROSOFT_DEVICE_...|    NULL|    1.1|\n|dmd.metaservices....|172.16.50.101|   50282|20.86.173.234|       80|     NULL|    NULL|  POST|          NULL| [FX687PYeboZEnrd0d]|[application/xml]|            1242|          NULL|[FSRfZWgA2hr1TsIZ9]|[application/xml]|             1728|        200|               OK|  []|          1|2022-02-19 19:05:...|CkQAVx3TRvb8767aa5|       /metadata.svc|MICROSOFT_DEVICE_...|    NULL|    1.1|\n|    go.microsoft.com|172.16.50.101|   50283| 23.64.248.88|       80|     NULL|    NULL|  POST|          NULL| [FPA0Sfzfb4wTvEe9l]|[application/xml]|            1264|          NULL|               NULL|             NULL|                0|        302|Moved Temporarily|  []|          1|2022-02-19 19:05:...| C8e6Azqaw7leYcuEh|/fwlink/?LinkID=2...|MICROSOFT_DEVICE_...|    NULL|    1.1|\n+--------------------+-------------+--------+-------------+---------+---------+--------+------+--------------+--------------------+-----------------+----------------+--------------+-------------------+-----------------+-----------------+-----------+-----------------+----+-----------+--------------------+------------------+--------------------+--------------------+--------+-------+\nonly showing top 3 rows\nQuery table: btv_dc30.bronze.zeek_kerberos\n['cipher', 'client', 'error_msg', 'forwardable', 'id.orig_h', 'id.orig_p', 'id.resp_h', 'id.resp_p', 'renewable', 'request_type', 'service', 'success', 'till', 'ts', 'uid']\n+------+------+---------+-----------+-------------+--------+-------------+---------+---------+------------+-------+-------+----+--------------------+------------------+\n|cipher|client|error_msg|forwardable|       src_ip|src_port|      dest_ip|dest_port|renewable|request_type|service|success|till|                  ts|               uid|\n+------+------+---------+-----------+-------------+--------+-------------+---------+---------+------------+-------+-------+----+--------------------+------------------+\n|  NULL|  NULL|     NULL|       NULL|172.16.50.132|   54414|172.16.50.101|      445|     NULL|        NULL|   NULL|   NULL|NULL|2022-02-19 23:00:...| CyX1d4XvrmmbYM6sf|\n|  NULL|  NULL|     NULL|       NULL|172.16.50.132|   54415|172.16.50.101|      445|     NULL|        NULL|   NULL|   NULL|NULL|2022-02-19 23:00:...|CWjuTn432wBaY0LG67|\n|  NULL|  NULL|     NULL|       NULL|172.16.50.132|   54417|172.16.50.101|      445|     NULL|        NULL|   NULL|   NULL|NULL|2022-02-19 23:00:...| Ciyqa9uBuiReOH5J9|\n+------+------+---------+-----------+-------------+--------+-------------+---------+---------+------------+-------+-------+----+--------------------+------------------+\nonly showing top 3 rows\nQuery table: btv_dc30.bronze.zeek_known_certs\n['host', 'issuer_subject', 'port_num', 'serial', 'subject', 'ts']\n+-------------+------------------+--------+--------------------+------------------+--------------------+\n|         host|    issuer_subject|port_num|              serial|           subject|                  ts|\n+-------------+------------------+--------+--------------------+------------------+--------------------+\n|172.16.50.110|CN=EC2AMAZ-5JTRQ69|    5986|1B7344DAAF3A5F844...|CN=EC2AMAZ-5JTRQ69|2022-02-19 20:09:...|\n+-------------+------------------+--------+--------------------+------------------+--------------------+\n\nQuery table: btv_dc30.bronze.zeek_known_services\n['host', 'port_num', 'port_proto', 'service', 'ts']\n+-------------+--------+----------+---------+--------------------+\n|         host|port_num|port_proto|  service|                  ts|\n+-------------+--------+----------+---------+--------------------+\n|172.16.50.110|     135|       tcp|[DCE_RPC]|2022-02-19 21:00:...|\n|172.16.50.130|     445|       tcp|   [NTLM]|2022-02-19 21:00:...|\n|172.16.50.130|     135|       tcp|[DCE_RPC]|2022-02-19 21:00:...|\n+-------------+--------+----------+---------+--------------------+\nonly showing top 3 rows\nQuery table: btv_dc30.bronze.zeek_notice\n['actions', 'dst', 'fuid', 'id.orig_h', 'id.orig_p', 'id.resp_h', 'id.resp_p', 'msg', 'note', 'p', 'peer_descr', 'proto', 'src', 'sub', 'suppress_for', 'ts', 'uid']\n+--------------------+-------------+------------------+-------------+--------+-------------+---------+--------------------+--------------------+----+----------+-----+-------------+--------------------+------------+--------------------+------------------+\n|             actions|          dst|              fuid|       src_ip|src_port|      dest_ip|dest_port|                 msg|                note|   p|peer_descr|proto|          src|                 sub|suppress_for|                  ts|               uid|\n+--------------------+-------------+------------------+-------------+--------+-------------+---------+--------------------+--------------------+----+----------+-----+-------------+--------------------+------------+--------------------+------------------+\n|[Notice::ACTION_LOG]|172.16.55.110|FKJhaU1o055SlmxxAf|172.16.21.100|   44860|172.16.55.110|     3389|SSL certificate v...|SSL::Invalid_Serv...|3389|worker-1-1|  tcp|172.16.21.100|CN=rdp01.magnumte...|      3600.0|2022-02-19 19:09:...|CyLXiF1fIX9GJAzBZ8|\n|[Notice::ACTION_LOG]|172.16.50.101|FAOLIt4IIHK1B2ZhXe|172.16.21.100|   43172|172.16.50.101|     5986|SSL certificate v...|SSL::Invalid_Serv...|5986|worker-1-2|  tcp|172.16.21.100|  CN=EC2AMAZ-9V4RLEG|      3600.0|2022-02-19 19:11:...| COY8op3RPwcQuo2HY|\n|[Notice::ACTION_LOG]|172.16.50.100| FL2jtfakklcPYJku6|172.16.21.100|   56746|172.16.50.100|     5986|SSL certificate v...|SSL::Invalid_Serv...|5986|worker-1-1|  tcp|172.16.21.100|  CN=EC2AMAZ-NCEPIBB|      3600.0|2022-02-19 19:11:...|CepV6P26wCZhk9GXzg|\n+--------------------+-------------+------------------+-------------+--------+-------------+---------+--------------------+--------------------+----+----------+-----+-------------+--------------------+------------+--------------------+------------------+\nonly showing top 3 rows\nQuery table: btv_dc30.bronze.zeek_ntlm\n['domainname', 'hostname', 'id.orig_h', 'id.orig_p', 'id.resp_h', 'id.resp_p', 'server_dns_computer_name', 'server_nb_computer_name', 'server_tree_name', 'success', 'ts', 'uid', 'username']\n+------------+--------+-------------+--------+-------------+---------+------------------------+-----------------------+--------------------+-------+--------------------+------------------+-------------+\n|  domainname|hostname|       src_ip|src_port|      dest_ip|dest_port|server_dns_computer_name|server_nb_computer_name|    server_tree_name|success|                  ts|               uid|     username|\n+------------+--------+-------------+--------+-------------+---------+------------------------+-----------------------+--------------------+-------+--------------------+------------------+-------------+\n|        NULL|  WKST03|172.16.50.132|   49743|172.16.50.110|      445|    files.magnumtempu...|                  FILES|magnumtempus.fina...|   NULL|2022-02-19 19:03:...|CvUh6e4kYxhAOmBgld|         NULL|\n|        NULL|  WKST03|172.16.50.132|   49760|172.16.50.110|      445|    files.magnumtempu...|                  FILES|magnumtempus.fina...|   NULL|2022-02-19 19:04:...|CfFqOr4JUbVhJZ1Qt3|         NULL|\n|MAGNUMTEMPUS|    DC02|172.16.50.101|   50288|172.16.50.110|      445|    files.magnumtempu...|                  FILES|magnumtempus.fina...|   true|2022-02-19 19:05:...| Cm3rAl2jWFVMY7J0f|Administrator|\n+------------+--------+-------------+--------+-------------+---------+------------------------+-----------------------+--------------------+-------+--------------------+------------------+-------------+\nonly showing top 3 rows\nQuery table: btv_dc30.bronze.zeek_ntp\n['id.orig_h', 'id.orig_p', 'id.resp_h', 'id.resp_p', 'mode', 'num_exts', 'org_time', 'poll', 'precision', 'rec_time', 'ref_id', 'ref_time', 'root_delay', 'root_disp', 'stratum', 'ts', 'uid', 'version', 'xmt_time']\n+-------------+--------+-------------+---------+----+--------+--------------------+------+--------------------+--------------------+---------------+--------------------+-----------------+------------------+-------+--------------------+------------------+-------+--------------------+\n|       src_ip|src_port|      dest_ip|dest_port|mode|num_exts|            org_time|  poll|           precision|            rec_time|         ref_id|            ref_time|       root_delay|         root_disp|stratum|                  ts|               uid|version|            xmt_time|\n+-------------+--------+-------------+---------+----+--------+--------------------+------+--------------------+--------------------+---------------+--------------------+-----------------+------------------+-------+--------------------+------------------+-------+--------------------+\n|172.16.50.110|     123|168.61.215.74|      123|   3|       0|1.6453070979216926E9|1024.0|1.192092895507812...| 1.645307097938019E9|  168.61.215.74|1.6453080711906874E9|    0.03564453125|0.0475006103515625|      4|2022-02-19 22:02:...| CccJufMq9wGRTODV7|      3|1.6453081219246874E9|\n|172.16.50.110|     123|168.61.215.74|      123|   4|       0|1.6453081219246874E9|1024.0|1.192092895507812...|1.6453081219496887E9|    25.66.230.3|1.6453081132146902E9|0.001495361328125|   0.0230712890625|      3|2022-02-19 22:02:...| CccJufMq9wGRTODV7|      3|1.6453081219496908E9|\n|172.16.50.100|     123|168.61.215.74|      123|   3|       0|1.6453075499920328E9|1024.0|1.192092895507812...| 1.645307550009401E9|169.254.169.123|1.6453085070478964E9|5.035400390625E-4|0.0510101318359375|      4|2022-02-19 22:09:...|CGm3k31pf31NzHb1F5|      3|1.6453085739848967E9|\n+-------------+--------+-------------+---------+----+--------+--------------------+------+--------------------+--------------------+---------------+--------------------+-----------------+------------------+-------+--------------------+------------------+-------+--------------------+\nonly showing top 3 rows\nQuery table: btv_dc30.bronze.zeek_pe\n['compile_ts', 'has_cert_table', 'has_debug_data', 'has_export_table', 'has_import_table', 'id', 'is_64bit', 'is_exe', 'machine', 'os', 'section_names', 'subsystem', 'ts', 'uses_aslr', 'uses_code_integrity', 'uses_dep', 'uses_seh']\n+------------+--------------+--------------+----------------+----------------+------------------+--------+------+-------+--------------------+--------------------+-----------+--------------------+---------+-------------------+--------+--------+\n|  compile_ts|has_cert_table|has_debug_data|has_export_table|has_import_table|                id|is_64bit|is_exe|machine|                  os|       section_names|  subsystem|                  ts|uses_aslr|uses_code_integrity|uses_dep|uses_seh|\n+------------+--------------+--------------+----------------+----------------+------------------+--------+------+-------+--------------------+--------------------+-----------+--------------------+---------+-------------------+--------+--------+\n|1.62082501E9|          true|          true|           false|            true|FjI2Qf37hkjwgSUrs8|    true|  true|  AMD64|Windows XP x64 or...|[.text, .rdata, ....|WINDOWS_CUI|2022-02-19 21:01:...|     true|              false|    true|    true|\n|1.62082501E9|          true|          true|           false|            true|FAXAq2474UuaFJZl49|    true|  true|  AMD64|Windows XP x64 or...|[.text, .rdata, ....|WINDOWS_CUI|2022-02-19 21:01:...|     true|              false|    true|    true|\n|1.62082501E9|          true|          true|           false|            true|FYQt2E41rV4Su5wak2|    true|  true|  AMD64|Windows XP x64 or...|[.text, .rdata, ....|WINDOWS_CUI|2022-02-19 21:02:...|     true|              false|    true|    true|\n+------------+--------------+--------------+----------------+----------------+------------------+--------+------+-------+--------------------+--------------------+-----------+--------------------+---------+-------------------+--------+--------+\nonly showing top 3 rows\nQuery table: btv_dc30.bronze.zeek_rdp\n['cert_count', 'cookie', 'id.orig_h', 'id.orig_p', 'id.resp_h', 'id.resp_p', 'result', 'security_protocol', 'ts', 'uid']\n+----------+--------------+-------------+--------+-------------+---------+---------+-----------------+--------------------+------------------+\n|cert_count|        cookie|       src_ip|src_port|      dest_ip|dest_port|   result|security_protocol|                  ts|               uid|\n+----------+--------------+-------------+--------+-------------+---------+---------+-----------------+--------------------+------------------+\n|         0|amanda.nuensis|3.129.164.140|   35958|172.16.55.110|     3389|encrypted|           HYBRID|2022-02-19 20:08:...|CgkC9v2aPBPXKTP6Ih|\n|         0|amanda.nuensis|3.129.164.140|   35962|172.16.55.110|     3389|encrypted|           HYBRID|2022-02-19 20:08:...|CQ45om1IF54piQZtN5|\n|         0|    ben.cordus|3.129.164.140|   35968|172.16.55.110|     3389|encrypted|           HYBRID|2022-02-19 20:08:...|CjgtZG1HSzEBhsCm07|\n+----------+--------------+-------------+--------+-------------+---------+---------+-----------------+--------------------+------------------+\nonly showing top 3 rows\nQuery table: btv_dc30.bronze.zeek_reporter\n['level', 'location', 'message', 'ts']\n+--------------+--------+--------------------+--------------------+\n|         level|location|             message|                  ts|\n+--------------+--------+--------------------+--------------------+\n|Reporter::INFO|        |received terminat...|2022-02-19 23:19:...|\n|Reporter::INFO|        |3467488 packets r...|2022-02-19 23:19:...|\n|Reporter::INFO|        |received terminat...|2022-02-19 23:19:...|\n+--------------+--------+--------------------+--------------------+\nonly showing top 3 rows\nQuery table: btv_dc30.bronze.zeek_smb_files\n['action', 'fuid', 'id.orig_h', 'id.orig_p', 'id.resp_h', 'id.resp_p', 'name', 'path', 'prev_name', 'size', 'times.accessed', 'times.changed', 'times.created', 'times.modified', 'ts', 'uid']\n+--------------+----+-------------+--------+-------------+---------+--------------------+--------------------+---------+----+--------------------+--------------------+--------------------+--------------------+--------------------+------------------+\n|        action|fuid|       src_ip|src_port|      dest_ip|dest_port|                name|                path|prev_name|size|      times.accessed|       times.changed|       times.created|      times.modified|                  ts|               uid|\n+--------------+----+-------------+--------+-------------+---------+--------------------+--------------------+---------+----+--------------------+--------------------+--------------------+--------------------+--------------------+------------------+\n|SMB::FILE_OPEN|NULL|172.16.50.136|   50991|172.16.50.100|      445|magnumtempus.fina...|                NULL|     NULL|  64|1.6445941334618144E9|1.6446161603028145E9|1.6445941334618144E9|1.6446161603028145E9|2022-02-19 22:00:...|COe5IJ2espzAslgMTi|\n|SMB::FILE_OPEN|NULL|172.16.50.136|   50989|172.16.50.100|      445|magnumtempus.fina...|\\\\dc.magnumtempus...|     NULL|  60|1.6450478713317018E9|1.6450497155279708E9|1.6450478713317018E9|1.6450497155279708E9|2022-02-19 22:00:...|CKMd7U18jiKFJQbfPd|\n|SMB::FILE_OPEN|NULL|172.16.50.136|   50989|172.16.50.100|      445|magnumtempus.fina...|\\\\dc.magnumtempus...|     NULL|  59|1.6446451937366977E9|1.6446455657810977E9|1.6446451937366977E9|1.6446455657810977E9|2022-02-19 22:00:...|CKMd7U18jiKFJQbfPd|\n+--------------+----+-------------+--------+-------------+---------+--------------------+--------------------+---------+----+--------------------+--------------------+--------------------+--------------------+--------------------+------------------+\nonly showing top 3 rows\nQuery table: btv_dc30.bronze.zeek_smb_mapping\n['id.orig_h', 'id.orig_p', 'id.resp_h', 'id.resp_p', 'path', 'share_type', 'ts', 'uid']\n+-------------+--------+-------------+---------+--------------------+----------+--------------------+------------------+\n|       src_ip|src_port|      dest_ip|dest_port|                path|share_type|                  ts|               uid|\n+-------------+--------+-------------+---------+--------------------+----------+--------------------+------------------+\n|172.16.50.132|   49716|172.16.50.101|      445|\\\\dc02.magnumtemp...|      PIPE|2022-02-19 19:00:...|Cp5h2T1tncVNAClQAd|\n|172.16.50.132|   49716|172.16.50.101|      445|\\\\dc02.magnumtemp...|      PIPE|2022-02-19 19:00:...|Cp5h2T1tncVNAClQAd|\n|172.16.50.132|   49670|172.16.50.100|      445|\\\\dc.magnumtempus...|      PIPE|2022-02-19 19:00:...| CK39TcTMqFqHHMwdk|\n+-------------+--------+-------------+---------+--------------------+----------+--------------------+------------------+\nonly showing top 3 rows\nQuery table: btv_dc30.bronze.zeek_smtp\n['cc', 'date', 'from', 'fuids', 'helo', 'id.orig_h', 'id.orig_p', 'id.resp_h', 'id.resp_p', 'in_reply_to', 'is_webmail', 'last_reply', 'mailfrom', 'msg_id', 'path', 'rcptto', 'subject', 'tls', 'to', 'trans_depth', 'ts', 'uid', 'user_agent']\n+--------------------+--------------------+--------------------+--------------------+---------------+-------------+--------+-------------+---------+--------------------+----------+-----------+--------------------+--------------------+--------------------+--------------------+--------------------+-----+--------------------+-----------+--------------------+------------------+--------------------+\n|                  cc|                date|                from|               fuids|           helo|       src_ip|src_port|      dest_ip|dest_port|         in_reply_to|is_webmail| last_reply|            mailfrom|              msg_id|                path|              rcptto|             subject|  tls|                  to|trans_depth|                  ts|               uid|          user_agent|\n+--------------------+--------------------+--------------------+--------------------+---------------+-------------+--------+-------------+---------+--------------------+----------+-----------+--------------------+--------------------+--------------------+--------------------+--------------------+-----+--------------------+-----------+--------------------+------------------+--------------------+\n|[\"indi.dago@magnu...|Sat, 19 Feb 2022 ...|Timothy Vanidicus...|[FwirKKAZED001ZXN...|[172.16.50.140]|172.16.50.140|   58007|172.16.50.110|       25|<8183904e-af84-e3...|     false|221 goodbye|timothy.vanidicus...|<6eff08b4-a5ef-e4...|[172.16.50.110, 1...|[estevan.mcnullen...|Re: Help Installi...|false|[\"kama.suppetia@m...|          1|2022-02-19 22:01:...|CZHdYH1Cc8jHngzFak|Mozilla/5.0 (Wind...|\n|[\"indi.dago@magnu...|Sat, 19 Feb 2022 ...|Estevan Mcnullen ...|[FxvaFL1k5HbOjV4H...|[172.16.50.136]|172.16.50.136|   51000|172.16.50.110|       25|<6eff08b4-a5ef-e4...|     false|221 goodbye|estevan.mcnullen@...|<e792d560-28af-0d...|[172.16.50.110, 1...|[kama.suppetia@ma...|Re: Help Installi...|false|[\"kama.suppetia@m...|          1|2022-02-19 22:01:...| CLzsD6fOTrH5ozaC2|Mozilla/5.0 (Wind...|\n|                NULL|Sat, 19 Feb 2022 ...|kama suppetia <ka...|[F8OWmvK4Yo5KuqH,...|[172.16.50.135]|172.16.50.135|   64525|172.16.50.110|       25|<e792d560-28af-0d...|     false|221 goodbye|kama.suppetia@mag...|<a340035e-2d18-da...|[172.16.50.110, 1...|[estevan.mcnullen...|Re: Help Installi...|false|[Estevan Mcnullen...|          1|2022-02-19 22:03:...|CqYUWi4VCl6UzlHBBj|Mozilla/5.0 (Wind...|\n+--------------------+--------------------+--------------------+--------------------+---------------+-------------+--------+-------------+---------+--------------------+----------+-----------+--------------------+--------------------+--------------------+--------------------+--------------------+-----+--------------------+-----------+--------------------+------------------+--------------------+\nonly showing top 3 rows\nQuery table: btv_dc30.bronze.zeek_software\n['host', 'host_p', 'name', 'software_type', 'ts', 'unparsed_version', 'version.addl', 'version.major', 'version.minor', 'version.minor2', 'version.minor3']\n+-------------+------+--------------------+-------------+--------------------+--------------------+------------+-------------+-------------+--------------+--------------+\n|         host|host_p|                name|software_type|                  ts|    unparsed_version|version.addl|version.major|version.minor|version.minor2|version.minor3|\n+-------------+------+--------------------+-------------+--------------------+--------------------+------------+-------------+-------------+--------------+--------------+\n|172.16.50.101|  NULL|MICROSOFT_DEVICE_...|HTTP::BROWSER|2022-02-19 19:05:...|MICROSOFT_DEVICE_...|        NULL|         NULL|         NULL|          NULL|          NULL|\n|172.16.55.110|  NULL|    OfficeClickToRun|HTTP::BROWSER|2022-02-19 19:12:...|    OfficeClickToRun|        NULL|         NULL|         NULL|          NULL|          NULL|\n|172.16.55.110|  NULL|      Microsoft BITS|HTTP::BROWSER|2022-02-19 19:12:...|  Microsoft BITS/7.8|        NULL|            7|            8|          NULL|          NULL|\n+-------------+------+--------------------+-------------+--------------------+--------------------+------------+-------------+-------------+--------------+--------------+\nonly showing top 3 rows\nQuery table: btv_dc30.bronze.zeek_ssl\n['cert_chain_fuids', 'cipher', 'client_cert_chain_fuids', 'curve', 'established', 'id.orig_h', 'id.orig_p', 'id.resp_h', 'id.resp_p', 'issuer', 'ja3', 'ja3s', 'last_alert', 'next_protocol', 'resumed', 'server_name', 'subject', 'ts', 'uid', 'validation_status', 'version']\n+--------------------+--------------------+-----------------------+---------+-----------+-------------+--------+-------------+---------+--------------------+--------------------+--------------------+----------+-------------+-------+--------------------+--------------------+--------------------+------------------+--------------------+-------+\n|    cert_chain_fuids|              cipher|client_cert_chain_fuids|    curve|established|       src_ip|src_port|      dest_ip|dest_port|              issuer|                 ja3|                ja3s|last_alert|next_protocol|resumed|         server_name|             subject|                  ts|               uid|   validation_status|version|\n+--------------------+--------------------+-----------------------+---------+-----------+-------------+--------+-------------+---------+--------------------+--------------------+--------------------+----------+-------------+-------+--------------------+--------------------+--------------------+------------------+--------------------+-------+\n|[FeQcr22oTDbjlMZN...|TLS_ECDHE_RSA_WIT...|                     []|secp256r1|       true|172.16.55.120|   46284|   52.95.16.2|      443|CN=Amazon,OU=Serv...|9ba77659ae2b811ba...|e36e593c5f33a620e...|      NULL|         NULL|  false|ec2.us-east-2.ama...|CN=ec2.us-east-2....|2022-02-19 23:00:...| C5daXu2LC9INUFXoj|                  ok| TLSv12|\n|                NULL|TLS_AES_128_GCM_S...|                   NULL|   x25519|       true|172.16.55.120|   47850|18.188.230.95|      443|                NULL|53e24c8e301bf0333...|fcb2d4d0991292272...|      NULL|         NULL|   true|velociraptor.magn...|                NULL|2022-02-19 23:00:...|  C4HweiU0esn36uFy|                NULL| TLSv13|\n|[FqGQ8f18OTld9p5HR5]|TLS_ECDHE_RSA_WIT...|                     []|   x25519|       true|172.16.55.110|   52081| 172.16.50.10|     5044|emailAddress=admi...|19e29534fd49dd27d...|fbe78c619e7ea2004...|      NULL|         NULL|  false|                NULL|emailAddress=admi...|2022-02-19 23:00:...|CVpgZx3fmDkKNs1wY7|self signed certi...| TLSv12|\n+--------------------+--------------------+-----------------------+---------+-----------+-------------+--------+-------------+---------+--------------------+--------------------+--------------------+----------+-------------+-------+--------------------+--------------------+--------------------+------------------+--------------------+-------+\nonly showing top 3 rows\nQuery table: btv_dc30.bronze.zeek_stats\n['active_dns_requests', 'active_files', 'active_icmp_conns', 'active_tcp_conns', 'active_timers', 'active_udp_conns', 'bytes_recv', 'dns_requests', 'events_proc', 'events_queued', 'files', 'icmp_conns', 'mem', 'peer', 'pkt_lag', 'pkts_dropped', 'pkts_link', 'pkts_proc', 'reassem_file_size', 'reassem_frag_size', 'reassem_tcp_size', 'reassem_unknown_size', 'tcp_conns', 'timers', 'ts', 'udp_conns']\n+-------------------+------------+-----------------+----------------+-------------+----------------+----------+------------+-----------+-------------+-----+----------+---+-------+-------+------------+---------+---------+-----------------+-----------------+----------------+--------------------+---------+------+--------------------+---------+\n|active_dns_requests|active_files|active_icmp_conns|active_tcp_conns|active_timers|active_udp_conns|bytes_recv|dns_requests|events_proc|events_queued|files|icmp_conns|mem|   peer|pkt_lag|pkts_dropped|pkts_link|pkts_proc|reassem_file_size|reassem_frag_size|reassem_tcp_size|reassem_unknown_size|tcp_conns|timers|                  ts|udp_conns|\n+-------------------+------------+-----------------+----------------+-------------+----------------+----------+------------+-----------+-------------+-----+----------+---+-------+-------+------------+---------+---------+-----------------+-----------------+----------------+--------------------+---------+------+--------------------+---------+\n|                  0|           0|                0|               0|           69|               0|         0|           0|        335|          333|    0|         0| 90| logger|   NULL|        NULL|     NULL|        0|                0|                0|               0|                   0|        0|  1655|2022-02-19 23:00:...|        0|\n|                  0|           0|                0|               0|           46|               0|         0|           0|        339|          339|    0|         0| 86|manager|   NULL|        NULL|     NULL|        0|                0|                0|               0|                   0|        0|  1741|2022-02-19 23:00:...|        0|\n|                  0|           0|                0|               0|           43|               0|         0|           0|        349|          349|    0|         0| 83|  proxy|   NULL|        NULL|     NULL|        0|                0|                0|               0|                   0|        0|  1623|2022-02-19 23:00:...|        0|\n+-------------------+------------+-----------------+----------------+-------------+----------------+----------+------------+-----------+-------------+-----+----------+---+-------+-------+------------+---------+---------+-----------------+-----------------+----------------+--------------------+---------+------+--------------------+---------+\nonly showing top 3 rows\nQuery table: btv_dc30.bronze.zeek_tunnel\n['action', 'id.orig_h', 'id.orig_p', 'id.resp_h', 'id.resp_p', 'ts', 'tunnel_type', 'uid']\n+----------------+-------------+--------+-----------+---------+--------------------+-------------+------------------+\n|          action|       src_ip|src_port|    dest_ip|dest_port|                  ts|  tunnel_type|               uid|\n+----------------+-------------+--------+-----------+---------+--------------------+-------------+------------------+\n|Tunnel::DISCOVER|172.16.50.100|   65412|172.16.43.7|     4789|2022-02-19 20:59:...|Tunnel::VXLAN|CHWyoo1FtBMryyiaef|\n|   Tunnel::CLOSE|172.16.50.100|   65417|172.16.43.7|     4789|2022-02-19 20:59:...|Tunnel::VXLAN| CW6cip3CBN2dNe0iv|\n|Tunnel::DISCOVER|172.16.50.100|   65473|172.16.43.7|     4789|2022-02-19 21:00:...|Tunnel::VXLAN| CVUiJNJjz9XZT96V5|\n+----------------+-------------+--------+-----------+---------+--------------------+-------------+------------------+\nonly showing top 3 rows\nQuery table: btv_dc30.bronze.zeek_weird\n['addl', 'id.orig_h', 'id.orig_p', 'id.resp_h', 'id.resp_p', 'name', 'notice', 'peer', 'source', 'ts', 'uid']\n+----+-------------+--------+-------------+---------+--------------------+------+----------+-------+--------------------+------------------+\n|addl|       src_ip|src_port|      dest_ip|dest_port|                name|notice|      peer| source|                  ts|               uid|\n+----+-------------+--------+-------------+---------+--------------------+------+----------+-------+--------------------+------------------+\n|  68|172.16.50.136|   50994|172.16.50.101|    49666|unknown_dce_rpc_a...| false|worker-1-2|DCE_RPC|2022-02-19 22:00:...|Cy7XXh1iMWQVBNK8jk|\n|  68|172.16.50.144|   52417|172.16.50.101|    49679|unknown_dce_rpc_a...| false|worker-1-1|DCE_RPC|2022-02-19 22:00:...| CFfVmkMIWiPVVJdm8|\n|  68|172.16.50.144|   52421|172.16.50.101|    49666|unknown_dce_rpc_a...| false|worker-1-1|DCE_RPC|2022-02-19 22:00:...|CPPtuh2ileRWefYsTh|\n+----+-------------+--------+-------------+---------+--------------------+------+----------+-------+--------------------+------------------+\nonly showing top 3 rows\n"
     ]
    }
   ],
   "source": [
    "from pyspark.sql.functions import to_timestamp, col, timestamp_seconds, when\n",
    "\n",
    "\n",
    "tables = spark.sql(f\"SHOW TABLES IN {__CATALOG}.{__BRONZE_SCHEMA}\").filter(\"tableName LIKE 'zeek_%'\").collect()\n",
    "\n",
    "for t in tables:\n",
    "    table_name = f\"{__CATALOG}.{__BRONZE_SCHEMA}.{t.tableName}\"\n",
    "    print(f\"Query table: {table_name}\")\n",
    "\n",
    "    df = spark.read.table(table_name)\n",
    "    df = df.withColumn(\"ts\", timestamp_seconds(\"ts\"))\n",
    "\n",
    "    column_names =  df.columns\n",
    "    if \"id.orig_h\" in column_names:\n",
    "        df = df.withColumnRenamed(\"id.orig_h\", \"src_ip\") \\\n",
    "            .withColumnRenamed(\"id.orig_p\", \"src_port\") \\\n",
    "            .withColumnRenamed(\"id.resp_h\", \"dest_ip\") \\\n",
    "            .withColumnRenamed(\"id.resp_p\", \"dest_port\")\n",
    "    \n",
    "    df.write.format(\"delta\") \\\n",
    "        .mode(\"overwrite\") \\\n",
    "        .option(\"mergeSchema\", \"true\") \\\n",
    "        .option(\"path\", f\"s3://{__SILVER_BUCKET}/zeek/{t.tableName.replace('zeek_', '')}\") \\\n",
    "        .saveAsTable(f\"{__CATALOG}.{__SILVER_SCHEMA}.{t.tableName}\")\n",
    "\n"
   ]
  },
  {
   "cell_type": "code",
   "execution_count": 0,
   "metadata": {
    "application/vnd.databricks.v1+cell": {
     "cellMetadata": {
      "byteLimit": 2048000,
      "rowLimit": 10000
     },
     "inputWidgets": {},
     "nuid": "90121326-7155-413f-922a-c243b40c24e6",
     "showTitle": false,
     "tableResultSettingsMap": {},
     "title": ""
    }
   },
   "outputs": [
    {
     "output_type": "stream",
     "name": "stdout",
     "output_type": "stream",
     "text": [
      "Query table: btv_dc30.silver.zeek_cluster\nQuery table: btv_dc30.silver.zeek_conn\nQuery table: btv_dc30.silver.zeek_dce_rpc\nQuery table: btv_dc30.silver.zeek_dns\nQuery table: btv_dc30.silver.zeek_dpd\nQuery table: btv_dc30.silver.zeek_files\nQuery table: btv_dc30.silver.zeek_http\nQuery table: btv_dc30.silver.zeek_kerberos\nQuery table: btv_dc30.silver.zeek_known_certs\nQuery table: btv_dc30.silver.zeek_known_services\nQuery table: btv_dc30.silver.zeek_notice\nQuery table: btv_dc30.silver.zeek_ntlm\nQuery table: btv_dc30.silver.zeek_ntp\nQuery table: btv_dc30.silver.zeek_pe\nQuery table: btv_dc30.silver.zeek_rdp\nQuery table: btv_dc30.silver.zeek_reporter\nQuery table: btv_dc30.silver.zeek_smb_files\nQuery table: btv_dc30.silver.zeek_smb_mapping\nQuery table: btv_dc30.silver.zeek_smtp\nQuery table: btv_dc30.silver.zeek_software\nQuery table: btv_dc30.silver.zeek_ssl\nQuery table: btv_dc30.silver.zeek_stats\nQuery table: btv_dc30.silver.zeek_tunnel\nQuery table: btv_dc30.silver.zeek_weird\n"
     ]
    }
   ],
   "source": [
    "tables = spark.sql(f\"SHOW TABLES IN {__CATALOG}.{__SILVER_SCHEMA}\").filter(\"tableName LIKE 'zeek_%'\").collect()\n",
    "\n",
    "for t in tables:\n",
    "    table_name = f\"{__CATALOG}.{__SILVER_SCHEMA}.{t.tableName}\"\n",
    "    print(f\"Query table: {table_name}\")\n",
    "    spark.sql(f\"\"\"SELECT * FROM {table_name} LIMIT 3;\"\"\")"
   ]
  },
  {
   "cell_type": "markdown",
   "metadata": {
    "application/vnd.databricks.v1+cell": {
     "cellMetadata": {},
     "inputWidgets": {},
     "nuid": "383f0b53-9349-432e-aabb-9e05130049e0",
     "showTitle": false,
     "tableResultSettingsMap": {},
     "title": ""
    }
   },
   "source": [
    "# Create hMail silver tables"
   ]
  },
  {
   "cell_type": "markdown",
   "metadata": {
    "application/vnd.databricks.v1+cell": {
     "cellMetadata": {},
     "inputWidgets": {},
     "nuid": "1154a8cf-af08-42d7-bf6e-1e03dd5ebd1c",
     "showTitle": false,
     "tableResultSettingsMap": {},
     "title": ""
    }
   },
   "source": [
    "## hMail SMTPD logs"
   ]
  },
  {
   "cell_type": "code",
   "execution_count": 0,
   "metadata": {
    "application/vnd.databricks.v1+cell": {
     "cellMetadata": {
      "byteLimit": 2048000,
      "rowLimit": 10000
     },
     "inputWidgets": {},
     "nuid": "3249c31b-56aa-423f-8e7b-282372ccd1f4",
     "showTitle": false,
     "tableResultSettingsMap": {},
     "title": ""
    }
   },
   "outputs": [],
   "source": [
    "from pyspark.sql.functions import to_timestamp, col, split, regexp_replace\n",
    "from pyspark.sql.types import IntegerType\n",
    "\n",
    "hmail_smtpd_df = spark.read.table(f\"{__CATALOG}.{__BRONZE_SCHEMA}.hmail_smtpd\") \\\n",
    "    .select(\"message\", \"host\") \\\n",
    "    .withColumnRenamed(\"message\", \"raw_msg\") \\\n",
    "    .withColumn(\"hostname\", col(\"host.name\")) \\\n",
    "    .drop(\"host\")\n",
    "    \n",
    "hmail_smtpd_df_transformed = hmail_smtpd_df.withColumn(\"parts\", split(col(\"raw_msg\"), \"\\t\")) \\\n",
    "    .withColumn(\n",
    "        \"ts\",\n",
    "        to_timestamp(\n",
    "            regexp_replace(col(\"parts\")[3], '^\"|\"$', ''),  # Remove leading and trailing double quotes\n",
    "            \"yyyy-MM-dd HH:mm:ss.SSS\"  # Define the timestamp format\n",
    "        )\n",
    "    ) \\\n",
    "    .withColumn(\"service\", regexp_replace(col(\"parts\")[0], '\"', '')) \\\n",
    "    .withColumn(\"client_ip\", regexp_replace(col(\"parts\")[4], '\"', '')) \\\n",
    "    .withColumn(\"message\", regexp_replace(col(\"parts\")[5], '\"', '')) \\\n",
    "    .drop(\"raw_msg\", \"parts\")\n",
    "\n",
    "# hmail_smtpd_df_transformed.printSchema()\n",
    "# hmail_smtpd_df_transformed.show(truncate=False)\n",
    "\n",
    "hmail_smtpd_df_transformed.write.format(\"delta\") \\\n",
    "  .mode(\"overwrite\") \\\n",
    "  .option(\"mergeSchema\", \"true\") \\\n",
    "  .option(\"path\", f\"s3://{__SILVER_BUCKET}/hmail/smtpd\") \\\n",
    "  .saveAsTable(f\"{__CATALOG}.{__SILVER_SCHEMA}.hmail_smtpd\")\n"
   ]
  },
  {
   "cell_type": "markdown",
   "metadata": {
    "application/vnd.databricks.v1+cell": {
     "cellMetadata": {},
     "inputWidgets": {},
     "nuid": "a3907cc9-2316-429d-9e1f-aec4a58da0a5",
     "showTitle": false,
     "tableResultSettingsMap": {},
     "title": ""
    }
   },
   "source": [
    "## hMail SMTP logs"
   ]
  },
  {
   "cell_type": "code",
   "execution_count": 0,
   "metadata": {
    "application/vnd.databricks.v1+cell": {
     "cellMetadata": {
      "byteLimit": 2048000,
      "rowLimit": 10000
     },
     "inputWidgets": {},
     "nuid": "b8c834ad-5f71-48ce-8d2f-a5374bc6a5b3",
     "showTitle": false,
     "tableResultSettingsMap": {},
     "title": ""
    }
   },
   "outputs": [
    {
     "output_type": "stream",
     "name": "stdout",
     "output_type": "stream",
     "text": [
      "root\n |-- hostname: string (nullable = true)\n |-- ts: timestamp (nullable = true)\n |-- sender: string (nullable = true)\n |-- recipient: string (nullable = true)\n |-- client_ip: string (nullable = true)\n |-- server_ip: string (nullable = true)\n |-- protocol: string (nullable = true)\n |-- status_code: integer (nullable = true)\n |-- session_id: integer (nullable = true)\n\n+--------+-------------------+------------------------------------+------------------------------------------+-------------+---------+--------+-----------+----------+\n|hostname|ts                 |sender                              |recipient                                 |client_ip    |server_ip|protocol|status_code|session_id|\n+--------+-------------------+------------------------------------+------------------------------------------+-------------+---------+--------+-----------+----------+\n|files   |2022-02-19 19:37:01|kama.suppetia@magnumtempus.financial|clarie.insigni@magnumtempusfinancial.com  |172.16.50.135|127.0.0.1|SMTP    |250        |36579     |\n|files   |2022-02-19 19:37:01|kama.suppetia@magnumtempus.financial|amanda.nuensis@magnumtempusfinancial.com  |172.16.50.135|127.0.0.1|SMTP    |250        |36579     |\n|files   |2022-02-19 19:37:01|kama.suppetia@magnumtempus.financial|autumn.mi@magnumtempusfinancial.com       |172.16.50.135|127.0.0.1|SMTP    |250        |36579     |\n|files   |2022-02-19 19:37:01|kama.suppetia@magnumtempus.financial|ben.cordus@magnumtempusfinancial.com      |172.16.50.135|127.0.0.1|SMTP    |250        |36579     |\n|files   |2022-02-19 19:37:01|kama.suppetia@magnumtempus.financial|brad.cudo@magnumtempusfinancial.com       |172.16.50.135|127.0.0.1|SMTP    |250        |36579     |\n|files   |2022-02-19 19:37:01|kama.suppetia@magnumtempus.financial|brent.socium@magnumtempusfinancial.com    |172.16.50.135|127.0.0.1|SMTP    |250        |36579     |\n|files   |2022-02-19 19:37:01|kama.suppetia@magnumtempus.financial|celiste.pecunia@magnumtempusfinancial.com |172.16.50.135|127.0.0.1|SMTP    |250        |36579     |\n|files   |2022-02-19 19:37:01|kama.suppetia@magnumtempus.financial|chris.mcquay@magnumtempusfinancial.com    |172.16.50.135|127.0.0.1|SMTP    |250        |36579     |\n|files   |2022-02-19 19:37:01|kama.suppetia@magnumtempus.financial|condi.prince@magnumtempusfinancial.com    |172.16.50.135|127.0.0.1|SMTP    |250        |36579     |\n|files   |2022-02-19 19:37:01|kama.suppetia@magnumtempus.financial|connie.mendax@magnumtempusfinancial.com   |172.16.50.135|127.0.0.1|SMTP    |250        |36579     |\n|files   |2022-02-19 19:37:01|kama.suppetia@magnumtempus.financial|corro.goh@magnumtempusfinancial.com       |172.16.50.135|127.0.0.1|SMTP    |250        |36579     |\n|files   |2022-02-19 19:37:01|kama.suppetia@magnumtempus.financial|denarius.repo@magnumtempusfinancial.com   |172.16.50.135|127.0.0.1|SMTP    |250        |36579     |\n|files   |2022-02-19 19:37:01|kama.suppetia@magnumtempus.financial|domi.nusvir@magnumtempusfinancial.com     |172.16.50.135|127.0.0.1|SMTP    |250        |36579     |\n|files   |2022-02-19 19:37:01|kama.suppetia@magnumtempus.financial|donny.indoles@magnumtempusfinancial.com   |172.16.50.135|127.0.0.1|SMTP    |250        |36579     |\n|files   |2022-02-19 19:37:01|kama.suppetia@magnumtempus.financial|estevan.mcnullen@magnumtempusfinancial.com|172.16.50.135|127.0.0.1|SMTP    |250        |36579     |\n|files   |2022-02-19 19:37:01|kama.suppetia@magnumtempus.financial|fauci.numus@magnumtempusfinancial.com     |172.16.50.135|127.0.0.1|SMTP    |250        |36579     |\n|files   |2022-02-19 19:37:01|kama.suppetia@magnumtempus.financial|geri.scelerri@magnumtempusfinancial.com   |172.16.50.135|127.0.0.1|SMTP    |250        |36579     |\n|files   |2022-02-19 19:37:01|kama.suppetia@magnumtempus.financial|henry.riteli@magnumtempusfinancial.com    |172.16.50.135|127.0.0.1|SMTP    |250        |36579     |\n|files   |2022-02-19 19:37:01|kama.suppetia@magnumtempus.financial|indi.dago@magnumtempusfinancial.com       |172.16.50.135|127.0.0.1|SMTP    |250        |36579     |\n|files   |2022-02-19 19:37:01|kama.suppetia@magnumtempus.financial|jason.fallo@magnumtempusfinancial.com     |172.16.50.135|127.0.0.1|SMTP    |250        |36579     |\n+--------+-------------------+------------------------------------+------------------------------------------+-------------+---------+--------+-----------+----------+\nonly showing top 20 rows\n"
     ]
    }
   ],
   "source": [
    "from pyspark.sql.functions import to_timestamp, col, split, regexp_replace\n",
    "from pyspark.sql.types import IntegerType\n",
    "\n",
    "hmail_smtp_df = spark.read.table(f\"{__CATALOG}.{__BRONZE_SCHEMA}.hmail_smtp\") \\\n",
    "    .select(\"message\", \"host\") \\\n",
    "    .withColumnRenamed(\"message\", \"raw_msg\") \\\n",
    "    .withColumn(\"hostname\", col(\"host.name\")) \\\n",
    "    .drop(\"host\")\n",
    "\n",
    "hmail_smtp_df_transformed = hmail_smtp_df.withColumn(\"parts\", split(col(\"raw_msg\"), \"\\t\")) \\\n",
    "    .withColumn(\n",
    "        \"ts\",\n",
    "        to_timestamp(\n",
    "            regexp_replace(col(\"parts\")[0], '^\"|\"$', ''),  # Remove leading and trailing double quotes\n",
    "            \"yyyy-MM-dd HH:mm:ss\"  # Define the timestamp format\n",
    "        )\n",
    "    ) \\\n",
    "    .withColumn(\"sender\", col(\"parts\")[1]) \\\n",
    "    .withColumn(\"recipient\", col(\"parts\")[2]) \\\n",
    "    .withColumn(\"client_ip\", col(\"parts\")[3]) \\\n",
    "    .withColumn(\"server_ip\", col(\"parts\")[4]) \\\n",
    "    .withColumn(\"protocol\", col(\"parts\")[5]) \\\n",
    "    .withColumn(\"status_code\", col(\"parts\")[7].cast(IntegerType())) \\\n",
    "    .withColumn(\"session_id\", col(\"parts\")[8].cast(IntegerType())) \\\n",
    "    .drop(\"raw_msg\", \"parts\", \"message\")\n",
    "\n",
    "\n",
    "hmail_smtp_df_transformed.write.format(\"delta\") \\\n",
    "  .mode(\"overwrite\") \\\n",
    "  .option(\"mergeSchema\", \"true\") \\\n",
    "  .option(\"path\", f\"s3://{__SILVER_BUCKET}/hmail/smtp\") \\\n",
    "  .saveAsTable(f\"{__CATALOG}.{__SILVER_SCHEMA}.hmail_smtp\")\n"
   ]
  },
  {
   "cell_type": "markdown",
   "metadata": {
    "application/vnd.databricks.v1+cell": {
     "cellMetadata": {},
     "inputWidgets": {},
     "nuid": "0b4265af-3542-495b-be62-ab31b93bf866",
     "showTitle": false,
     "tableResultSettingsMap": {},
     "title": ""
    }
   },
   "source": [
    "## hMail IMAPD logs"
   ]
  },
  {
   "cell_type": "code",
   "execution_count": 0,
   "metadata": {
    "application/vnd.databricks.v1+cell": {
     "cellMetadata": {
      "byteLimit": 2048000,
      "rowLimit": 10000
     },
     "inputWidgets": {},
     "nuid": "7204d89a-063c-4f7f-bf8d-97c41453477b",
     "showTitle": false,
     "tableResultSettingsMap": {},
     "title": ""
    }
   },
   "outputs": [],
   "source": [
    "from pyspark.sql.functions import to_timestamp, col, split, regexp_replace\n",
    "from pyspark.sql.types import IntegerType\n",
    "\n",
    "hmail_impad_df = spark.read.table(f\"{__CATALOG}.{__BRONZE_SCHEMA}.hmail_impad\") \\\n",
    "    .select(\"message\", \"host\") \\\n",
    "    .withColumnRenamed(\"message\", \"raw_msg\") \\\n",
    "    .withColumn(\"hostname\", col(\"host.name\")) \\\n",
    "    .drop(\"host\")\n",
    "\n",
    "imapd_df_transformed = hmail_impad_df.withColumn(\"parts\", split(col(\"raw_msg\"), \"\\t\")) \\\n",
    "    .withColumn(\n",
    "        \"ts\",\n",
    "        to_timestamp(\n",
    "            regexp_replace(col(\"parts\")[3], '^\"|\"$', ''),  # Remove leading and trailing double quotes\n",
    "            \"yyyy-MM-dd HH:mm:ss.SSS\"  # Define the timestamp format\n",
    "        )\n",
    "    ) \\\n",
    "    .withColumn(\"service\", regexp_replace(col(\"parts\")[0], '\"', '')) \\\n",
    "    .withColumn(\"session_id\", col(\"parts\")[1].cast(IntegerType())) \\\n",
    "    .withColumn(\"client_ip\", regexp_replace(col(\"parts\")[4], '\"', '')) \\\n",
    "    .withColumn(\"message\", regexp_replace(col(\"parts\")[5], '\"', '')) \\\n",
    "    .drop(\"raw_msg\", \"parts\")\n",
    "\n",
    "#imapd_df_transformed.printSchema()\n",
    "#imapd_df_transformed.show(truncate=False)\n",
    "\n",
    "imapd_df_transformed.write.format(\"delta\") \\\n",
    "  .mode(\"overwrite\") \\\n",
    "  .option(\"mergeSchema\", \"true\") \\\n",
    "  .option(\"path\", f\"s3://{__SILVER_BUCKET}/hmail/imapd\") \\\n",
    "  .saveAsTable(f\"{__CATALOG}.{__SILVER_SCHEMA}.hmail_imapd\")\n",
    "\n"
   ]
  },
  {
   "cell_type": "markdown",
   "metadata": {
    "application/vnd.databricks.v1+cell": {
     "cellMetadata": {},
     "inputWidgets": {},
     "nuid": "5f821c6f-cf95-48d3-a66e-f38a56d80bff",
     "showTitle": false,
     "tableResultSettingsMap": {},
     "title": ""
    }
   },
   "source": [
    "## hMail Application logs"
   ]
  },
  {
   "cell_type": "code",
   "execution_count": 0,
   "metadata": {
    "application/vnd.databricks.v1+cell": {
     "cellMetadata": {
      "byteLimit": 2048000,
      "rowLimit": 10000
     },
     "inputWidgets": {},
     "nuid": "9ecae242-f91b-4190-89a7-d2f03bbc4ff8",
     "showTitle": false,
     "tableResultSettingsMap": {},
     "title": ""
    }
   },
   "outputs": [],
   "source": [
    "from pyspark.sql.functions import to_timestamp, col, split, regexp_replace, regexp_extract\n",
    "from pyspark.sql.types import IntegerType\n",
    "\n",
    "hmail_app_df = spark.read.table(f\"{__CATALOG}.{__BRONZE_SCHEMA}.hmail_app\") \\\n",
    "    .select(\"message\", \"host\") \\\n",
    "    .withColumnRenamed(\"message\", \"raw_msg\") \\\n",
    "    .withColumn(\"hostname\", col(\"host.name\")) \\\n",
    "    .drop(\"host\")\n",
    "\n",
    "hmail_app_df_transformed = hmail_app_df.withColumn(\"parts\", split(col(\"raw_msg\"), \"\\t\")) \\\n",
    "    .withColumn(\n",
    "        \"ts\",\n",
    "        to_timestamp(\n",
    "            regexp_replace(col(\"parts\")[2], '^\"|\"$', ''),  # Remove leading and trailing double quotes\n",
    "            \"yyyy-MM-dd HH:mm:ss.SSS\"  # Define the timestamp format\n",
    "        )\n",
    "    ) \\\n",
    "    .withColumn(\"service\", regexp_replace(col(\"parts\")[0], '\"', '')) \\\n",
    "    .withColumn(\"message\", regexp_replace(col(\"parts\")[3], '\"', '')) \\\n",
    "    .drop(\"raw_msg\", \"parts\")\n",
    "\n",
    "# hmail_app_df_transformed.printSchema()\n",
    "# hmail_app_df_transformed.show(truncate=False)\n",
    "\n",
    "imapd_df_transformed.write.format(\"delta\") \\\n",
    "  .mode(\"overwrite\") \\\n",
    "  .option(\"mergeSchema\", \"true\") \\\n",
    "  .option(\"path\", f\"s3://{__SILVER_BUCKET}/hmail/app\") \\\n",
    "  .saveAsTable(f\"{__CATALOG}.{__SILVER_SCHEMA}.hmail_app\")\n"
   ]
  },
  {
   "cell_type": "markdown",
   "metadata": {
    "application/vnd.databricks.v1+cell": {
     "cellMetadata": {},
     "inputWidgets": {},
     "nuid": "37f2b83e-51f3-424f-b760-27674daa8827",
     "showTitle": false,
     "tableResultSettingsMap": {},
     "title": ""
    }
   },
   "source": [
    "## hMail TCPIP logs"
   ]
  },
  {
   "cell_type": "code",
   "execution_count": 0,
   "metadata": {
    "application/vnd.databricks.v1+cell": {
     "cellMetadata": {
      "byteLimit": 2048000,
      "rowLimit": 10000
     },
     "inputWidgets": {},
     "nuid": "d2807876-c2f6-4a35-af6f-6c87b9e01c0d",
     "showTitle": false,
     "tableResultSettingsMap": {},
     "title": ""
    }
   },
   "outputs": [],
   "source": [
    "hmail_tcpip_df = spark.read.table(f\"{__CATALOG}.{__BRONZE_SCHEMA}.hmail_tcpip\") \\\n",
    "    .select(\"message\", \"host\") \\\n",
    "    .withColumnRenamed(\"message\", \"raw_msg\") \\\n",
    "    .withColumn(\"hostname\", col(\"host.name\")) \\\n",
    "    .drop(\"host\")\n",
    "\n",
    "hmail_tcpip_df_transformed = hmail_tcpip_df.withColumn(\"parts\", split(col(\"raw_msg\"), \"\\t\")) \\\n",
    "    .withColumn(\n",
    "        \"ts\",\n",
    "        to_timestamp(\n",
    "            regexp_replace(col(\"parts\")[2], '^\"|\"$', ''),  # Remove leading and trailing double quotes\n",
    "            \"yyyy-MM-dd HH:mm:ss.SSS\"  # Define the timestamp format\n",
    "        )\n",
    "    ) \\\n",
    "    .withColumn(\"service\", regexp_replace(col(\"parts\")[0], '\"', '')) \\\n",
    "    .withColumn(\"message\", regexp_replace(col(\"parts\")[3], '\"', '')) \\\n",
    "    .drop(\"raw_msg\", \"parts\")\n",
    "\n",
    "# hmail_tcpip_df_transformed.printSchema()\n",
    "# hmail_tcpip_df_transformed.show(truncate=False)\n",
    "\n",
    "\n",
    "hmail_tcpip_df_transformed.write.format(\"delta\") \\\n",
    "  .mode(\"overwrite\") \\\n",
    "  .option(\"mergeSchema\", \"true\") \\\n",
    "  .option(\"path\", f\"s3://{__SILVER_BUCKET}/hmail/tcpip\") \\\n",
    "  .saveAsTable(f\"{__CATALOG}.{__SILVER_SCHEMA}.hmail_tcpip\")"
   ]
  },
  {
   "cell_type": "code",
   "execution_count": 0,
   "metadata": {
    "application/vnd.databricks.v1+cell": {
     "cellMetadata": {
      "byteLimit": 2048000,
      "rowLimit": 10000
     },
     "inputWidgets": {},
     "nuid": "2a130c3a-5dda-4d9b-bbf0-8a4a4fa9e80a",
     "showTitle": false,
     "tableResultSettingsMap": {},
     "title": ""
    }
   },
   "outputs": [
    {
     "output_type": "stream",
     "name": "stdout",
     "output_type": "stream",
     "text": [
      "Query table: btv_dc30.silver.hmail_app\nQuery table: btv_dc30.silver.hmail_imapd\nQuery table: btv_dc30.silver.hmail_smtp\nQuery table: btv_dc30.silver.hmail_smtpd\nQuery table: btv_dc30.silver.hmail_tcpip\n"
     ]
    }
   ],
   "source": [
    "tables = spark.sql(f\"SHOW TABLES IN {__CATALOG}.{__SILVER_SCHEMA}\").filter(\"tableName LIKE 'hmail_%'\").collect()\n",
    "\n",
    "for t in tables:\n",
    "    table_name = f\"{__CATALOG}.{__SILVER_SCHEMA}.{t.tableName}\"\n",
    "    print(f\"Query table: {table_name}\")\n",
    "    spark.sql(f\"\"\"SELECT * FROM {table_name} LIMIT 3;\"\"\")"
   ]
  },
  {
   "cell_type": "markdown",
   "metadata": {
    "application/vnd.databricks.v1+cell": {
     "cellMetadata": {},
     "inputWidgets": {},
     "nuid": "c8ddaf84-3478-4b9c-92f6-3331a60ddaf5",
     "showTitle": false,
     "tableResultSettingsMap": {},
     "title": ""
    }
   },
   "source": [
    "# Create Wineventlogs silver tables"
   ]
  },
  {
   "cell_type": "code",
   "execution_count": 0,
   "metadata": {
    "application/vnd.databricks.v1+cell": {
     "cellMetadata": {
      "byteLimit": 2048000,
      "rowLimit": 10000
     },
     "inputWidgets": {},
     "nuid": "90e1ecf7-e3ae-4e42-8ca6-7e7a2008d42b",
     "showTitle": false,
     "tableResultSettingsMap": {},
     "title": ""
    }
   },
   "outputs": [
    {
     "output_type": "stream",
     "name": "stdout",
     "output_type": "stream",
     "text": [
      "Query table: btv_dc30.bronze.wineventlogs_application\nQuery table: btv_dc30.bronze.wineventlogs_microsoft_windows_powershell\nQuery table: btv_dc30.bronze.wineventlogs_microsoft_windows_smbserver\nQuery table: btv_dc30.bronze.wineventlogs_microsoft_windows_sysmon\nQuery table: btv_dc30.bronze.wineventlogs_microsoft_windows_terminalservices_localsessionmanager\nQuery table: btv_dc30.bronze.wineventlogs_microsoft_windows_terminalservices_remoteconnectionmanager\n"
     ]
    }
   ],
   "source": [
    "from pyspark.sql.functions import col\n",
    "from pyspark.sql.types import IntegerType\n",
    "\n",
    "\n",
    "tables = spark.sql(f\"SHOW TABLES IN {__CATALOG}.{__BRONZE_SCHEMA}\").filter(\"tableName LIKE 'wineventlogs_%'\").collect()\n",
    "\n",
    "\n",
    "for t in tables:\n",
    "    table_name = f\"{__CATALOG}.{__BRONZE_SCHEMA}.{t.tableName}\"\n",
    "    print(f\"Query table: {table_name}\")\n",
    "\n",
    "    df = spark.read.table(table_name) \\\n",
    "        .drop(\"@timestamp\",\"@version\",\"agent\", \"ecs\", \"log\", \"tags\") \\\n",
    "        .withColumn(\"ts\", to_timestamp(col(\"event.created\"), \"yyyy-MM-dd'T'HH:mm:ss.SSS'Z'\")) \\\n",
    "        .withColumn(\"hostname\", col(\"host.name\")) \\\n",
    "\n",
    "    df = df.select(\n",
    "        \"*\",  # Include all existing columns\n",
    "        *[col(f\"winlog.{c}\").alias(c) for c in df.select(\"winlog.*\").columns]  # Flatten 'winlog' struct\n",
    "    ).drop(\"winlog\", \"api\", \"computer_name\")\n",
    "\n",
    "    df.write.format(\"delta\") \\\n",
    "        .mode(\"overwrite\") \\\n",
    "        .option(\"mergeSchema\", \"true\") \\\n",
    "        .option(\"path\", f\"s3://{__SILVER_BUCKET}/wineventlogs/{t.tableName.replace('wineventlogs_', '')}\") \\\n",
    "        .saveAsTable(f\"{__CATALOG}.{__SILVER_SCHEMA}.{t.tableName}\")\n",
    "\n"
   ]
  },
  {
   "cell_type": "markdown",
   "metadata": {
    "application/vnd.databricks.v1+cell": {
     "cellMetadata": {},
     "inputWidgets": {},
     "nuid": "d3dfeb41-add0-43b7-8090-85b84763375d",
     "showTitle": false,
     "tableResultSettingsMap": {},
     "title": ""
    }
   },
   "source": []
  }
 ],
 "metadata": {
  "application/vnd.databricks.v1+notebook": {
   "computePreferences": null,
   "dashboards": [],
   "environmentMetadata": {
    "base_environment": "",
    "environment_version": "2"
   },
   "inputWidgetPreferences": null,
   "language": "python",
   "notebookMetadata": {
    "mostRecentlyExecutedCommandWithImplicitDF": {
     "commandId": 7794612563347684,
     "dataframes": [
      "_sqldf"
     ]
    },
    "pythonIndentUnit": 4
   },
   "notebookName": "create_silver_tables",
   "widgets": {}
  },
  "language_info": {
   "name": "python"
  }
 },
 "nbformat": 4,
 "nbformat_minor": 0
}
