{
 "cells": [
  {
   "cell_type": "markdown",
   "metadata": {
    "application/vnd.databricks.v1+cell": {
     "cellMetadata": {},
     "inputWidgets": {},
     "nuid": "250228ef-b63e-4620-9338-5ba9fe5e1d24",
     "showTitle": false,
     "tableResultSettingsMap": {},
     "title": ""
    }
   },
   "source": [
    "# Create bronze tables\n",
    "\n",
    "This code is designed for Databricks to process and ingest various JSON datasets from an S3 bucket into a Delta Lake catalog. It defines custom schemas using PySpark's StructType, MapType, and ArrayType to handle complex, nested JSON structures. The script iterates over the S3 bucket's contents, identifying directories that start with specific prefixes like sysmon, wineventlogs, or zeek. For each identified directory, it reads the corresponding JSON files into DataFrames using the predefined schemas and writes them to Delta tables in the specified catalog and schema. The get_zeek_sourcetypes function is utilized to dynamically discover and process Zeek log files based on their filenames. This approach ensures that structured and semi-structured log data is efficiently ingested into Databricks for further analysis. Lastly, each DataFrame is written as Delta table in Unity Catalog under the `btv_dc30.bronze` schema, overwriting any existing tables with the same name. Each folder becomes a table, with its name used as the table name."
   ]
  },
  {
   "cell_type": "code",
   "execution_count": null,
   "metadata": {
    "application/vnd.databricks.v1+cell": {
     "cellMetadata": {
      "byteLimit": 2048000,
      "rowLimit": 10000
     },
     "inputWidgets": {},
     "nuid": "69b5ef34-3e2a-44ca-ba7f-241b16153c63",
     "showTitle": false,
     "tableResultSettingsMap": {},
     "title": ""
    }
   },
   "outputs": [],
   "source": [
    "__CATALOG = \"btv_dc30\"\n",
    "__SCHEMA = \"bronze\"\n",
    "__BUCKET = \"btv-dc30-bronze-t7rrh\""
   ]
  },
  {
   "cell_type": "code",
   "execution_count": null,
   "metadata": {
    "application/vnd.databricks.v1+cell": {
     "cellMetadata": {
      "byteLimit": 2048000,
      "rowLimit": 10000
     },
     "inputWidgets": {},
     "nuid": "cf9eead4-da70-41bf-a075-43b6d7c7f0a9",
     "showTitle": false,
     "tableResultSettingsMap": {},
     "title": ""
    }
   },
   "outputs": [
    {
     "name": "stdout",
     "output_type": "stream",
     "text": [
      "hmail\n",
      "btv_dc30.bronze.hmail\n",
      "osquery\n",
      "btv_dc30.bronze.osquery\n",
      "sysmon\n",
      "btv_dc30.bronze.sysmon\n",
      "wineventlogs\n",
      "btv_dc30.bronze.wineventlogs\n",
      "zeek\n",
      "btv_dc30.bronze.zeek_kerberos\n",
      "btv_dc30.bronze.zeek_conn\n",
      "btv_dc30.bronze.zeek_cluster\n",
      "btv_dc30.bronze.zeek_capture_loss\n",
      "btv_dc30.bronze.zeek_notice\n",
      "btv_dc30.bronze.zeek_dns\n",
      "btv_dc30.bronze.zeek_pe\n",
      "btv_dc30.bronze.zeek_known_services\n",
      "btv_dc30.bronze.zeek_smb_files\n",
      "btv_dc30.bronze.zeek_reporter\n",
      "btv_dc30.bronze.zeek_broker\n",
      "btv_dc30.bronze.zeek_http\n",
      "btv_dc30.bronze.zeek_smtp\n",
      "btv_dc30.bronze.zeek_ntp\n",
      "btv_dc30.bronze.zeek_smb_mapping\n",
      "btv_dc30.bronze.zeek_dce_rpc\n",
      "btv_dc30.bronze.zeek_tunnel\n",
      "btv_dc30.bronze.zeek_weird\n",
      "btv_dc30.bronze.zeek_rdp\n",
      "btv_dc30.bronze.zeek_dpd\n",
      "btv_dc30.bronze.zeek_x509\n",
      "btv_dc30.bronze.zeek_ssl\n",
      "btv_dc30.bronze.zeek_known_certs\n",
      "btv_dc30.bronze.zeek_files\n",
      "btv_dc30.bronze.zeek_stats\n",
      "btv_dc30.bronze.zeek_ntlm\n",
      "btv_dc30.bronze.zeek_software\n"
     ]
    }
   ],
   "source": [
    "from pyspark.sql.functions import to_timestamp, from_unixtime, col, timestamp_millis\n",
    "from pyspark.sql.types import (\n",
    "    StructType, \n",
    "    StructField, \n",
    "    StringType, \n",
    "    MapType, \n",
    "    ArrayType, \n",
    "    BooleanType, \n",
    "    IntegerType,\n",
    "    TimestampType\n",
    ")\n",
    "\n",
    "\n",
    "sysmon_bronze_schema = StructType([\n",
    "    StructField(\"agent\", MapType(StringType(), StringType()), True),\n",
    "    StructField(\"@timestamp\", TimestampType(), True),\n",
    "    StructField(\"rule\", MapType(StringType(), StringType()), True),\n",
    "    StructField(\"winlog\", \n",
    "        StructType([\n",
    "            StructField(\"api\", StringType(), True),\n",
    "            StructField(\"channel\", StringType(), True),\n",
    "            StructField(\"computer_name\", StringType(), True),\n",
    "            StructField(\"event_data\", MapType(StringType(), StringType()), True),\n",
    "            StructField(\"event_id\", StringType(), True),\n",
    "            StructField(\"keywords\", ArrayType(StringType()), True),\n",
    "            StructField(\"opcode\", StringType(), True),\n",
    "            StructField(\"process\", MapType(StringType(), IntegerType()), True),\n",
    "            StructField(\"provider_guid\", StringType(), True),\n",
    "            StructField(\"provider_name\", StringType(), True),\n",
    "            StructField(\"task\", StringType(), True),\n",
    "            StructField(\"record_id\", StringType(), True),\n",
    "            StructField(\"version\", StringType(), True),\n",
    "        ]),\n",
    "        True,\n",
    "    ),\n",
    "    StructField(\"@version\", StringType(), True),\n",
    "    StructField(\"host\", MapType(StringType(), StringType()), True),\n",
    "    StructField(\"message\", StringType(), True),\n",
    "    StructField(\"process\", MapType(StringType(), StringType()), True),\n",
    "    StructField(\"ecs\", MapType(StringType(), StringType()), True),\n",
    "    StructField(\"event\", MapType(StringType(), StringType()), True),\n",
    "    StructField(\"tags\", ArrayType(StringType()), True),\n",
    "    StructField(\"log\", MapType(StringType(), StringType()), True),\n",
    "    StructField(\"file\", MapType(StringType(), StringType()), True),\n",
    "    StructField(\"registry\", MapType(StringType(), StringType()), True)\n",
    "])\n",
    "\n",
    "wineventlogs_bronze_schema = StructType([\n",
    "    StructField(\"tags\", ArrayType(StringType()), True),\n",
    "    StructField(\"winlog\", MapType(StringType(), StringType()), True),\n",
    "    StructField(\"computer_name\", StringType(), True),\n",
    "    StructField(\"event_id\", StringType(), True),\n",
    "    StructField(\"api\", StringType(), True),\n",
    "    StructField(\"channel\", StringType(), True),\n",
    "    StructField(\"provider_guid\", StringType(), True),\n",
    "    StructField(\"opcode\", StringType(), True),\n",
    "    StructField(\"task\", StringType(), True),\n",
    "    StructField(\"record_id\", IntegerType(), True),\n",
    "    StructField(\"version\", IntegerType(), True),\n",
    "    StructField(\"process\", MapType(StringType(), StringType()), True),\n",
    "    StructField(\"keywords\", ArrayType(StringType()), True),\n",
    "    StructField(\"provider_name\", StringType(), True),\n",
    "    StructField(\"log\", MapType(StringType(), StringType()), True),\n",
    "    StructField(\"@timestamp\", TimestampType(), True),\n",
    "    StructField(\"agent\", MapType(StringType(), StringType()), True),\n",
    "    StructField(\"message\", StringType(), True),\n",
    "    StructField(\"@version\", StringType(), True),\n",
    "    StructField(\"event\", MapType(StringType(), StringType()), True),\n",
    "    StructField(\"host\", MapType(StringType(), StringType()), True),\n",
    "    StructField(\"ecs\", MapType(StringType(), StringType()), True)\n",
    "])\n",
    "\n",
    "def get_dir_content(ls_path):\n",
    "    dir_paths = dbutils.fs.ls(ls_path)\n",
    "    subdir_paths = [get_dir_content(p.path) for p in dir_paths if p.isDir() and p.path != ls_path]\n",
    "    flat_subdir_paths = [p for subdir in subdir_paths for p in subdir]\n",
    "    return list(map(lambda p: p.path, dir_paths)) + flat_subdir_paths\n",
    "\n",
    "def get_zeek_sourcetypes(ls_path):\n",
    "    sourcetypes = set()\n",
    "    paths = get_dir_content(ls_path)\n",
    "    for p in paths:\n",
    "        if not p.endswith(\".log\"):\n",
    "            continue\n",
    "        sourcetype = p.split(\"/\")[-1].split(\".\", 1)[0]\n",
    "        sourcetypes.add(sourcetype)\n",
    "\n",
    "    return sourcetypes\n",
    "\n",
    "for datasource in dbutils.fs.ls(f\"s3://{__BUCKET}/\"):\n",
    "    print(datasource.name.rstrip(\"/\"))\n",
    "    if datasource.name.startswith(\"_\"):\n",
    "        continue\n",
    "    elif datasource.name.startswith(\"sysmon\"):\n",
    "        print (f\"{__CATALOG}.{__SCHEMA}.{datasource.name.rstrip('/')}\")\n",
    "        df = spark.read.schema(sysmon_bronze_schema).json(f\"s3://{__BUCKET}/{datasource.name.rstrip('/')}\")\n",
    "        df.write.mode(\"overwrite\").saveAsTable(f\"`{__CATALOG}`.{__SCHEMA}.{datasource.name.rstrip('/')}\")\n",
    "    elif datasource.name.startswith(\"wineventlogs\"):\n",
    "        print (f\"{__CATALOG}.{__SCHEMA}.{datasource.name.rstrip('/')}\")\n",
    "        df = spark.read.schema(wineventlogs_bronze_schema).json(f\"s3://{__BUCKET}/{datasource.name.rstrip('/')}\")\n",
    "        df.write.mode(\"overwrite\").saveAsTable(f\"`{__CATALOG}`.{__SCHEMA}.{datasource.name.rstrip('/')}\")\n",
    "    # Zeek\n",
    "    elif datasource.name.startswith(\"zeek\"):\n",
    "        sourcetypes = get_zeek_sourcetypes(f\"s3://{__BUCKET}/zeek/\")\n",
    "        for sourcetype in sourcetypes:\n",
    "            if sourcetype == \"conn-summary\":\n",
    "                continue\n",
    "            print (f\"{__CATALOG}.{__SCHEMA}.{datasource.name.rstrip('/')}_{sourcetype}\")\n",
    "            df = spark.read.json(f\"s3://{__BUCKET}/{datasource.name.rstrip('/')}/**/{sourcetype}*\")\n",
    "            df_with_timestamp = df.withColumn(\"ts\", to_timestamp(from_unixtime(col(\"ts\"))))\n",
    "            wp = f\"{__CATALOG}.{__SCHEMA}.{datasource.name.rstrip('/')}_{sourcetype.replace('-', '_')}\"\n",
    "            df_with_timestamp.write.mode(\"overwrite\").saveAsTable(wp)\n",
    "    else:\n",
    "        print (f\"{__CATALOG}.{__SCHEMA}.{datasource.name.rstrip('/')}\")\n",
    "        df = spark.read.json(f\"s3://{__BUCKET}/{datasource.name.rstrip('/')}\")\n",
    "        df_with_timestamp = df.withColumn(\"@timestamp\", to_timestamp(\"@timestamp\", \"yyyy-MM-dd'T'HH:mm:ss.SSS'Z'\"))\n",
    "        df_with_timestamp.write.mode(\"overwrite\") \\\n",
    "                .saveAsTable(f\"`{__CATALOG}`.{__SCHEMA}.{datasource.name.rstrip('/')}\")\n",
    "        "
   ]
  },
  {
   "cell_type": "markdown",
   "metadata": {
    "application/vnd.databricks.v1+cell": {
     "cellMetadata": {},
     "inputWidgets": {},
     "nuid": "31ffb137-201d-4e6f-8a01-896965abd23d",
     "showTitle": false,
     "tableResultSettingsMap": {},
     "title": ""
    }
   },
   "source": [
    "# Verify table creation\n"
   ]
  },
  {
   "cell_type": "code",
   "execution_count": null,
   "metadata": {
    "application/vnd.databricks.v1+cell": {
     "cellMetadata": {
      "byteLimit": 2048000,
      "implicitDf": true,
      "rowLimit": 10000
     },
     "inputWidgets": {},
     "nuid": "aa05f8eb-72ab-4221-adbe-88a6c1bece55",
     "showTitle": false,
     "tableResultSettingsMap": {},
     "title": ""
    }
   },
   "outputs": [
    {
     "data": {
      "text/html": [
       "<style scoped>\n",
       "  .table-result-container {\n",
       "    max-height: 300px;\n",
       "    overflow: auto;\n",
       "  }\n",
       "  table, th, td {\n",
       "    border: 1px solid black;\n",
       "    border-collapse: collapse;\n",
       "  }\n",
       "  th, td {\n",
       "    padding: 5px;\n",
       "  }\n",
       "  th {\n",
       "    text-align: left;\n",
       "  }\n",
       "</style><div class='table-result-container'><table class='table-result'><thead style='background-color: white'><tr><th>@timestamp</th><th>@version</th><th>agent</th><th>ecs</th><th>fields</th><th>host</th><th>input</th><th>log</th><th>message</th><th>service</th><th>tags</th></tr></thead><tbody><tr><td>2022-02-12T18:55:28.706Z</td><td>1</td><td>List(311bb01e-323f-46fb-8eea-3ddbabb8d60b, files, 6c9a9834-52f8-4d57-8c16-4f3bd9022475, files, filebeat, 7.16.2)</td><td>List(1.12.0)</td><td>List(List(hmail))</td><td>List(files)</td><td>List(log)</td><td>List(List(C:\\Program Files (x86)\\hMailServer\\Logs\\hmailserver_2022-02-12.log), 760962)</td><td>\"TCPIP\"\t2784\t\"2022-02-12 18:55:26.773\"\t\"TCP - 172.16.50.130 connected to 172.16.50.110:143.\"</td><td>List(hmail)</td><td>List(beats_input_codec_plain_applied)</td></tr><tr><td>2022-02-12T18:55:28.706Z</td><td>1</td><td>List(311bb01e-323f-46fb-8eea-3ddbabb8d60b, files, 6c9a9834-52f8-4d57-8c16-4f3bd9022475, files, filebeat, 7.16.2)</td><td>List(1.12.0)</td><td>List(List(hmail))</td><td>List(files)</td><td>List(log)</td><td>List(List(C:\\Program Files (x86)\\hMailServer\\Logs\\hmailserver_2022-02-12.log), 761056)</td><td>\"TCPIP\"\t2796\t\"2022-02-12 18:55:26.773\"\t\"TCP - 172.16.50.130 connected to 172.16.50.110:143.\"</td><td>List(hmail)</td><td>List(beats_input_codec_plain_applied)</td></tr><tr><td>2022-02-12T18:55:28.707Z</td><td>1</td><td>List(311bb01e-323f-46fb-8eea-3ddbabb8d60b, files, 6c9a9834-52f8-4d57-8c16-4f3bd9022475, files, filebeat, 7.16.2)</td><td>List(1.12.0)</td><td>List(List(hmail))</td><td>List(files)</td><td>List(log)</td><td>List(List(C:\\Program Files (x86)\\hMailServer\\Logs\\hmailserver_2022-02-12.log), 761150)</td><td>\"IMAPD\"\t2784\t3171\t\"2022-02-12 18:55:26.773\"\t\"172.16.50.130\"\t\"SENT: * OK IMAPrev1\"</td><td>List(hmail)</td><td>List(beats_input_codec_plain_applied)</td></tr></tbody></table></div>"
      ]
     },
     "metadata": {
      "application/vnd.databricks.v1+output": {
       "addedWidgets": {},
       "aggData": [],
       "aggError": "",
       "aggOverflow": false,
       "aggSchema": [],
       "aggSeriesLimitReached": false,
       "aggType": "",
       "arguments": {},
       "columnCustomDisplayInfos": {},
       "data": [
        [
         "2022-02-12T18:55:28.706Z",
         "1",
         [
          "311bb01e-323f-46fb-8eea-3ddbabb8d60b",
          "files",
          "6c9a9834-52f8-4d57-8c16-4f3bd9022475",
          "files",
          "filebeat",
          "7.16.2"
         ],
         [
          "1.12.0"
         ],
         [
          [
           "hmail"
          ]
         ],
         [
          "files"
         ],
         [
          "log"
         ],
         [
          [
           "C:\\Program Files (x86)\\hMailServer\\Logs\\hmailserver_2022-02-12.log"
          ],
          760962
         ],
         "\"TCPIP\"\t2784\t\"2022-02-12 18:55:26.773\"\t\"TCP - 172.16.50.130 connected to 172.16.50.110:143.\"",
         [
          "hmail"
         ],
         [
          "beats_input_codec_plain_applied"
         ]
        ],
        [
         "2022-02-12T18:55:28.706Z",
         "1",
         [
          "311bb01e-323f-46fb-8eea-3ddbabb8d60b",
          "files",
          "6c9a9834-52f8-4d57-8c16-4f3bd9022475",
          "files",
          "filebeat",
          "7.16.2"
         ],
         [
          "1.12.0"
         ],
         [
          [
           "hmail"
          ]
         ],
         [
          "files"
         ],
         [
          "log"
         ],
         [
          [
           "C:\\Program Files (x86)\\hMailServer\\Logs\\hmailserver_2022-02-12.log"
          ],
          761056
         ],
         "\"TCPIP\"\t2796\t\"2022-02-12 18:55:26.773\"\t\"TCP - 172.16.50.130 connected to 172.16.50.110:143.\"",
         [
          "hmail"
         ],
         [
          "beats_input_codec_plain_applied"
         ]
        ],
        [
         "2022-02-12T18:55:28.707Z",
         "1",
         [
          "311bb01e-323f-46fb-8eea-3ddbabb8d60b",
          "files",
          "6c9a9834-52f8-4d57-8c16-4f3bd9022475",
          "files",
          "filebeat",
          "7.16.2"
         ],
         [
          "1.12.0"
         ],
         [
          [
           "hmail"
          ]
         ],
         [
          "files"
         ],
         [
          "log"
         ],
         [
          [
           "C:\\Program Files (x86)\\hMailServer\\Logs\\hmailserver_2022-02-12.log"
          ],
          761150
         ],
         "\"IMAPD\"\t2784\t3171\t\"2022-02-12 18:55:26.773\"\t\"172.16.50.130\"\t\"SENT: * OK IMAPrev1\"",
         [
          "hmail"
         ],
         [
          "beats_input_codec_plain_applied"
         ]
        ]
       ],
       "datasetInfos": [
        {
         "name": "_sqldf",
         "schema": {
          "fields": [
           {
            "metadata": {},
            "name": "@timestamp",
            "nullable": true,
            "type": "string"
           },
           {
            "metadata": {},
            "name": "@version",
            "nullable": true,
            "type": "string"
           },
           {
            "metadata": {},
            "name": "agent",
            "nullable": true,
            "type": {
             "fields": [
              {
               "metadata": {},
               "name": "ephemeral_id",
               "nullable": true,
               "type": "string"
              },
              {
               "metadata": {},
               "name": "hostname",
               "nullable": true,
               "type": "string"
              },
              {
               "metadata": {},
               "name": "id",
               "nullable": true,
               "type": "string"
              },
              {
               "metadata": {},
               "name": "name",
               "nullable": true,
               "type": "string"
              },
              {
               "metadata": {},
               "name": "type",
               "nullable": true,
               "type": "string"
              },
              {
               "metadata": {},
               "name": "version",
               "nullable": true,
               "type": "string"
              }
             ],
             "type": "struct"
            }
           },
           {
            "metadata": {},
            "name": "ecs",
            "nullable": true,
            "type": {
             "fields": [
              {
               "metadata": {},
               "name": "version",
               "nullable": true,
               "type": "string"
              }
             ],
             "type": "struct"
            }
           },
           {
            "metadata": {},
            "name": "fields",
            "nullable": true,
            "type": {
             "fields": [
              {
               "metadata": {},
               "name": "service",
               "nullable": true,
               "type": {
                "fields": [
                 {
                  "metadata": {},
                  "name": "type",
                  "nullable": true,
                  "type": "string"
                 }
                ],
                "type": "struct"
               }
              }
             ],
             "type": "struct"
            }
           },
           {
            "metadata": {},
            "name": "host",
            "nullable": true,
            "type": {
             "fields": [
              {
               "metadata": {},
               "name": "name",
               "nullable": true,
               "type": "string"
              }
             ],
             "type": "struct"
            }
           },
           {
            "metadata": {},
            "name": "input",
            "nullable": true,
            "type": {
             "fields": [
              {
               "metadata": {},
               "name": "type",
               "nullable": true,
               "type": "string"
              }
             ],
             "type": "struct"
            }
           },
           {
            "metadata": {},
            "name": "log",
            "nullable": true,
            "type": {
             "fields": [
              {
               "metadata": {},
               "name": "file",
               "nullable": true,
               "type": {
                "fields": [
                 {
                  "metadata": {},
                  "name": "path",
                  "nullable": true,
                  "type": "string"
                 }
                ],
                "type": "struct"
               }
              },
              {
               "metadata": {},
               "name": "offset",
               "nullable": true,
               "type": "long"
              }
             ],
             "type": "struct"
            }
           },
           {
            "metadata": {},
            "name": "message",
            "nullable": true,
            "type": "string"
           },
           {
            "metadata": {},
            "name": "service",
            "nullable": true,
            "type": {
             "fields": [
              {
               "metadata": {},
               "name": "type",
               "nullable": true,
               "type": "string"
              }
             ],
             "type": "struct"
            }
           },
           {
            "metadata": {},
            "name": "tags",
            "nullable": true,
            "type": {
             "containsNull": true,
             "elementType": "string",
             "type": "array"
            }
           }
          ],
          "type": "struct"
         },
         "tableIdentifier": null,
         "typeStr": "pyspark.sql.connect.dataframe.DataFrame"
        }
       ],
       "dbfsResultPath": null,
       "isJsonSchema": true,
       "metadata": {
        "createTempViewForImplicitDf": true,
        "dataframeName": "_sqldf",
        "executionCount": 170
       },
       "overflow": false,
       "plotOptions": {
        "customPlotOptions": {},
        "displayType": "table",
        "pivotAggregation": null,
        "pivotColumns": null,
        "xColumns": null,
        "yColumns": null
       },
       "removedWidgets": [],
       "schema": [
        {
         "metadata": "{}",
         "name": "@timestamp",
         "type": "\"string\""
        },
        {
         "metadata": "{}",
         "name": "@version",
         "type": "\"string\""
        },
        {
         "metadata": "{}",
         "name": "agent",
         "type": "{\"fields\":[{\"metadata\":{},\"name\":\"ephemeral_id\",\"nullable\":true,\"type\":\"string\"},{\"metadata\":{},\"name\":\"hostname\",\"nullable\":true,\"type\":\"string\"},{\"metadata\":{},\"name\":\"id\",\"nullable\":true,\"type\":\"string\"},{\"metadata\":{},\"name\":\"name\",\"nullable\":true,\"type\":\"string\"},{\"metadata\":{},\"name\":\"type\",\"nullable\":true,\"type\":\"string\"},{\"metadata\":{},\"name\":\"version\",\"nullable\":true,\"type\":\"string\"}],\"type\":\"struct\"}"
        },
        {
         "metadata": "{}",
         "name": "ecs",
         "type": "{\"fields\":[{\"metadata\":{},\"name\":\"version\",\"nullable\":true,\"type\":\"string\"}],\"type\":\"struct\"}"
        },
        {
         "metadata": "{}",
         "name": "fields",
         "type": "{\"fields\":[{\"metadata\":{},\"name\":\"service\",\"nullable\":true,\"type\":{\"fields\":[{\"metadata\":{},\"name\":\"type\",\"nullable\":true,\"type\":\"string\"}],\"type\":\"struct\"}}],\"type\":\"struct\"}"
        },
        {
         "metadata": "{}",
         "name": "host",
         "type": "{\"fields\":[{\"metadata\":{},\"name\":\"name\",\"nullable\":true,\"type\":\"string\"}],\"type\":\"struct\"}"
        },
        {
         "metadata": "{}",
         "name": "input",
         "type": "{\"fields\":[{\"metadata\":{},\"name\":\"type\",\"nullable\":true,\"type\":\"string\"}],\"type\":\"struct\"}"
        },
        {
         "metadata": "{}",
         "name": "log",
         "type": "{\"fields\":[{\"metadata\":{},\"name\":\"file\",\"nullable\":true,\"type\":{\"fields\":[{\"metadata\":{},\"name\":\"path\",\"nullable\":true,\"type\":\"string\"}],\"type\":\"struct\"}},{\"metadata\":{},\"name\":\"offset\",\"nullable\":true,\"type\":\"long\"}],\"type\":\"struct\"}"
        },
        {
         "metadata": "{}",
         "name": "message",
         "type": "\"string\""
        },
        {
         "metadata": "{}",
         "name": "service",
         "type": "{\"fields\":[{\"metadata\":{},\"name\":\"type\",\"nullable\":true,\"type\":\"string\"}],\"type\":\"struct\"}"
        },
        {
         "metadata": "{}",
         "name": "tags",
         "type": "{\"containsNull\":true,\"elementType\":\"string\",\"type\":\"array\"}"
        }
       ],
       "type": "table"
      }
     },
     "output_type": "display_data"
    }
   ],
   "source": [
    "%sql\n",
    "SELECT * FROM btv_dc30.bronze.hmail\n",
    "LIMIT 3"
   ]
  },
  {
   "cell_type": "code",
   "execution_count": null,
   "metadata": {
    "application/vnd.databricks.v1+cell": {
     "cellMetadata": {
      "byteLimit": 2048000,
      "implicitDf": true,
      "rowLimit": 10000
     },
     "inputWidgets": {},
     "nuid": "ea251a0d-19b0-45a3-8aef-2e13452ff2b7",
     "showTitle": false,
     "tableResultSettingsMap": {},
     "title": ""
    }
   },
   "outputs": [
    {
     "data": {
      "text/html": [
       "<style scoped>\n",
       "  .table-result-container {\n",
       "    max-height: 300px;\n",
       "    overflow: auto;\n",
       "  }\n",
       "  table, th, td {\n",
       "    border: 1px solid black;\n",
       "    border-collapse: collapse;\n",
       "  }\n",
       "  th, td {\n",
       "    padding: 5px;\n",
       "  }\n",
       "  th {\n",
       "    text-align: left;\n",
       "  }\n",
       "</style><div class='table-result-container'><table class='table-result'><thead style='background-color: white'><tr><th>@timestamp</th><th>@version</th><th>agent</th><th>ecs</th><th>event</th><th>fileset</th><th>host</th><th>input</th><th>json</th><th>log</th><th>service</th><th>tags</th></tr></thead><tbody><tr><td>2022-02-12T18:21:16.095Z</td><td>1</td><td>List(1f678581-8e27-4bf9-9591-5b13d5514410, ip-172-16-55-120, 951fc96d-4fb6-42ee-b824-ef88c3ff3b03, ip-172-16-55-120, filebeat, 7.17.0)</td><td>List(1.12.0)</td><td>List(osquery.result, osquery)</td><td>List(result)</td><td>List(ip-172-16-55-120)</td><td>List(log)</td><td>List(removed, Sat Feb 12 18:21:07 2022 UTC, List(null, null, null, null, null, null, null, null, null, null, null, null, null, null, null, null, null, null, null, null, null, null, 0, null, null, null, null, null, null, null, null, null, null, null, null, null, null, null, null, null, null, null, null, null, null, 0, 0, null, null, null, 24082345, null, null, null, null, null, null, null, 3506, 0, null, null, null, null, null, null, null, null, null, null, null, null, 75793, null, null, null, null, null, null, null, null, null, null, null, null, null, null, null, null, null, null, null, null, null, null, 697, null, null, null, null, null, 67173, null, null, null, null, 33177, null, null, null, null, null, null, null, null, null, 26696, null, null, null, null, null, null), 6780, 0, ip-172-16-55-120, cpu_time, false, 1644690067)</td><td>List(List(/var/log/osquery/osqueryd.results.log), 88307433)</td><td>List(osquery)</td><td>List(beats_input_raw_event)</td></tr><tr><td>2022-02-12T18:21:16.095Z</td><td>1</td><td>List(1f678581-8e27-4bf9-9591-5b13d5514410, ip-172-16-55-120, 951fc96d-4fb6-42ee-b824-ef88c3ff3b03, ip-172-16-55-120, filebeat, 7.17.0)</td><td>List(1.12.0)</td><td>List(osquery.result, osquery)</td><td>List(result)</td><td>List(ip-172-16-55-120)</td><td>List(log)</td><td>List(added, Sat Feb 12 18:21:07 2022 UTC, List(null, null, null, null, null, null, null, null, null, null, null, null, null, null, null, null, null, null, null, null, null, null, 0, null, null, null, null, null, null, null, null, null, null, null, null, null, null, null, null, null, null, null, null, null, null, 0, 0, null, null, null, 24088390, null, null, null, null, null, null, null, 3506, 0, null, null, null, null, null, null, null, null, null, null, null, null, 75817, null, null, null, null, null, null, null, null, null, null, null, null, null, null, null, null, null, null, null, null, null, null, 697, null, null, null, null, null, 67195, null, null, null, null, 33187, null, null, null, null, null, null, null, null, null, 26699, null, null, null, null, null, null), 6780, 0, ip-172-16-55-120, cpu_time, false, 1644690067)</td><td>List(List(/var/log/osquery/osqueryd.results.log), 88308153)</td><td>List(osquery)</td><td>List(beats_input_raw_event)</td></tr><tr><td>2022-02-12T18:21:16.095Z</td><td>1</td><td>List(1f678581-8e27-4bf9-9591-5b13d5514410, ip-172-16-55-120, 951fc96d-4fb6-42ee-b824-ef88c3ff3b03, ip-172-16-55-120, filebeat, 7.17.0)</td><td>List(1.12.0)</td><td>List(osquery.result, osquery)</td><td>List(result)</td><td>List(ip-172-16-55-120)</td><td>List(log)</td><td>List(added, Sat Feb 12 18:21:13 2022 UTC, List(null, null, null, null, null, null, null, null, null, null, null, null, null, null, null, null, null, null, null, null, null, null, null, null, null, null, null, 2022-02-12T18:21:09.180579+00:00, null, null, null, null, null, null, null, null, null, null, null, daemon, null, null, null, null, null, null, null, null, null, ip-172-16-55-120, null, null, null, null, null, null, null, null, null, null, null, null, null, null, null, null, null, 2022-02-12T18:21:09.180Z#011INFO#011[monitoring]#011log/log.go:184#011Non-zero metrics in the last 30s#011{\"monitoring\": {\"metrics\": {\"beat\":{\"cgroup\":{\"cpuacct\":{\"total\":{\"ns\":9658185}}},\"cpu\":{\"system\":{\"ticks\":22820,\"time\":{\"ms\":7}},\"total\":{\"ticks\":177040,\"time\":{\"ms\":8},\"value\":177040},\"user\":{\"ticks\":154220,\"time\":{\"ms\":1}}},\"handles\":{\"limit\":{\"hard\":524288,\"soft\":1024},\"open\":12},\"info\":{\"ephemeral_id\":\"1f678581-8e27-4bf9-9591-5b13d5514410\",\"uptime\":{\"ms\":242820612},\"version\":\"7.17.0\"},\"memstats\":{\"gc_next\":21543440,\"memory_alloc\":15042776,\"memory_total\":12735397576,\"rss\":100274176},\"runtime\":{\"goroutines\":36}},\"filebeat\":{\"events\":{\"added\":7,\"done\":7},\"harvester\":{\"open_files\":1,\"running\":1}},\"libbeat\":{\"config\":{\"module\":{\"running\":0}},\"output\":{\"events\":{\"acked\":7,\"active\":0,\"batches\":1,\"total\":7},\"read\":{\"bytes\":35},\"write\":{\"bytes\":2300}},\"pipeline\":{\"clients\":1,\"events\":{\"active\":0,\"published\":7,\"total\":7},\"queue\":{\"acked\":7}}},\"registrar\":{\"states\":{\"current\":1,\"update\":7},\"writes\":{\"success\":1,\"total\":1}},\"system\":{\"load\":{\"1\":0,\"15\":0,\"5\":0,\"norm\":{\"1\":0,\"15\":0,\"5\":0}}}}}}, null, null, null, null, null, null, null, null, null, null, null, null, null, null, null, null, null, null, null, null, null, null, null, null, 6, null, null, null, null, null, null, null, null, null, null, null, null, null, null, null, filebeat[448], null, 1644690069, null, null, null, null, null, null, null, null, null, null, null, null), 16160, 0, ip-172-16-55-120, syslog_events, false, 1644690073)</td><td>List(List(/var/log/osquery/osqueryd.results.log), 88308869)</td><td>List(osquery)</td><td>List(beats_input_raw_event)</td></tr></tbody></table></div>"
      ]
     },
     "metadata": {
      "application/vnd.databricks.v1+output": {
       "addedWidgets": {},
       "aggData": [],
       "aggError": "",
       "aggOverflow": false,
       "aggSchema": [],
       "aggSeriesLimitReached": false,
       "aggType": "",
       "arguments": {},
       "columnCustomDisplayInfos": {},
       "data": [
        [
         "2022-02-12T18:21:16.095Z",
         "1",
         [
          "1f678581-8e27-4bf9-9591-5b13d5514410",
          "ip-172-16-55-120",
          "951fc96d-4fb6-42ee-b824-ef88c3ff3b03",
          "ip-172-16-55-120",
          "filebeat",
          "7.17.0"
         ],
         [
          "1.12.0"
         ],
         [
          "osquery.result",
          "osquery"
         ],
         [
          "result"
         ],
         [
          "ip-172-16-55-120"
         ],
         [
          "log"
         ],
         [
          "removed",
          "Sat Feb 12 18:21:07 2022 UTC",
          [
           null,
           null,
           null,
           null,
           null,
           null,
           null,
           null,
           null,
           null,
           null,
           null,
           null,
           null,
           null,
           null,
           null,
           null,
           null,
           null,
           null,
           null,
           "0",
           null,
           null,
           null,
           null,
           null,
           null,
           null,
           null,
           null,
           null,
           null,
           null,
           null,
           null,
           null,
           null,
           null,
           null,
           null,
           null,
           null,
           null,
           "0",
           "0",
           null,
           null,
           null,
           "24082345",
           null,
           null,
           null,
           null,
           null,
           null,
           null,
           "3506",
           "0",
           null,
           null,
           null,
           null,
           null,
           null,
           null,
           null,
           null,
           null,
           null,
           null,
           "75793",
           null,
           null,
           null,
           null,
           null,
           null,
           null,
           null,
           null,
           null,
           null,
           null,
           null,
           null,
           null,
           null,
           null,
           null,
           null,
           null,
           null,
           null,
           "697",
           null,
           null,
           null,
           null,
           null,
           "67173",
           null,
           null,
           null,
           null,
           "33177",
           null,
           null,
           null,
           null,
           null,
           null,
           null,
           null,
           null,
           "26696",
           null,
           null,
           null,
           null,
           null,
           null
          ],
          6780,
          0,
          "ip-172-16-55-120",
          "cpu_time",
          false,
          1644690067
         ],
         [
          [
           "/var/log/osquery/osqueryd.results.log"
          ],
          88307433
         ],
         [
          "osquery"
         ],
         [
          "beats_input_raw_event"
         ]
        ],
        [
         "2022-02-12T18:21:16.095Z",
         "1",
         [
          "1f678581-8e27-4bf9-9591-5b13d5514410",
          "ip-172-16-55-120",
          "951fc96d-4fb6-42ee-b824-ef88c3ff3b03",
          "ip-172-16-55-120",
          "filebeat",
          "7.17.0"
         ],
         [
          "1.12.0"
         ],
         [
          "osquery.result",
          "osquery"
         ],
         [
          "result"
         ],
         [
          "ip-172-16-55-120"
         ],
         [
          "log"
         ],
         [
          "added",
          "Sat Feb 12 18:21:07 2022 UTC",
          [
           null,
           null,
           null,
           null,
           null,
           null,
           null,
           null,
           null,
           null,
           null,
           null,
           null,
           null,
           null,
           null,
           null,
           null,
           null,
           null,
           null,
           null,
           "0",
           null,
           null,
           null,
           null,
           null,
           null,
           null,
           null,
           null,
           null,
           null,
           null,
           null,
           null,
           null,
           null,
           null,
           null,
           null,
           null,
           null,
           null,
           "0",
           "0",
           null,
           null,
           null,
           "24088390",
           null,
           null,
           null,
           null,
           null,
           null,
           null,
           "3506",
           "0",
           null,
           null,
           null,
           null,
           null,
           null,
           null,
           null,
           null,
           null,
           null,
           null,
           "75817",
           null,
           null,
           null,
           null,
           null,
           null,
           null,
           null,
           null,
           null,
           null,
           null,
           null,
           null,
           null,
           null,
           null,
           null,
           null,
           null,
           null,
           null,
           "697",
           null,
           null,
           null,
           null,
           null,
           "67195",
           null,
           null,
           null,
           null,
           "33187",
           null,
           null,
           null,
           null,
           null,
           null,
           null,
           null,
           null,
           "26699",
           null,
           null,
           null,
           null,
           null,
           null
          ],
          6780,
          0,
          "ip-172-16-55-120",
          "cpu_time",
          false,
          1644690067
         ],
         [
          [
           "/var/log/osquery/osqueryd.results.log"
          ],
          88308153
         ],
         [
          "osquery"
         ],
         [
          "beats_input_raw_event"
         ]
        ],
        [
         "2022-02-12T18:21:16.095Z",
         "1",
         [
          "1f678581-8e27-4bf9-9591-5b13d5514410",
          "ip-172-16-55-120",
          "951fc96d-4fb6-42ee-b824-ef88c3ff3b03",
          "ip-172-16-55-120",
          "filebeat",
          "7.17.0"
         ],
         [
          "1.12.0"
         ],
         [
          "osquery.result",
          "osquery"
         ],
         [
          "result"
         ],
         [
          "ip-172-16-55-120"
         ],
         [
          "log"
         ],
         [
          "added",
          "Sat Feb 12 18:21:13 2022 UTC",
          [
           null,
           null,
           null,
           null,
           null,
           null,
           null,
           null,
           null,
           null,
           null,
           null,
           null,
           null,
           null,
           null,
           null,
           null,
           null,
           null,
           null,
           null,
           null,
           null,
           null,
           null,
           null,
           "2022-02-12T18:21:09.180579+00:00",
           null,
           null,
           null,
           null,
           null,
           null,
           null,
           null,
           null,
           null,
           null,
           "daemon",
           null,
           null,
           null,
           null,
           null,
           null,
           null,
           null,
           null,
           "ip-172-16-55-120",
           null,
           null,
           null,
           null,
           null,
           null,
           null,
           null,
           null,
           null,
           null,
           null,
           null,
           null,
           null,
           null,
           null,
           "2022-02-12T18:21:09.180Z#011INFO#011[monitoring]#011log/log.go:184#011Non-zero metrics in the last 30s#011{\"monitoring\": {\"metrics\": {\"beat\":{\"cgroup\":{\"cpuacct\":{\"total\":{\"ns\":9658185}}},\"cpu\":{\"system\":{\"ticks\":22820,\"time\":{\"ms\":7}},\"total\":{\"ticks\":177040,\"time\":{\"ms\":8},\"value\":177040},\"user\":{\"ticks\":154220,\"time\":{\"ms\":1}}},\"handles\":{\"limit\":{\"hard\":524288,\"soft\":1024},\"open\":12},\"info\":{\"ephemeral_id\":\"1f678581-8e27-4bf9-9591-5b13d5514410\",\"uptime\":{\"ms\":242820612},\"version\":\"7.17.0\"},\"memstats\":{\"gc_next\":21543440,\"memory_alloc\":15042776,\"memory_total\":12735397576,\"rss\":100274176},\"runtime\":{\"goroutines\":36}},\"filebeat\":{\"events\":{\"added\":7,\"done\":7},\"harvester\":{\"open_files\":1,\"running\":1}},\"libbeat\":{\"config\":{\"module\":{\"running\":0}},\"output\":{\"events\":{\"acked\":7,\"active\":0,\"batches\":1,\"total\":7},\"read\":{\"bytes\":35},\"write\":{\"bytes\":2300}},\"pipeline\":{\"clients\":1,\"events\":{\"active\":0,\"published\":7,\"total\":7},\"queue\":{\"acked\":7}}},\"registrar\":{\"states\":{\"current\":1,\"update\":7},\"writes\":{\"success\":1,\"total\":1}},\"system\":{\"load\":{\"1\":0,\"15\":0,\"5\":0,\"norm\":{\"1\":0,\"15\":0,\"5\":0}}}}}}",
           null,
           null,
           null,
           null,
           null,
           null,
           null,
           null,
           null,
           null,
           null,
           null,
           null,
           null,
           null,
           null,
           null,
           null,
           null,
           null,
           null,
           null,
           null,
           null,
           "6",
           null,
           null,
           null,
           null,
           null,
           null,
           null,
           null,
           null,
           null,
           null,
           null,
           null,
           null,
           null,
           "filebeat[448]",
           null,
           "1644690069",
           null,
           null,
           null,
           null,
           null,
           null,
           null,
           null,
           null,
           null,
           null,
           null
          ],
          16160,
          0,
          "ip-172-16-55-120",
          "syslog_events",
          false,
          1644690073
         ],
         [
          [
           "/var/log/osquery/osqueryd.results.log"
          ],
          88308869
         ],
         [
          "osquery"
         ],
         [
          "beats_input_raw_event"
         ]
        ]
       ],
       "datasetInfos": [
        {
         "name": "_sqldf",
         "schema": {
          "fields": [
           {
            "metadata": {},
            "name": "@timestamp",
            "nullable": true,
            "type": "string"
           },
           {
            "metadata": {},
            "name": "@version",
            "nullable": true,
            "type": "string"
           },
           {
            "metadata": {},
            "name": "agent",
            "nullable": true,
            "type": {
             "fields": [
              {
               "metadata": {},
               "name": "ephemeral_id",
               "nullable": true,
               "type": "string"
              },
              {
               "metadata": {},
               "name": "hostname",
               "nullable": true,
               "type": "string"
              },
              {
               "metadata": {},
               "name": "id",
               "nullable": true,
               "type": "string"
              },
              {
               "metadata": {},
               "name": "name",
               "nullable": true,
               "type": "string"
              },
              {
               "metadata": {},
               "name": "type",
               "nullable": true,
               "type": "string"
              },
              {
               "metadata": {},
               "name": "version",
               "nullable": true,
               "type": "string"
              }
             ],
             "type": "struct"
            }
           },
           {
            "metadata": {},
            "name": "ecs",
            "nullable": true,
            "type": {
             "fields": [
              {
               "metadata": {},
               "name": "version",
               "nullable": true,
               "type": "string"
              }
             ],
             "type": "struct"
            }
           },
           {
            "metadata": {},
            "name": "event",
            "nullable": true,
            "type": {
             "fields": [
              {
               "metadata": {},
               "name": "dataset",
               "nullable": true,
               "type": "string"
              },
              {
               "metadata": {},
               "name": "module",
               "nullable": true,
               "type": "string"
              }
             ],
             "type": "struct"
            }
           },
           {
            "metadata": {},
            "name": "fileset",
            "nullable": true,
            "type": {
             "fields": [
              {
               "metadata": {},
               "name": "name",
               "nullable": true,
               "type": "string"
              }
             ],
             "type": "struct"
            }
           },
           {
            "metadata": {},
            "name": "host",
            "nullable": true,
            "type": {
             "fields": [
              {
               "metadata": {},
               "name": "name",
               "nullable": true,
               "type": "string"
              }
             ],
             "type": "struct"
            }
           },
           {
            "metadata": {},
            "name": "input",
            "nullable": true,
            "type": {
             "fields": [
              {
               "metadata": {},
               "name": "type",
               "nullable": true,
               "type": "string"
              }
             ],
             "type": "struct"
            }
           },
           {
            "metadata": {},
            "name": "json",
            "nullable": true,
            "type": {
             "fields": [
              {
               "metadata": {},
               "name": "action",
               "nullable": true,
               "type": "string"
              },
              {
               "metadata": {},
               "name": "calendarTime",
               "nullable": true,
               "type": "string"
              },
              {
               "metadata": {},
               "name": "columns",
               "nullable": true,
               "type": {
                "fields": [
                 {
                  "metadata": {},
                  "name": "action",
                  "nullable": true,
                  "type": "string"
                 },
                 {
                  "metadata": {},
                  "name": "active",
                  "nullable": true,
                  "type": "string"
                 },
                 {
                  "metadata": {},
                  "name": "address",
                  "nullable": true,
                  "type": "string"
                 },
                 {
                  "metadata": {},
                  "name": "atime",
                  "nullable": true,
                  "type": "string"
                 },
                 {
                  "metadata": {},
                  "name": "auid",
                  "nullable": true,
                  "type": "string"
                 },
                 {
                  "metadata": {},
                  "name": "average_memory",
                  "nullable": true,
                  "type": "string"
                 },
                 {
                  "metadata": {},
                  "name": "avg_system_time",
                  "nullable": true,
                  "type": "string"
                 },
                 {
                  "metadata": {},
                  "name": "avg_user_time",
                  "nullable": true,
                  "type": "string"
                 },
                 {
                  "metadata": {},
                  "name": "block_size",
                  "nullable": true,
                  "type": "string"
                 },
                 {
                  "metadata": {},
                  "name": "blocks",
                  "nullable": true,
                  "type": "string"
                 },
                 {
                  "metadata": {},
                  "name": "blocks_available",
                  "nullable": true,
                  "type": "string"
                 },
                 {
                  "metadata": {},
                  "name": "blocks_free",
                  "nullable": true,
                  "type": "string"
                 },
                 {
                  "metadata": {},
                  "name": "blocks_size",
                  "nullable": true,
                  "type": "string"
                 },
                 {
                  "metadata": {},
                  "name": "buffers",
                  "nullable": true,
                  "type": "string"
                 },
                 {
                  "metadata": {},
                  "name": "build_distro",
                  "nullable": true,
                  "type": "string"
                 },
                 {
                  "metadata": {},
                  "name": "build_platform",
                  "nullable": true,
                  "type": "string"
                 },
                 {
                  "metadata": {},
                  "name": "bytes",
                  "nullable": true,
                  "type": "string"
                 },
                 {
                  "metadata": {},
                  "name": "cached",
                  "nullable": true,
                  "type": "string"
                 },
                 {
                  "metadata": {},
                  "name": "chain",
                  "nullable": true,
                  "type": "string"
                 },
                 {
                  "metadata": {},
                  "name": "cmdline",
                  "nullable": true,
                  "type": "string"
                 },
                 {
                  "metadata": {},
                  "name": "config_hash",
                  "nullable": true,
                  "type": "string"
                 },
                 {
                  "metadata": {},
                  "name": "config_valid",
                  "nullable": true,
                  "type": "string"
                 },
                 {
                  "metadata": {},
                  "name": "core",
                  "nullable": true,
                  "type": "string"
                 },
                 {
                  "metadata": {},
                  "name": "counter",
                  "nullable": true,
                  "type": "string"
                 },
                 {
                  "metadata": {},
                  "name": "ctime",
                  "nullable": true,
                  "type": "string"
                 },
                 {
                  "metadata": {},
                  "name": "cwd",
                  "nullable": true,
                  "type": "string"
                 },
                 {
                  "metadata": {},
                  "name": "database_size",
                  "nullable": true,
                  "type": "string"
                 },
                 {
                  "metadata": {},
                  "name": "datetime",
                  "nullable": true,
                  "type": "string"
                 },
                 {
                  "metadata": {},
                  "name": "denylisted",
                  "nullable": true,
                  "type": "string"
                 },
                 {
                  "metadata": {},
                  "name": "description",
                  "nullable": true,
                  "type": "string"
                 },
                 {
                  "metadata": {},
                  "name": "device",
                  "nullable": true,
                  "type": "string"
                 },
                 {
                  "metadata": {},
                  "name": "device_alias",
                  "nullable": true,
                  "type": "string"
                 },
                 {
                  "metadata": {},
                  "name": "dst_ip",
                  "nullable": true,
                  "type": "string"
                 },
                 {
                  "metadata": {},
                  "name": "dst_mask",
                  "nullable": true,
                  "type": "string"
                 },
                 {
                  "metadata": {},
                  "name": "dst_port",
                  "nullable": true,
                  "type": "string"
                 },
                 {
                  "metadata": {},
                  "name": "egid",
                  "nullable": true,
                  "type": "string"
                 },
                 {
                  "metadata": {},
                  "name": "euid",
                  "nullable": true,
                  "type": "string"
                 },
                 {
                  "metadata": {},
                  "name": "executions",
                  "nullable": true,
                  "type": "string"
                 },
                 {
                  "metadata": {},
                  "name": "extensions",
                  "nullable": true,
                  "type": "string"
                 },
                 {
                  "metadata": {},
                  "name": "facility",
                  "nullable": true,
                  "type": "string"
                 },
                 {
                  "metadata": {},
                  "name": "family",
                  "nullable": true,
                  "type": "string"
                 },
                 {
                  "metadata": {},
                  "name": "fd",
                  "nullable": true,
                  "type": "string"
                 },
                 {
                  "metadata": {},
                  "name": "filter_name",
                  "nullable": true,
                  "type": "string"
                 },
                 {
                  "metadata": {},
                  "name": "flags",
                  "nullable": true,
                  "type": "string"
                 },
                 {
                  "metadata": {},
                  "name": "gid",
                  "nullable": true,
                  "type": "string"
                 },
                 {
                  "metadata": {},
                  "name": "guest",
                  "nullable": true,
                  "type": "string"
                 },
                 {
                  "metadata": {},
                  "name": "guest_nice",
                  "nullable": true,
                  "type": "string"
                 },
                 {
                  "metadata": {},
                  "name": "handle",
                  "nullable": true,
                  "type": "string"
                 },
                 {
                  "metadata": {},
                  "name": "header_size",
                  "nullable": true,
                  "type": "string"
                 },
                 {
                  "metadata": {},
                  "name": "host",
                  "nullable": true,
                  "type": "string"
                 },
                 {
                  "metadata": {},
                  "name": "idle",
                  "nullable": true,
                  "type": "string"
                 },
                 {
                  "metadata": {},
                  "name": "inactive",
                  "nullable": true,
                  "type": "string"
                 },
                 {
                  "metadata": {},
                  "name": "iniface",
                  "nullable": true,
                  "type": "string"
                 },
                 {
                  "metadata": {},
                  "name": "iniface_mask",
                  "nullable": true,
                  "type": "string"
                 },
                 {
                  "metadata": {},
                  "name": "inodes",
                  "nullable": true,
                  "type": "string"
                 },
                 {
                  "metadata": {},
                  "name": "inodes_free",
                  "nullable": true,
                  "type": "string"
                 },
                 {
                  "metadata": {},
                  "name": "instance_id",
                  "nullable": true,
                  "type": "string"
                 },
                 {
                  "metadata": {},
                  "name": "interval",
                  "nullable": true,
                  "type": "string"
                 },
                 {
                  "metadata": {},
                  "name": "iowait",
                  "nullable": true,
                  "type": "string"
                 },
                 {
                  "metadata": {},
                  "name": "irq",
                  "nullable": true,
                  "type": "string"
                 },
                 {
                  "metadata": {},
                  "name": "last_executed",
                  "nullable": true,
                  "type": "string"
                 },
                 {
                  "metadata": {},
                  "name": "local_address",
                  "nullable": true,
                  "type": "string"
                 },
                 {
                  "metadata": {},
                  "name": "local_port",
                  "nullable": true,
                  "type": "string"
                 },
                 {
                  "metadata": {},
                  "name": "match",
                  "nullable": true,
                  "type": "string"
                 },
                 {
                  "metadata": {},
                  "name": "md5",
                  "nullable": true,
                  "type": "string"
                 },
                 {
                  "metadata": {},
                  "name": "memory_free",
                  "nullable": true,
                  "type": "string"
                 },
                 {
                  "metadata": {},
                  "name": "memory_total",
                  "nullable": true,
                  "type": "string"
                 },
                 {
                  "metadata": {},
                  "name": "message",
                  "nullable": true,
                  "type": "string"
                 },
                 {
                  "metadata": {},
                  "name": "mode",
                  "nullable": true,
                  "type": "string"
                 },
                 {
                  "metadata": {},
                  "name": "mtime",
                  "nullable": true,
                  "type": "string"
                 },
                 {
                  "metadata": {},
                  "name": "name",
                  "nullable": true,
                  "type": "string"
                 },
                 {
                  "metadata": {},
                  "name": "net_namespace",
                  "nullable": true,
                  "type": "string"
                 },
                 {
                  "metadata": {},
                  "name": "nice",
                  "nullable": true,
                  "type": "string"
                 },
                 {
                  "metadata": {},
                  "name": "number",
                  "nullable": true,
                  "type": "string"
                 },
                 {
                  "metadata": {},
                  "name": "os_codename",
                  "nullable": true,
                  "type": "string"
                 },
                 {
                  "metadata": {},
                  "name": "os_platform",
                  "nullable": true,
                  "type": "string"
                 },
                 {
                  "metadata": {},
                  "name": "os_version",
                  "nullable": true,
                  "type": "string"
                 },
                 {
                  "metadata": {},
                  "name": "outiface",
                  "nullable": true,
                  "type": "string"
                 },
                 {
                  "metadata": {},
                  "name": "outiface_mask",
                  "nullable": true,
                  "type": "string"
                 },
                 {
                  "metadata": {},
                  "name": "output_size",
                  "nullable": true,
                  "type": "string"
                 },
                 {
                  "metadata": {},
                  "name": "packets",
                  "nullable": true,
                  "type": "string"
                 },
                 {
                  "metadata": {},
                  "name": "parent",
                  "nullable": true,
                  "type": "string"
                 },
                 {
                  "metadata": {},
                  "name": "path",
                  "nullable": true,
                  "type": "string"
                 },
                 {
                  "metadata": {},
                  "name": "pid",
                  "nullable": true,
                  "type": "string"
                 },
                 {
                  "metadata": {},
                  "name": "platform_mask",
                  "nullable": true,
                  "type": "string"
                 },
                 {
                  "metadata": {},
                  "name": "policy",
                  "nullable": true,
                  "type": "string"
                 },
                 {
                  "metadata": {},
                  "name": "port",
                  "nullable": true,
                  "type": "string"
                 },
                 {
                  "metadata": {},
                  "name": "protocol",
                  "nullable": true,
                  "type": "string"
                 },
                 {
                  "metadata": {},
                  "name": "remote_address",
                  "nullable": true,
                  "type": "string"
                 },
                 {
                  "metadata": {},
                  "name": "remote_port",
                  "nullable": true,
                  "type": "string"
                 },
                 {
                  "metadata": {},
                  "name": "resident_size",
                  "nullable": true,
                  "type": "string"
                 },
                 {
                  "metadata": {},
                  "name": "root",
                  "nullable": true,
                  "type": "string"
                 },
                 {
                  "metadata": {},
                  "name": "severity",
                  "nullable": true,
                  "type": "string"
                 },
                 {
                  "metadata": {},
                  "name": "size",
                  "nullable": true,
                  "type": "string"
                 },
                 {
                  "metadata": {},
                  "name": "socket",
                  "nullable": true,
                  "type": "string"
                 },
                 {
                  "metadata": {},
                  "name": "softirq",
                  "nullable": true,
                  "type": "string"
                 },
                 {
                  "metadata": {},
                  "name": "src_ip",
                  "nullable": true,
                  "type": "string"
                 },
                 {
                  "metadata": {},
                  "name": "src_mask",
                  "nullable": true,
                  "type": "string"
                 },
                 {
                  "metadata": {},
                  "name": "src_port",
                  "nullable": true,
                  "type": "string"
                 },
                 {
                  "metadata": {},
                  "name": "start_time",
                  "nullable": true,
                  "type": "string"
                 },
                 {
                  "metadata": {},
                  "name": "status",
                  "nullable": true,
                  "type": "string"
                 },
                 {
                  "metadata": {},
                  "name": "steal",
                  "nullable": true,
                  "type": "string"
                 },
                 {
                  "metadata": {},
                  "name": "success",
                  "nullable": true,
                  "type": "string"
                 },
                 {
                  "metadata": {},
                  "name": "swap_cached",
                  "nullable": true,
                  "type": "string"
                 },
                 {
                  "metadata": {},
                  "name": "swap_free",
                  "nullable": true,
                  "type": "string"
                 },
                 {
                  "metadata": {},
                  "name": "swap_total",
                  "nullable": true,
                  "type": "string"
                 },
                 {
                  "metadata": {},
                  "name": "system",
                  "nullable": true,
                  "type": "string"
                 },
                 {
                  "metadata": {},
                  "name": "system_time",
                  "nullable": true,
                  "type": "string"
                 },
                 {
                  "metadata": {},
                  "name": "tag",
                  "nullable": true,
                  "type": "string"
                 },
                 {
                  "metadata": {},
                  "name": "target",
                  "nullable": true,
                  "type": "string"
                 },
                 {
                  "metadata": {},
                  "name": "time",
                  "nullable": true,
                  "type": "string"
                 },
                 {
                  "metadata": {},
                  "name": "tty",
                  "nullable": true,
                  "type": "string"
                 },
                 {
                  "metadata": {},
                  "name": "type",
                  "nullable": true,
                  "type": "string"
                 },
                 {
                  "metadata": {},
                  "name": "type_name",
                  "nullable": true,
                  "type": "string"
                 },
                 {
                  "metadata": {},
                  "name": "uid",
                  "nullable": true,
                  "type": "string"
                 },
                 {
                  "metadata": {},
                  "name": "used_by",
                  "nullable": true,
                  "type": "string"
                 },
                 {
                  "metadata": {},
                  "name": "user",
                  "nullable": true,
                  "type": "string"
                 },
                 {
                  "metadata": {},
                  "name": "user_time",
                  "nullable": true,
                  "type": "string"
                 },
                 {
                  "metadata": {},
                  "name": "username",
                  "nullable": true,
                  "type": "string"
                 },
                 {
                  "metadata": {},
                  "name": "uuid",
                  "nullable": true,
                  "type": "string"
                 },
                 {
                  "metadata": {},
                  "name": "version",
                  "nullable": true,
                  "type": "string"
                 },
                 {
                  "metadata": {},
                  "name": "wall_time",
                  "nullable": true,
                  "type": "string"
                 },
                 {
                  "metadata": {},
                  "name": "watcher",
                  "nullable": true,
                  "type": "string"
                 }
                ],
                "type": "struct"
               }
              },
              {
               "metadata": {},
               "name": "counter",
               "nullable": true,
               "type": "long"
              },
              {
               "metadata": {},
               "name": "epoch",
               "nullable": true,
               "type": "long"
              },
              {
               "metadata": {},
               "name": "hostIdentifier",
               "nullable": true,
               "type": "string"
              },
              {
               "metadata": {},
               "name": "name",
               "nullable": true,
               "type": "string"
              },
              {
               "metadata": {},
               "name": "numerics",
               "nullable": true,
               "type": "boolean"
              },
              {
               "metadata": {},
               "name": "unixTime",
               "nullable": true,
               "type": "long"
              }
             ],
             "type": "struct"
            }
           },
           {
            "metadata": {},
            "name": "log",
            "nullable": true,
            "type": {
             "fields": [
              {
               "metadata": {},
               "name": "file",
               "nullable": true,
               "type": {
                "fields": [
                 {
                  "metadata": {},
                  "name": "path",
                  "nullable": true,
                  "type": "string"
                 }
                ],
                "type": "struct"
               }
              },
              {
               "metadata": {},
               "name": "offset",
               "nullable": true,
               "type": "long"
              }
             ],
             "type": "struct"
            }
           },
           {
            "metadata": {},
            "name": "service",
            "nullable": true,
            "type": {
             "fields": [
              {
               "metadata": {},
               "name": "type",
               "nullable": true,
               "type": "string"
              }
             ],
             "type": "struct"
            }
           },
           {
            "metadata": {},
            "name": "tags",
            "nullable": true,
            "type": {
             "containsNull": true,
             "elementType": "string",
             "type": "array"
            }
           }
          ],
          "type": "struct"
         },
         "tableIdentifier": null,
         "typeStr": "pyspark.sql.connect.dataframe.DataFrame"
        }
       ],
       "dbfsResultPath": null,
       "isJsonSchema": true,
       "metadata": {
        "createTempViewForImplicitDf": true,
        "dataframeName": "_sqldf",
        "executionCount": 171
       },
       "overflow": false,
       "plotOptions": {
        "customPlotOptions": {},
        "displayType": "table",
        "pivotAggregation": null,
        "pivotColumns": null,
        "xColumns": null,
        "yColumns": null
       },
       "removedWidgets": [],
       "schema": [
        {
         "metadata": "{}",
         "name": "@timestamp",
         "type": "\"string\""
        },
        {
         "metadata": "{}",
         "name": "@version",
         "type": "\"string\""
        },
        {
         "metadata": "{}",
         "name": "agent",
         "type": "{\"fields\":[{\"metadata\":{},\"name\":\"ephemeral_id\",\"nullable\":true,\"type\":\"string\"},{\"metadata\":{},\"name\":\"hostname\",\"nullable\":true,\"type\":\"string\"},{\"metadata\":{},\"name\":\"id\",\"nullable\":true,\"type\":\"string\"},{\"metadata\":{},\"name\":\"name\",\"nullable\":true,\"type\":\"string\"},{\"metadata\":{},\"name\":\"type\",\"nullable\":true,\"type\":\"string\"},{\"metadata\":{},\"name\":\"version\",\"nullable\":true,\"type\":\"string\"}],\"type\":\"struct\"}"
        },
        {
         "metadata": "{}",
         "name": "ecs",
         "type": "{\"fields\":[{\"metadata\":{},\"name\":\"version\",\"nullable\":true,\"type\":\"string\"}],\"type\":\"struct\"}"
        },
        {
         "metadata": "{}",
         "name": "event",
         "type": "{\"fields\":[{\"metadata\":{},\"name\":\"dataset\",\"nullable\":true,\"type\":\"string\"},{\"metadata\":{},\"name\":\"module\",\"nullable\":true,\"type\":\"string\"}],\"type\":\"struct\"}"
        },
        {
         "metadata": "{}",
         "name": "fileset",
         "type": "{\"fields\":[{\"metadata\":{},\"name\":\"name\",\"nullable\":true,\"type\":\"string\"}],\"type\":\"struct\"}"
        },
        {
         "metadata": "{}",
         "name": "host",
         "type": "{\"fields\":[{\"metadata\":{},\"name\":\"name\",\"nullable\":true,\"type\":\"string\"}],\"type\":\"struct\"}"
        },
        {
         "metadata": "{}",
         "name": "input",
         "type": "{\"fields\":[{\"metadata\":{},\"name\":\"type\",\"nullable\":true,\"type\":\"string\"}],\"type\":\"struct\"}"
        },
        {
         "metadata": "{}",
         "name": "json",
         "type": "{\"fields\":[{\"metadata\":{},\"name\":\"action\",\"nullable\":true,\"type\":\"string\"},{\"metadata\":{},\"name\":\"calendarTime\",\"nullable\":true,\"type\":\"string\"},{\"metadata\":{},\"name\":\"columns\",\"nullable\":true,\"type\":{\"fields\":[{\"metadata\":{},\"name\":\"action\",\"nullable\":true,\"type\":\"string\"},{\"metadata\":{},\"name\":\"active\",\"nullable\":true,\"type\":\"string\"},{\"metadata\":{},\"name\":\"address\",\"nullable\":true,\"type\":\"string\"},{\"metadata\":{},\"name\":\"atime\",\"nullable\":true,\"type\":\"string\"},{\"metadata\":{},\"name\":\"auid\",\"nullable\":true,\"type\":\"string\"},{\"metadata\":{},\"name\":\"average_memory\",\"nullable\":true,\"type\":\"string\"},{\"metadata\":{},\"name\":\"avg_system_time\",\"nullable\":true,\"type\":\"string\"},{\"metadata\":{},\"name\":\"avg_user_time\",\"nullable\":true,\"type\":\"string\"},{\"metadata\":{},\"name\":\"block_size\",\"nullable\":true,\"type\":\"string\"},{\"metadata\":{},\"name\":\"blocks\",\"nullable\":true,\"type\":\"string\"},{\"metadata\":{},\"name\":\"blocks_available\",\"nullable\":true,\"type\":\"string\"},{\"metadata\":{},\"name\":\"blocks_free\",\"nullable\":true,\"type\":\"string\"},{\"metadata\":{},\"name\":\"blocks_size\",\"nullable\":true,\"type\":\"string\"},{\"metadata\":{},\"name\":\"buffers\",\"nullable\":true,\"type\":\"string\"},{\"metadata\":{},\"name\":\"build_distro\",\"nullable\":true,\"type\":\"string\"},{\"metadata\":{},\"name\":\"build_platform\",\"nullable\":true,\"type\":\"string\"},{\"metadata\":{},\"name\":\"bytes\",\"nullable\":true,\"type\":\"string\"},{\"metadata\":{},\"name\":\"cached\",\"nullable\":true,\"type\":\"string\"},{\"metadata\":{},\"name\":\"chain\",\"nullable\":true,\"type\":\"string\"},{\"metadata\":{},\"name\":\"cmdline\",\"nullable\":true,\"type\":\"string\"},{\"metadata\":{},\"name\":\"config_hash\",\"nullable\":true,\"type\":\"string\"},{\"metadata\":{},\"name\":\"config_valid\",\"nullable\":true,\"type\":\"string\"},{\"metadata\":{},\"name\":\"core\",\"nullable\":true,\"type\":\"string\"},{\"metadata\":{},\"name\":\"counter\",\"nullable\":true,\"type\":\"string\"},{\"metadata\":{},\"name\":\"ctime\",\"nullable\":true,\"type\":\"string\"},{\"metadata\":{},\"name\":\"cwd\",\"nullable\":true,\"type\":\"string\"},{\"metadata\":{},\"name\":\"database_size\",\"nullable\":true,\"type\":\"string\"},{\"metadata\":{},\"name\":\"datetime\",\"nullable\":true,\"type\":\"string\"},{\"metadata\":{},\"name\":\"denylisted\",\"nullable\":true,\"type\":\"string\"},{\"metadata\":{},\"name\":\"description\",\"nullable\":true,\"type\":\"string\"},{\"metadata\":{},\"name\":\"device\",\"nullable\":true,\"type\":\"string\"},{\"metadata\":{},\"name\":\"device_alias\",\"nullable\":true,\"type\":\"string\"},{\"metadata\":{},\"name\":\"dst_ip\",\"nullable\":true,\"type\":\"string\"},{\"metadata\":{},\"name\":\"dst_mask\",\"nullable\":true,\"type\":\"string\"},{\"metadata\":{},\"name\":\"dst_port\",\"nullable\":true,\"type\":\"string\"},{\"metadata\":{},\"name\":\"egid\",\"nullable\":true,\"type\":\"string\"},{\"metadata\":{},\"name\":\"euid\",\"nullable\":true,\"type\":\"string\"},{\"metadata\":{},\"name\":\"executions\",\"nullable\":true,\"type\":\"string\"},{\"metadata\":{},\"name\":\"extensions\",\"nullable\":true,\"type\":\"string\"},{\"metadata\":{},\"name\":\"facility\",\"nullable\":true,\"type\":\"string\"},{\"metadata\":{},\"name\":\"family\",\"nullable\":true,\"type\":\"string\"},{\"metadata\":{},\"name\":\"fd\",\"nullable\":true,\"type\":\"string\"},{\"metadata\":{},\"name\":\"filter_name\",\"nullable\":true,\"type\":\"string\"},{\"metadata\":{},\"name\":\"flags\",\"nullable\":true,\"type\":\"string\"},{\"metadata\":{},\"name\":\"gid\",\"nullable\":true,\"type\":\"string\"},{\"metadata\":{},\"name\":\"guest\",\"nullable\":true,\"type\":\"string\"},{\"metadata\":{},\"name\":\"guest_nice\",\"nullable\":true,\"type\":\"string\"},{\"metadata\":{},\"name\":\"handle\",\"nullable\":true,\"type\":\"string\"},{\"metadata\":{},\"name\":\"header_size\",\"nullable\":true,\"type\":\"string\"},{\"metadata\":{},\"name\":\"host\",\"nullable\":true,\"type\":\"string\"},{\"metadata\":{},\"name\":\"idle\",\"nullable\":true,\"type\":\"string\"},{\"metadata\":{},\"name\":\"inactive\",\"nullable\":true,\"type\":\"string\"},{\"metadata\":{},\"name\":\"iniface\",\"nullable\":true,\"type\":\"string\"},{\"metadata\":{},\"name\":\"iniface_mask\",\"nullable\":true,\"type\":\"string\"},{\"metadata\":{},\"name\":\"inodes\",\"nullable\":true,\"type\":\"string\"},{\"metadata\":{},\"name\":\"inodes_free\",\"nullable\":true,\"type\":\"string\"},{\"metadata\":{},\"name\":\"instance_id\",\"nullable\":true,\"type\":\"string\"},{\"metadata\":{},\"name\":\"interval\",\"nullable\":true,\"type\":\"string\"},{\"metadata\":{},\"name\":\"iowait\",\"nullable\":true,\"type\":\"string\"},{\"metadata\":{},\"name\":\"irq\",\"nullable\":true,\"type\":\"string\"},{\"metadata\":{},\"name\":\"last_executed\",\"nullable\":true,\"type\":\"string\"},{\"metadata\":{},\"name\":\"local_address\",\"nullable\":true,\"type\":\"string\"},{\"metadata\":{},\"name\":\"local_port\",\"nullable\":true,\"type\":\"string\"},{\"metadata\":{},\"name\":\"match\",\"nullable\":true,\"type\":\"string\"},{\"metadata\":{},\"name\":\"md5\",\"nullable\":true,\"type\":\"string\"},{\"metadata\":{},\"name\":\"memory_free\",\"nullable\":true,\"type\":\"string\"},{\"metadata\":{},\"name\":\"memory_total\",\"nullable\":true,\"type\":\"string\"},{\"metadata\":{},\"name\":\"message\",\"nullable\":true,\"type\":\"string\"},{\"metadata\":{},\"name\":\"mode\",\"nullable\":true,\"type\":\"string\"},{\"metadata\":{},\"name\":\"mtime\",\"nullable\":true,\"type\":\"string\"},{\"metadata\":{},\"name\":\"name\",\"nullable\":true,\"type\":\"string\"},{\"metadata\":{},\"name\":\"net_namespace\",\"nullable\":true,\"type\":\"string\"},{\"metadata\":{},\"name\":\"nice\",\"nullable\":true,\"type\":\"string\"},{\"metadata\":{},\"name\":\"number\",\"nullable\":true,\"type\":\"string\"},{\"metadata\":{},\"name\":\"os_codename\",\"nullable\":true,\"type\":\"string\"},{\"metadata\":{},\"name\":\"os_platform\",\"nullable\":true,\"type\":\"string\"},{\"metadata\":{},\"name\":\"os_version\",\"nullable\":true,\"type\":\"string\"},{\"metadata\":{},\"name\":\"outiface\",\"nullable\":true,\"type\":\"string\"},{\"metadata\":{},\"name\":\"outiface_mask\",\"nullable\":true,\"type\":\"string\"},{\"metadata\":{},\"name\":\"output_size\",\"nullable\":true,\"type\":\"string\"},{\"metadata\":{},\"name\":\"packets\",\"nullable\":true,\"type\":\"string\"},{\"metadata\":{},\"name\":\"parent\",\"nullable\":true,\"type\":\"string\"},{\"metadata\":{},\"name\":\"path\",\"nullable\":true,\"type\":\"string\"},{\"metadata\":{},\"name\":\"pid\",\"nullable\":true,\"type\":\"string\"},{\"metadata\":{},\"name\":\"platform_mask\",\"nullable\":true,\"type\":\"string\"},{\"metadata\":{},\"name\":\"policy\",\"nullable\":true,\"type\":\"string\"},{\"metadata\":{},\"name\":\"port\",\"nullable\":true,\"type\":\"string\"},{\"metadata\":{},\"name\":\"protocol\",\"nullable\":true,\"type\":\"string\"},{\"metadata\":{},\"name\":\"remote_address\",\"nullable\":true,\"type\":\"string\"},{\"metadata\":{},\"name\":\"remote_port\",\"nullable\":true,\"type\":\"string\"},{\"metadata\":{},\"name\":\"resident_size\",\"nullable\":true,\"type\":\"string\"},{\"metadata\":{},\"name\":\"root\",\"nullable\":true,\"type\":\"string\"},{\"metadata\":{},\"name\":\"severity\",\"nullable\":true,\"type\":\"string\"},{\"metadata\":{},\"name\":\"size\",\"nullable\":true,\"type\":\"string\"},{\"metadata\":{},\"name\":\"socket\",\"nullable\":true,\"type\":\"string\"},{\"metadata\":{},\"name\":\"softirq\",\"nullable\":true,\"type\":\"string\"},{\"metadata\":{},\"name\":\"src_ip\",\"nullable\":true,\"type\":\"string\"},{\"metadata\":{},\"name\":\"src_mask\",\"nullable\":true,\"type\":\"string\"},{\"metadata\":{},\"name\":\"src_port\",\"nullable\":true,\"type\":\"string\"},{\"metadata\":{},\"name\":\"start_time\",\"nullable\":true,\"type\":\"string\"},{\"metadata\":{},\"name\":\"status\",\"nullable\":true,\"type\":\"string\"},{\"metadata\":{},\"name\":\"steal\",\"nullable\":true,\"type\":\"string\"},{\"metadata\":{},\"name\":\"success\",\"nullable\":true,\"type\":\"string\"},{\"metadata\":{},\"name\":\"swap_cached\",\"nullable\":true,\"type\":\"string\"},{\"metadata\":{},\"name\":\"swap_free\",\"nullable\":true,\"type\":\"string\"},{\"metadata\":{},\"name\":\"swap_total\",\"nullable\":true,\"type\":\"string\"},{\"metadata\":{},\"name\":\"system\",\"nullable\":true,\"type\":\"string\"},{\"metadata\":{},\"name\":\"system_time\",\"nullable\":true,\"type\":\"string\"},{\"metadata\":{},\"name\":\"tag\",\"nullable\":true,\"type\":\"string\"},{\"metadata\":{},\"name\":\"target\",\"nullable\":true,\"type\":\"string\"},{\"metadata\":{},\"name\":\"time\",\"nullable\":true,\"type\":\"string\"},{\"metadata\":{},\"name\":\"tty\",\"nullable\":true,\"type\":\"string\"},{\"metadata\":{},\"name\":\"type\",\"nullable\":true,\"type\":\"string\"},{\"metadata\":{},\"name\":\"type_name\",\"nullable\":true,\"type\":\"string\"},{\"metadata\":{},\"name\":\"uid\",\"nullable\":true,\"type\":\"string\"},{\"metadata\":{},\"name\":\"used_by\",\"nullable\":true,\"type\":\"string\"},{\"metadata\":{},\"name\":\"user\",\"nullable\":true,\"type\":\"string\"},{\"metadata\":{},\"name\":\"user_time\",\"nullable\":true,\"type\":\"string\"},{\"metadata\":{},\"name\":\"username\",\"nullable\":true,\"type\":\"string\"},{\"metadata\":{},\"name\":\"uuid\",\"nullable\":true,\"type\":\"string\"},{\"metadata\":{},\"name\":\"version\",\"nullable\":true,\"type\":\"string\"},{\"metadata\":{},\"name\":\"wall_time\",\"nullable\":true,\"type\":\"string\"},{\"metadata\":{},\"name\":\"watcher\",\"nullable\":true,\"type\":\"string\"}],\"type\":\"struct\"}},{\"metadata\":{},\"name\":\"counter\",\"nullable\":true,\"type\":\"long\"},{\"metadata\":{},\"name\":\"epoch\",\"nullable\":true,\"type\":\"long\"},{\"metadata\":{},\"name\":\"hostIdentifier\",\"nullable\":true,\"type\":\"string\"},{\"metadata\":{},\"name\":\"name\",\"nullable\":true,\"type\":\"string\"},{\"metadata\":{},\"name\":\"numerics\",\"nullable\":true,\"type\":\"boolean\"},{\"metadata\":{},\"name\":\"unixTime\",\"nullable\":true,\"type\":\"long\"}],\"type\":\"struct\"}"
        },
        {
         "metadata": "{}",
         "name": "log",
         "type": "{\"fields\":[{\"metadata\":{},\"name\":\"file\",\"nullable\":true,\"type\":{\"fields\":[{\"metadata\":{},\"name\":\"path\",\"nullable\":true,\"type\":\"string\"}],\"type\":\"struct\"}},{\"metadata\":{},\"name\":\"offset\",\"nullable\":true,\"type\":\"long\"}],\"type\":\"struct\"}"
        },
        {
         "metadata": "{}",
         "name": "service",
         "type": "{\"fields\":[{\"metadata\":{},\"name\":\"type\",\"nullable\":true,\"type\":\"string\"}],\"type\":\"struct\"}"
        },
        {
         "metadata": "{}",
         "name": "tags",
         "type": "{\"containsNull\":true,\"elementType\":\"string\",\"type\":\"array\"}"
        }
       ],
       "type": "table"
      }
     },
     "output_type": "display_data"
    }
   ],
   "source": [
    "%sql\n",
    "SELECT * FROM btv_dc30.bronze.osquery\n",
    "LIMIT 3"
   ]
  },
  {
   "cell_type": "code",
   "execution_count": null,
   "metadata": {
    "application/vnd.databricks.v1+cell": {
     "cellMetadata": {
      "byteLimit": 2048000,
      "implicitDf": true,
      "rowLimit": 10000
     },
     "inputWidgets": {},
     "nuid": "2352bd83-9c93-469f-b4d7-fc4afb9aec01",
     "showTitle": false,
     "tableResultSettingsMap": {},
     "title": ""
    }
   },
   "outputs": [
    {
     "data": {
      "text/html": [
       "<style scoped>\n",
       "  .table-result-container {\n",
       "    max-height: 300px;\n",
       "    overflow: auto;\n",
       "  }\n",
       "  table, th, td {\n",
       "    border: 1px solid black;\n",
       "    border-collapse: collapse;\n",
       "  }\n",
       "  th, td {\n",
       "    padding: 5px;\n",
       "  }\n",
       "  th {\n",
       "    text-align: left;\n",
       "  }\n",
       "</style><div class='table-result-container'><table class='table-result'><thead style='background-color: white'><tr><th>agent</th><th>@timestamp</th><th>rule</th><th>winlog</th><th>@version</th><th>host</th><th>message</th><th>process</th><th>ecs</th><th>event</th><th>tags</th><th>log</th><th>file</th></tr></thead><tbody><tr><td>Map(name -> wkst08, hostname -> wkst08, version -> 7.16.2, id -> ede5221c-9b85-4b9c-a9df-65d46bd0af04, ephemeral_id -> 659fbb60-a4d9-4ebf-8f6e-b7c4e87574a2, type -> winlogbeat)</td><td>2022-02-19T19:34:19.807Z</td><td>Map(name -> technique_id=T1047,technique_name=File System Permissions Weakness)</td><td>List(wineventlog, Microsoft-Windows-Sysmon/Operational, wkst08.magnumtempus.financial, Map(User -> NT AUTHORITY\\LOCAL SERVICE, CreationUtcTime -> 2022-02-12 01:44:13.404), 11, null, Info, null, {5770385F-C22A-43E0-BF4C-06F5698FFBD9}, Microsoft-Windows-Sysmon, File created (rule: FileCreate), 38314, 2)</td><td>1</td><td>Map(mac -> [\"06:60:a2:3f:3d:7e\",\"00:00:00:00:00:00:00:e0\"], name -> wkst08.magnumtempus.financial, ip -> [\"fe80::193b:92d2:20fa:85c8\",\"172.16.50.137\"], hostname -> wkst08, os -> {\"platform\":\"windows\",\"type\":\"windows\",\"kernel\":\"10.0.14393.4770 (rs1_release.211101-1440)\",\"family\":\"windows\",\"version\":\"10.0\",\"name\":\"Windows Server 2016 Datacenter\",\"build\":\"14393.4770\"}, architecture -> x86_64, id -> e0333fc0-5cb7-4293-b6ac-6c3695286056)</td><td>File created:\n",
       "RuleName: technique_id=T1047,technique_name=File System Permissions Weakness\n",
       "UtcTime: 2022-02-19 19:34:19.807\n",
       "ProcessGuid: {E0333FC0-21A7-6211-1300-000000001102}\n",
       "ProcessId: 68\n",
       "Image: C:\\Windows\\System32\\svchost.exe\n",
       "TargetFilename: C:\\Windows\\ServiceProfiles\\LocalService\\AppData\\Local\\lastalive0.dat\n",
       "CreationUtcTime: 2022-02-12 01:44:13.404\n",
       "User: NT AUTHORITY\\LOCAL SERVICE</td><td>Map(executable -> C:\\Windows\\System32\\svchost.exe, entity_id -> {E0333FC0-21A7-6211-1300-000000001102}, pid -> 68, name -> svchost.exe)</td><td>Map(version -> 1.12.0)</td><td>Map(module -> sysmon, provider -> Microsoft-Windows-Sysmon, code -> 11, category -> [\"file\"], kind -> event, type -> [\"creation\"], action -> File created (rule: FileCreate), created -> 2022-02-19T19:34:21.604Z)</td><td>List(sysmon, beats_input_codec_plain_applied)</td><td>Map(level -> information)</td><td>Map(extension -> dat, path -> C:\\Windows\\ServiceProfiles\\LocalService\\AppData\\Local\\lastalive0.dat, name -> lastalive0.dat, directory -> C:\\Windows\\ServiceProfiles\\LocalService\\AppData\\Local)</td></tr><tr><td>Map(name -> wkst02, hostname -> wkst02, version -> 7.16.2, id -> ede5221c-9b85-4b9c-a9df-65d46bd0af04, ephemeral_id -> eb859ae7-04cd-41e6-8417-aa8a46e9190f, type -> winlogbeat)</td><td>2022-02-19T19:34:24.248Z</td><td>Map(name -> technique_id=T1047,technique_name=File System Permissions Weakness)</td><td>List(wineventlog, Microsoft-Windows-Sysmon/Operational, wkst02.magnumtempus.financial, Map(User -> NT AUTHORITY\\LOCAL SERVICE, CreationUtcTime -> 2022-02-19 16:10:19.454), 11, null, Info, null, {5770385F-C22A-43E0-BF4C-06F5698FFBD9}, Microsoft-Windows-Sysmon, File created (rule: FileCreate), 39813, 2)</td><td>1</td><td>Map(mac -> [\"06:94:d6:f4:99:d2\",\"00:00:00:00:00:00:00:e0\"], name -> wkst02.magnumtempus.financial, ip -> [\"fe80::cd03:a025:9781:bb37\",\"172.16.50.131\",\"fe80::5efe:ac10:3283\"], hostname -> wkst02, os -> {\"platform\":\"windows\",\"type\":\"windows\",\"kernel\":\"10.0.14393.4770 (rs1_release.211101-1440)\",\"family\":\"windows\",\"version\":\"10.0\",\"name\":\"Windows Server 2016 Datacenter\",\"build\":\"14393.4770\"}, architecture -> x86_64, id -> d4a1b8f4-baae-4212-b9dd-99aa0716c3e3)</td><td>File created:\n",
       "RuleName: technique_id=T1047,technique_name=File System Permissions Weakness\n",
       "UtcTime: 2022-02-19 19:34:24.248\n",
       "ProcessGuid: {D4A1B8F4-162D-6211-1100-000000001302}\n",
       "ProcessId: 912\n",
       "Image: C:\\Windows\\System32\\svchost.exe\n",
       "TargetFilename: C:\\Windows\\ServiceProfiles\\LocalService\\AppData\\Local\\lastalive1.dat\n",
       "CreationUtcTime: 2022-02-19 16:10:19.454\n",
       "User: NT AUTHORITY\\LOCAL SERVICE</td><td>Map(entity_id -> {D4A1B8F4-162D-6211-1100-000000001302}, executable -> C:\\Windows\\System32\\svchost.exe, pid -> 912, name -> svchost.exe)</td><td>Map(version -> 1.12.0)</td><td>Map(module -> sysmon, provider -> Microsoft-Windows-Sysmon, code -> 11, category -> [\"file\"], kind -> event, type -> [\"creation\"], action -> File created (rule: FileCreate), created -> 2022-02-19T19:34:26.418Z)</td><td>List(sysmon, beats_input_codec_plain_applied)</td><td>Map(level -> information)</td><td>Map(directory -> C:\\Windows\\ServiceProfiles\\LocalService\\AppData\\Local, path -> C:\\Windows\\ServiceProfiles\\LocalService\\AppData\\Local\\lastalive1.dat, name -> lastalive1.dat, extension -> dat)</td></tr><tr><td>Map(name -> dc02, hostname -> dc02, version -> 7.16.2, id -> 69b3ac99-dfb8-43ad-b407-248c6897e5d1, ephemeral_id -> c006c7a9-c216-468e-beda-7144dd49babd, type -> winlogbeat)</td><td>2022-02-19T19:34:26.819Z</td><td>Map(name -> technique_id=T1047,technique_name=File System Permissions Weakness)</td><td>List(wineventlog, Microsoft-Windows-Sysmon/Operational, dc02.magnumtempus.financial, Map(User -> NT AUTHORITY\\LOCAL SERVICE, CreationUtcTime -> 2022-02-06 07:31:41.983), 11, null, Info, null, {5770385F-C22A-43E0-BF4C-06F5698FFBD9}, Microsoft-Windows-Sysmon, File created (rule: FileCreate), 97195, 2)</td><td>1</td><td>Map(mac -> [\"06:bc:16:8f:2a:36\",\"00:00:00:00:00:00:00:e0\"], name -> dc02.magnumtempus.financial, ip -> [\"fe80::d8f2:aec1:77d6:620a\",\"172.16.50.101\",\"fe80::5efe:ac10:3265\"], hostname -> dc02, os -> {\"platform\":\"windows\",\"type\":\"windows\",\"kernel\":\"10.0.14393.4704 (rs1_release.211004-1917)\",\"family\":\"windows\",\"version\":\"10.0\",\"name\":\"Windows Server 2016 Datacenter\",\"build\":\"14393.4704\"}, architecture -> x86_64, id -> d8980057-0bd6-46ca-9840-818ed66c9e1a)</td><td>File created:\n",
       "RuleName: technique_id=T1047,technique_name=File System Permissions Weakness\n",
       "UtcTime: 2022-02-19 19:34:26.819\n",
       "ProcessGuid: {D8980057-7921-61FF-1200-000000000402}\n",
       "ProcessId: 68\n",
       "Image: C:\\Windows\\System32\\svchost.exe\n",
       "TargetFilename: C:\\Windows\\ServiceProfiles\\LocalService\\AppData\\Local\\lastalive1.dat\n",
       "CreationUtcTime: 2022-02-06 07:31:41.983\n",
       "User: NT AUTHORITY\\LOCAL SERVICE</td><td>Map(executable -> C:\\Windows\\System32\\svchost.exe, entity_id -> {D8980057-7921-61FF-1200-000000000402}, pid -> 68, name -> svchost.exe)</td><td>Map(version -> 1.12.0)</td><td>Map(module -> sysmon, provider -> Microsoft-Windows-Sysmon, code -> 11, category -> [\"file\"], kind -> event, type -> [\"creation\"], action -> File created (rule: FileCreate), created -> 2022-02-19T19:34:28.531Z)</td><td>List(sysmon, beats_input_codec_plain_applied)</td><td>Map(level -> information)</td><td>Map(extension -> dat, path -> C:\\Windows\\ServiceProfiles\\LocalService\\AppData\\Local\\lastalive1.dat, name -> lastalive1.dat, directory -> C:\\Windows\\ServiceProfiles\\LocalService\\AppData\\Local)</td></tr></tbody></table></div>"
      ]
     },
     "metadata": {
      "application/vnd.databricks.v1+output": {
       "addedWidgets": {},
       "aggData": [],
       "aggError": "",
       "aggOverflow": false,
       "aggSchema": [],
       "aggSeriesLimitReached": false,
       "aggType": "",
       "arguments": {},
       "columnCustomDisplayInfos": {},
       "data": [
        [
         {
          "ephemeral_id": "659fbb60-a4d9-4ebf-8f6e-b7c4e87574a2",
          "hostname": "wkst08",
          "id": "ede5221c-9b85-4b9c-a9df-65d46bd0af04",
          "name": "wkst08",
          "type": "winlogbeat",
          "version": "7.16.2"
         },
         "2022-02-19T19:34:19.807Z",
         {
          "name": "technique_id=T1047,technique_name=File System Permissions Weakness"
         },
         [
          "wineventlog",
          "Microsoft-Windows-Sysmon/Operational",
          "wkst08.magnumtempus.financial",
          {
           "CreationUtcTime": "2022-02-12 01:44:13.404",
           "User": "NT AUTHORITY\\LOCAL SERVICE"
          },
          "11",
          null,
          "Info",
          null,
          "{5770385F-C22A-43E0-BF4C-06F5698FFBD9}",
          "Microsoft-Windows-Sysmon",
          "File created (rule: FileCreate)",
          "38314",
          "2"
         ],
         "1",
         {
          "architecture": "x86_64",
          "hostname": "wkst08",
          "id": "e0333fc0-5cb7-4293-b6ac-6c3695286056",
          "ip": "[\"fe80::193b:92d2:20fa:85c8\",\"172.16.50.137\"]",
          "mac": "[\"06:60:a2:3f:3d:7e\",\"00:00:00:00:00:00:00:e0\"]",
          "name": "wkst08.magnumtempus.financial",
          "os": "{\"platform\":\"windows\",\"type\":\"windows\",\"kernel\":\"10.0.14393.4770 (rs1_release.211101-1440)\",\"family\":\"windows\",\"version\":\"10.0\",\"name\":\"Windows Server 2016 Datacenter\",\"build\":\"14393.4770\"}"
         },
         "File created:\nRuleName: technique_id=T1047,technique_name=File System Permissions Weakness\nUtcTime: 2022-02-19 19:34:19.807\nProcessGuid: {E0333FC0-21A7-6211-1300-000000001102}\nProcessId: 68\nImage: C:\\Windows\\System32\\svchost.exe\nTargetFilename: C:\\Windows\\ServiceProfiles\\LocalService\\AppData\\Local\\lastalive0.dat\nCreationUtcTime: 2022-02-12 01:44:13.404\nUser: NT AUTHORITY\\LOCAL SERVICE",
         {
          "entity_id": "{E0333FC0-21A7-6211-1300-000000001102}",
          "executable": "C:\\Windows\\System32\\svchost.exe",
          "name": "svchost.exe",
          "pid": "68"
         },
         {
          "version": "1.12.0"
         },
         {
          "action": "File created (rule: FileCreate)",
          "category": "[\"file\"]",
          "code": "11",
          "created": "2022-02-19T19:34:21.604Z",
          "kind": "event",
          "module": "sysmon",
          "provider": "Microsoft-Windows-Sysmon",
          "type": "[\"creation\"]"
         },
         [
          "sysmon",
          "beats_input_codec_plain_applied"
         ],
         {
          "level": "information"
         },
         {
          "directory": "C:\\Windows\\ServiceProfiles\\LocalService\\AppData\\Local",
          "extension": "dat",
          "name": "lastalive0.dat",
          "path": "C:\\Windows\\ServiceProfiles\\LocalService\\AppData\\Local\\lastalive0.dat"
         }
        ],
        [
         {
          "ephemeral_id": "eb859ae7-04cd-41e6-8417-aa8a46e9190f",
          "hostname": "wkst02",
          "id": "ede5221c-9b85-4b9c-a9df-65d46bd0af04",
          "name": "wkst02",
          "type": "winlogbeat",
          "version": "7.16.2"
         },
         "2022-02-19T19:34:24.248Z",
         {
          "name": "technique_id=T1047,technique_name=File System Permissions Weakness"
         },
         [
          "wineventlog",
          "Microsoft-Windows-Sysmon/Operational",
          "wkst02.magnumtempus.financial",
          {
           "CreationUtcTime": "2022-02-19 16:10:19.454",
           "User": "NT AUTHORITY\\LOCAL SERVICE"
          },
          "11",
          null,
          "Info",
          null,
          "{5770385F-C22A-43E0-BF4C-06F5698FFBD9}",
          "Microsoft-Windows-Sysmon",
          "File created (rule: FileCreate)",
          "39813",
          "2"
         ],
         "1",
         {
          "architecture": "x86_64",
          "hostname": "wkst02",
          "id": "d4a1b8f4-baae-4212-b9dd-99aa0716c3e3",
          "ip": "[\"fe80::cd03:a025:9781:bb37\",\"172.16.50.131\",\"fe80::5efe:ac10:3283\"]",
          "mac": "[\"06:94:d6:f4:99:d2\",\"00:00:00:00:00:00:00:e0\"]",
          "name": "wkst02.magnumtempus.financial",
          "os": "{\"platform\":\"windows\",\"type\":\"windows\",\"kernel\":\"10.0.14393.4770 (rs1_release.211101-1440)\",\"family\":\"windows\",\"version\":\"10.0\",\"name\":\"Windows Server 2016 Datacenter\",\"build\":\"14393.4770\"}"
         },
         "File created:\nRuleName: technique_id=T1047,technique_name=File System Permissions Weakness\nUtcTime: 2022-02-19 19:34:24.248\nProcessGuid: {D4A1B8F4-162D-6211-1100-000000001302}\nProcessId: 912\nImage: C:\\Windows\\System32\\svchost.exe\nTargetFilename: C:\\Windows\\ServiceProfiles\\LocalService\\AppData\\Local\\lastalive1.dat\nCreationUtcTime: 2022-02-19 16:10:19.454\nUser: NT AUTHORITY\\LOCAL SERVICE",
         {
          "entity_id": "{D4A1B8F4-162D-6211-1100-000000001302}",
          "executable": "C:\\Windows\\System32\\svchost.exe",
          "name": "svchost.exe",
          "pid": "912"
         },
         {
          "version": "1.12.0"
         },
         {
          "action": "File created (rule: FileCreate)",
          "category": "[\"file\"]",
          "code": "11",
          "created": "2022-02-19T19:34:26.418Z",
          "kind": "event",
          "module": "sysmon",
          "provider": "Microsoft-Windows-Sysmon",
          "type": "[\"creation\"]"
         },
         [
          "sysmon",
          "beats_input_codec_plain_applied"
         ],
         {
          "level": "information"
         },
         {
          "directory": "C:\\Windows\\ServiceProfiles\\LocalService\\AppData\\Local",
          "extension": "dat",
          "name": "lastalive1.dat",
          "path": "C:\\Windows\\ServiceProfiles\\LocalService\\AppData\\Local\\lastalive1.dat"
         }
        ],
        [
         {
          "ephemeral_id": "c006c7a9-c216-468e-beda-7144dd49babd",
          "hostname": "dc02",
          "id": "69b3ac99-dfb8-43ad-b407-248c6897e5d1",
          "name": "dc02",
          "type": "winlogbeat",
          "version": "7.16.2"
         },
         "2022-02-19T19:34:26.819Z",
         {
          "name": "technique_id=T1047,technique_name=File System Permissions Weakness"
         },
         [
          "wineventlog",
          "Microsoft-Windows-Sysmon/Operational",
          "dc02.magnumtempus.financial",
          {
           "CreationUtcTime": "2022-02-06 07:31:41.983",
           "User": "NT AUTHORITY\\LOCAL SERVICE"
          },
          "11",
          null,
          "Info",
          null,
          "{5770385F-C22A-43E0-BF4C-06F5698FFBD9}",
          "Microsoft-Windows-Sysmon",
          "File created (rule: FileCreate)",
          "97195",
          "2"
         ],
         "1",
         {
          "architecture": "x86_64",
          "hostname": "dc02",
          "id": "d8980057-0bd6-46ca-9840-818ed66c9e1a",
          "ip": "[\"fe80::d8f2:aec1:77d6:620a\",\"172.16.50.101\",\"fe80::5efe:ac10:3265\"]",
          "mac": "[\"06:bc:16:8f:2a:36\",\"00:00:00:00:00:00:00:e0\"]",
          "name": "dc02.magnumtempus.financial",
          "os": "{\"platform\":\"windows\",\"type\":\"windows\",\"kernel\":\"10.0.14393.4704 (rs1_release.211004-1917)\",\"family\":\"windows\",\"version\":\"10.0\",\"name\":\"Windows Server 2016 Datacenter\",\"build\":\"14393.4704\"}"
         },
         "File created:\nRuleName: technique_id=T1047,technique_name=File System Permissions Weakness\nUtcTime: 2022-02-19 19:34:26.819\nProcessGuid: {D8980057-7921-61FF-1200-000000000402}\nProcessId: 68\nImage: C:\\Windows\\System32\\svchost.exe\nTargetFilename: C:\\Windows\\ServiceProfiles\\LocalService\\AppData\\Local\\lastalive1.dat\nCreationUtcTime: 2022-02-06 07:31:41.983\nUser: NT AUTHORITY\\LOCAL SERVICE",
         {
          "entity_id": "{D8980057-7921-61FF-1200-000000000402}",
          "executable": "C:\\Windows\\System32\\svchost.exe",
          "name": "svchost.exe",
          "pid": "68"
         },
         {
          "version": "1.12.0"
         },
         {
          "action": "File created (rule: FileCreate)",
          "category": "[\"file\"]",
          "code": "11",
          "created": "2022-02-19T19:34:28.531Z",
          "kind": "event",
          "module": "sysmon",
          "provider": "Microsoft-Windows-Sysmon",
          "type": "[\"creation\"]"
         },
         [
          "sysmon",
          "beats_input_codec_plain_applied"
         ],
         {
          "level": "information"
         },
         {
          "directory": "C:\\Windows\\ServiceProfiles\\LocalService\\AppData\\Local",
          "extension": "dat",
          "name": "lastalive1.dat",
          "path": "C:\\Windows\\ServiceProfiles\\LocalService\\AppData\\Local\\lastalive1.dat"
         }
        ]
       ],
       "datasetInfos": [
        {
         "name": "_sqldf",
         "schema": {
          "fields": [
           {
            "metadata": {},
            "name": "agent",
            "nullable": true,
            "type": {
             "keyType": "string",
             "type": "map",
             "valueContainsNull": true,
             "valueType": "string"
            }
           },
           {
            "metadata": {},
            "name": "@timestamp",
            "nullable": true,
            "type": "timestamp"
           },
           {
            "metadata": {},
            "name": "rule",
            "nullable": true,
            "type": {
             "keyType": "string",
             "type": "map",
             "valueContainsNull": true,
             "valueType": "string"
            }
           },
           {
            "metadata": {},
            "name": "winlog",
            "nullable": true,
            "type": {
             "fields": [
              {
               "metadata": {},
               "name": "api",
               "nullable": true,
               "type": "string"
              },
              {
               "metadata": {},
               "name": "channel",
               "nullable": true,
               "type": "string"
              },
              {
               "metadata": {},
               "name": "computer_name",
               "nullable": true,
               "type": "string"
              },
              {
               "metadata": {},
               "name": "event_data",
               "nullable": true,
               "type": {
                "keyType": "string",
                "type": "map",
                "valueContainsNull": true,
                "valueType": "string"
               }
              },
              {
               "metadata": {},
               "name": "event_id",
               "nullable": true,
               "type": "string"
              },
              {
               "metadata": {},
               "name": "keywords",
               "nullable": true,
               "type": {
                "containsNull": true,
                "elementType": "string",
                "type": "array"
               }
              },
              {
               "metadata": {},
               "name": "opcode",
               "nullable": true,
               "type": "string"
              },
              {
               "metadata": {},
               "name": "process",
               "nullable": true,
               "type": {
                "keyType": "string",
                "type": "map",
                "valueContainsNull": true,
                "valueType": "integer"
               }
              },
              {
               "metadata": {},
               "name": "provider_guid",
               "nullable": true,
               "type": "string"
              },
              {
               "metadata": {},
               "name": "provider_name",
               "nullable": true,
               "type": "string"
              },
              {
               "metadata": {},
               "name": "task",
               "nullable": true,
               "type": "string"
              },
              {
               "metadata": {},
               "name": "record_id",
               "nullable": true,
               "type": "string"
              },
              {
               "metadata": {},
               "name": "version",
               "nullable": true,
               "type": "string"
              }
             ],
             "type": "struct"
            }
           },
           {
            "metadata": {},
            "name": "@version",
            "nullable": true,
            "type": "string"
           },
           {
            "metadata": {},
            "name": "host",
            "nullable": true,
            "type": {
             "keyType": "string",
             "type": "map",
             "valueContainsNull": true,
             "valueType": "string"
            }
           },
           {
            "metadata": {},
            "name": "message",
            "nullable": true,
            "type": "string"
           },
           {
            "metadata": {},
            "name": "process",
            "nullable": true,
            "type": {
             "keyType": "string",
             "type": "map",
             "valueContainsNull": true,
             "valueType": "string"
            }
           },
           {
            "metadata": {},
            "name": "ecs",
            "nullable": true,
            "type": {
             "keyType": "string",
             "type": "map",
             "valueContainsNull": true,
             "valueType": "string"
            }
           },
           {
            "metadata": {},
            "name": "event",
            "nullable": true,
            "type": {
             "keyType": "string",
             "type": "map",
             "valueContainsNull": true,
             "valueType": "string"
            }
           },
           {
            "metadata": {},
            "name": "tags",
            "nullable": true,
            "type": {
             "containsNull": true,
             "elementType": "string",
             "type": "array"
            }
           },
           {
            "metadata": {},
            "name": "log",
            "nullable": true,
            "type": {
             "keyType": "string",
             "type": "map",
             "valueContainsNull": true,
             "valueType": "string"
            }
           },
           {
            "metadata": {},
            "name": "file",
            "nullable": true,
            "type": {
             "keyType": "string",
             "type": "map",
             "valueContainsNull": true,
             "valueType": "string"
            }
           }
          ],
          "type": "struct"
         },
         "tableIdentifier": null,
         "typeStr": "pyspark.sql.connect.dataframe.DataFrame"
        }
       ],
       "dbfsResultPath": null,
       "isJsonSchema": true,
       "metadata": {
        "createTempViewForImplicitDf": true,
        "dataframeName": "_sqldf",
        "executionCount": 2
       },
       "overflow": false,
       "plotOptions": {
        "customPlotOptions": {},
        "displayType": "table",
        "pivotAggregation": null,
        "pivotColumns": null,
        "xColumns": null,
        "yColumns": null
       },
       "removedWidgets": [],
       "schema": [
        {
         "metadata": "{}",
         "name": "agent",
         "type": "{\"keyType\":\"string\",\"type\":\"map\",\"valueContainsNull\":true,\"valueType\":\"string\"}"
        },
        {
         "metadata": "{}",
         "name": "@timestamp",
         "type": "\"timestamp\""
        },
        {
         "metadata": "{}",
         "name": "rule",
         "type": "{\"keyType\":\"string\",\"type\":\"map\",\"valueContainsNull\":true,\"valueType\":\"string\"}"
        },
        {
         "metadata": "{}",
         "name": "winlog",
         "type": "{\"fields\":[{\"metadata\":{},\"name\":\"api\",\"nullable\":true,\"type\":\"string\"},{\"metadata\":{},\"name\":\"channel\",\"nullable\":true,\"type\":\"string\"},{\"metadata\":{},\"name\":\"computer_name\",\"nullable\":true,\"type\":\"string\"},{\"metadata\":{},\"name\":\"event_data\",\"nullable\":true,\"type\":{\"keyType\":\"string\",\"type\":\"map\",\"valueContainsNull\":true,\"valueType\":\"string\"}},{\"metadata\":{},\"name\":\"event_id\",\"nullable\":true,\"type\":\"string\"},{\"metadata\":{},\"name\":\"keywords\",\"nullable\":true,\"type\":{\"containsNull\":true,\"elementType\":\"string\",\"type\":\"array\"}},{\"metadata\":{},\"name\":\"opcode\",\"nullable\":true,\"type\":\"string\"},{\"metadata\":{},\"name\":\"process\",\"nullable\":true,\"type\":{\"keyType\":\"string\",\"type\":\"map\",\"valueContainsNull\":true,\"valueType\":\"integer\"}},{\"metadata\":{},\"name\":\"provider_guid\",\"nullable\":true,\"type\":\"string\"},{\"metadata\":{},\"name\":\"provider_name\",\"nullable\":true,\"type\":\"string\"},{\"metadata\":{},\"name\":\"task\",\"nullable\":true,\"type\":\"string\"},{\"metadata\":{},\"name\":\"record_id\",\"nullable\":true,\"type\":\"string\"},{\"metadata\":{},\"name\":\"version\",\"nullable\":true,\"type\":\"string\"}],\"type\":\"struct\"}"
        },
        {
         "metadata": "{}",
         "name": "@version",
         "type": "\"string\""
        },
        {
         "metadata": "{}",
         "name": "host",
         "type": "{\"keyType\":\"string\",\"type\":\"map\",\"valueContainsNull\":true,\"valueType\":\"string\"}"
        },
        {
         "metadata": "{}",
         "name": "message",
         "type": "\"string\""
        },
        {
         "metadata": "{}",
         "name": "process",
         "type": "{\"keyType\":\"string\",\"type\":\"map\",\"valueContainsNull\":true,\"valueType\":\"string\"}"
        },
        {
         "metadata": "{}",
         "name": "ecs",
         "type": "{\"keyType\":\"string\",\"type\":\"map\",\"valueContainsNull\":true,\"valueType\":\"string\"}"
        },
        {
         "metadata": "{}",
         "name": "event",
         "type": "{\"keyType\":\"string\",\"type\":\"map\",\"valueContainsNull\":true,\"valueType\":\"string\"}"
        },
        {
         "metadata": "{}",
         "name": "tags",
         "type": "{\"containsNull\":true,\"elementType\":\"string\",\"type\":\"array\"}"
        },
        {
         "metadata": "{}",
         "name": "log",
         "type": "{\"keyType\":\"string\",\"type\":\"map\",\"valueContainsNull\":true,\"valueType\":\"string\"}"
        },
        {
         "metadata": "{}",
         "name": "file",
         "type": "{\"keyType\":\"string\",\"type\":\"map\",\"valueContainsNull\":true,\"valueType\":\"string\"}"
        }
       ],
       "type": "table"
      }
     },
     "output_type": "display_data"
    }
   ],
   "source": [
    "%sql\n",
    "SELECT * FROM btv_dc30.bronze.sysmon\n",
    "LIMIT 3"
   ]
  },
  {
   "cell_type": "code",
   "execution_count": null,
   "metadata": {
    "application/vnd.databricks.v1+cell": {
     "cellMetadata": {
      "byteLimit": 2048000,
      "implicitDf": true,
      "rowLimit": 10000
     },
     "inputWidgets": {},
     "nuid": "54f18407-01b9-4279-981d-b1ca87be8502",
     "showTitle": false,
     "tableResultSettingsMap": {},
     "title": ""
    }
   },
   "outputs": [
    {
     "data": {
      "text/html": [
       "<style scoped>\n",
       "  .table-result-container {\n",
       "    max-height: 300px;\n",
       "    overflow: auto;\n",
       "  }\n",
       "  table, th, td {\n",
       "    border: 1px solid black;\n",
       "    border-collapse: collapse;\n",
       "  }\n",
       "  th, td {\n",
       "    padding: 5px;\n",
       "  }\n",
       "  th {\n",
       "    text-align: left;\n",
       "  }\n",
       "</style><div class='table-result-container'><table class='table-result'><thead style='background-color: white'><tr><th>tags</th><th>winlog</th><th>computer_name</th><th>event_id</th><th>api</th><th>channel</th><th>provider_guid</th><th>opcode</th><th>task</th><th>record_id</th><th>version</th><th>process</th><th>keywords</th><th>provider_name</th><th>log</th><th>@timestamp</th><th>agent</th><th>message</th><th>@version</th><th>event</th><th>host</th><th>ecs</th></tr></thead><tbody><tr><td>List(beats_input_codec_plain_applied)</td><td>Map(record_id -> 108612, channel -> System, event_data -> {\"UserSid\":\"S-1-5-21-2370586174-1517003462-1142029260-1136\",\"TSId\":\"3\"}, process -> {\"pid\":4184,\"thread\":{\"id\":3272}}, computer_name -> wkst06.magnumtempus.financial, provider_name -> Microsoft-Windows-Winlogon, provider_guid -> {DBE9B383-7CF3-4331-91CC-A3CB16A3B538}, opcode -> Info, api -> wineventlog, event_id -> 7002, user -> {\"domain\":\"NT AUTHORITY\",\"name\":\"SYSTEM\",\"type\":\"User\",\"identifier\":\"S-1-5-18\"})</td><td>null</td><td>null</td><td>null</td><td>null</td><td>null</td><td>null</td><td>null</td><td>null</td><td>null</td><td>null</td><td>null</td><td>null</td><td>Map(level -> information)</td><td>2022-02-12T20:14:56.212Z</td><td>Map(name -> wkst06, hostname -> wkst06, version -> 7.16.2, id -> ede5221c-9b85-4b9c-a9df-65d46bd0af04, ephemeral_id -> 7203285e-85aa-46f8-b9f1-ca88ef568144, type -> winlogbeat)</td><td>User Logoff Notification for Customer Experience Improvement Program</td><td>1</td><td>Map(provider -> Microsoft-Windows-Winlogon, kind -> event, created -> 2022-02-12T20:15:29.248Z, code -> 7002)</td><td>Map(mac -> [\"06:a3:be:71:d7:f0\",\"00:00:00:00:00:00:00:e0\"], name -> wkst06.magnumtempus.financial, ip -> [\"fe80::a165:e292:4340:72a7\",\"172.16.50.135\",\"fe80::5efe:ac10:3287\"], hostname -> wkst06, os -> {\"type\":\"windows\",\"platform\":\"windows\",\"family\":\"windows\",\"kernel\":\"10.0.14393.4770 (rs1_release.211101-1440)\",\"version\":\"10.0\",\"name\":\"Windows Server 2016 Datacenter\",\"build\":\"14393.4770\"}, architecture -> x86_64, id -> 18e6654d-d024-4c71-ba09-cf96cd5e4a5a)</td><td>Map(version -> 1.12.0)</td></tr><tr><td>List(beats_input_codec_plain_applied)</td><td>Map(record_id -> 108614, channel -> System, event_data -> {\"Binary\":\"740069006C00650064006100740061006D006F00640065006C007300760063002F0031000000\",\"param1\":\"Tile Data model server\",\"param2\":\"stopped\"}, process -> {\"pid\":556,\"thread\":{\"id\":1900}}, computer_name -> wkst06.magnumtempus.financial, provider_name -> Service Control Manager, provider_guid -> {555908d1-a6d7-4695-8e1e-26931d2012f4}, keywords -> [\"Classic\"], api -> wineventlog, event_id -> 7036)</td><td>null</td><td>null</td><td>null</td><td>null</td><td>null</td><td>null</td><td>null</td><td>null</td><td>null</td><td>null</td><td>null</td><td>null</td><td>Map(level -> information)</td><td>2022-02-12T20:14:56.286Z</td><td>Map(name -> wkst06, hostname -> wkst06, version -> 7.16.2, id -> ede5221c-9b85-4b9c-a9df-65d46bd0af04, ephemeral_id -> 7203285e-85aa-46f8-b9f1-ca88ef568144, type -> winlogbeat)</td><td>The Tile Data model server service entered the stopped state.</td><td>1</td><td>Map(provider -> Service Control Manager, kind -> event, created -> 2022-02-12T20:15:29.249Z, code -> 7036)</td><td>Map(mac -> [\"06:a3:be:71:d7:f0\",\"00:00:00:00:00:00:00:e0\"], name -> wkst06.magnumtempus.financial, ip -> [\"fe80::a165:e292:4340:72a7\",\"172.16.50.135\",\"fe80::5efe:ac10:3287\"], hostname -> wkst06, os -> {\"type\":\"windows\",\"platform\":\"windows\",\"family\":\"windows\",\"kernel\":\"10.0.14393.4770 (rs1_release.211101-1440)\",\"version\":\"10.0\",\"name\":\"Windows Server 2016 Datacenter\",\"build\":\"14393.4770\"}, architecture -> x86_64, id -> 18e6654d-d024-4c71-ba09-cf96cd5e4a5a)</td><td>Map(version -> 1.12.0)</td></tr><tr><td>List(beats_input_codec_plain_applied)</td><td>Map(record_id -> 108616, channel -> System, event_data -> {\"Binary\":\"670070007300760063002F0034000000\",\"param1\":\"Group Policy Client\",\"param2\":\"running\"}, process -> {\"thread\":{\"id\":1900},\"pid\":556}, computer_name -> wkst06.magnumtempus.financial, provider_name -> Service Control Manager, provider_guid -> {555908d1-a6d7-4695-8e1e-26931d2012f4}, keywords -> [\"Classic\"], api -> wineventlog, event_id -> 7036)</td><td>null</td><td>null</td><td>null</td><td>null</td><td>null</td><td>null</td><td>null</td><td>null</td><td>null</td><td>null</td><td>null</td><td>null</td><td>Map(level -> information)</td><td>2022-02-12T20:14:56.318Z</td><td>Map(name -> wkst06, hostname -> wkst06, version -> 7.16.2, id -> ede5221c-9b85-4b9c-a9df-65d46bd0af04, ephemeral_id -> 7203285e-85aa-46f8-b9f1-ca88ef568144, type -> winlogbeat)</td><td>The Group Policy Client service entered the running state.</td><td>1</td><td>Map(created -> 2022-02-12T20:15:29.249Z, kind -> event, code -> 7036, provider -> Service Control Manager)</td><td>Map(mac -> [\"06:a3:be:71:d7:f0\",\"00:00:00:00:00:00:00:e0\"], name -> wkst06.magnumtempus.financial, ip -> [\"fe80::a165:e292:4340:72a7\",\"172.16.50.135\",\"fe80::5efe:ac10:3287\"], hostname -> wkst06, os -> {\"platform\":\"windows\",\"type\":\"windows\",\"family\":\"windows\",\"kernel\":\"10.0.14393.4770 (rs1_release.211101-1440)\",\"version\":\"10.0\",\"name\":\"Windows Server 2016 Datacenter\",\"build\":\"14393.4770\"}, architecture -> x86_64, id -> 18e6654d-d024-4c71-ba09-cf96cd5e4a5a)</td><td>Map(version -> 1.12.0)</td></tr></tbody></table></div>"
      ]
     },
     "metadata": {
      "application/vnd.databricks.v1+output": {
       "addedWidgets": {},
       "aggData": [],
       "aggError": "",
       "aggOverflow": false,
       "aggSchema": [],
       "aggSeriesLimitReached": false,
       "aggType": "",
       "arguments": {},
       "columnCustomDisplayInfos": {},
       "data": [
        [
         [
          "beats_input_codec_plain_applied"
         ],
         {
          "api": "wineventlog",
          "channel": "System",
          "computer_name": "wkst06.magnumtempus.financial",
          "event_data": "{\"UserSid\":\"S-1-5-21-2370586174-1517003462-1142029260-1136\",\"TSId\":\"3\"}",
          "event_id": "7002",
          "opcode": "Info",
          "process": "{\"pid\":4184,\"thread\":{\"id\":3272}}",
          "provider_guid": "{DBE9B383-7CF3-4331-91CC-A3CB16A3B538}",
          "provider_name": "Microsoft-Windows-Winlogon",
          "record_id": "108612",
          "user": "{\"domain\":\"NT AUTHORITY\",\"name\":\"SYSTEM\",\"type\":\"User\",\"identifier\":\"S-1-5-18\"}"
         },
         null,
         null,
         null,
         null,
         null,
         null,
         null,
         null,
         null,
         null,
         null,
         null,
         {
          "level": "information"
         },
         "2022-02-12T20:14:56.212Z",
         {
          "ephemeral_id": "7203285e-85aa-46f8-b9f1-ca88ef568144",
          "hostname": "wkst06",
          "id": "ede5221c-9b85-4b9c-a9df-65d46bd0af04",
          "name": "wkst06",
          "type": "winlogbeat",
          "version": "7.16.2"
         },
         "User Logoff Notification for Customer Experience Improvement Program",
         "1",
         {
          "code": "7002",
          "created": "2022-02-12T20:15:29.248Z",
          "kind": "event",
          "provider": "Microsoft-Windows-Winlogon"
         },
         {
          "architecture": "x86_64",
          "hostname": "wkst06",
          "id": "18e6654d-d024-4c71-ba09-cf96cd5e4a5a",
          "ip": "[\"fe80::a165:e292:4340:72a7\",\"172.16.50.135\",\"fe80::5efe:ac10:3287\"]",
          "mac": "[\"06:a3:be:71:d7:f0\",\"00:00:00:00:00:00:00:e0\"]",
          "name": "wkst06.magnumtempus.financial",
          "os": "{\"type\":\"windows\",\"platform\":\"windows\",\"family\":\"windows\",\"kernel\":\"10.0.14393.4770 (rs1_release.211101-1440)\",\"version\":\"10.0\",\"name\":\"Windows Server 2016 Datacenter\",\"build\":\"14393.4770\"}"
         },
         {
          "version": "1.12.0"
         }
        ],
        [
         [
          "beats_input_codec_plain_applied"
         ],
         {
          "api": "wineventlog",
          "channel": "System",
          "computer_name": "wkst06.magnumtempus.financial",
          "event_data": "{\"Binary\":\"740069006C00650064006100740061006D006F00640065006C007300760063002F0031000000\",\"param1\":\"Tile Data model server\",\"param2\":\"stopped\"}",
          "event_id": "7036",
          "keywords": "[\"Classic\"]",
          "process": "{\"pid\":556,\"thread\":{\"id\":1900}}",
          "provider_guid": "{555908d1-a6d7-4695-8e1e-26931d2012f4}",
          "provider_name": "Service Control Manager",
          "record_id": "108614"
         },
         null,
         null,
         null,
         null,
         null,
         null,
         null,
         null,
         null,
         null,
         null,
         null,
         {
          "level": "information"
         },
         "2022-02-12T20:14:56.286Z",
         {
          "ephemeral_id": "7203285e-85aa-46f8-b9f1-ca88ef568144",
          "hostname": "wkst06",
          "id": "ede5221c-9b85-4b9c-a9df-65d46bd0af04",
          "name": "wkst06",
          "type": "winlogbeat",
          "version": "7.16.2"
         },
         "The Tile Data model server service entered the stopped state.",
         "1",
         {
          "code": "7036",
          "created": "2022-02-12T20:15:29.249Z",
          "kind": "event",
          "provider": "Service Control Manager"
         },
         {
          "architecture": "x86_64",
          "hostname": "wkst06",
          "id": "18e6654d-d024-4c71-ba09-cf96cd5e4a5a",
          "ip": "[\"fe80::a165:e292:4340:72a7\",\"172.16.50.135\",\"fe80::5efe:ac10:3287\"]",
          "mac": "[\"06:a3:be:71:d7:f0\",\"00:00:00:00:00:00:00:e0\"]",
          "name": "wkst06.magnumtempus.financial",
          "os": "{\"type\":\"windows\",\"platform\":\"windows\",\"family\":\"windows\",\"kernel\":\"10.0.14393.4770 (rs1_release.211101-1440)\",\"version\":\"10.0\",\"name\":\"Windows Server 2016 Datacenter\",\"build\":\"14393.4770\"}"
         },
         {
          "version": "1.12.0"
         }
        ],
        [
         [
          "beats_input_codec_plain_applied"
         ],
         {
          "api": "wineventlog",
          "channel": "System",
          "computer_name": "wkst06.magnumtempus.financial",
          "event_data": "{\"Binary\":\"670070007300760063002F0034000000\",\"param1\":\"Group Policy Client\",\"param2\":\"running\"}",
          "event_id": "7036",
          "keywords": "[\"Classic\"]",
          "process": "{\"thread\":{\"id\":1900},\"pid\":556}",
          "provider_guid": "{555908d1-a6d7-4695-8e1e-26931d2012f4}",
          "provider_name": "Service Control Manager",
          "record_id": "108616"
         },
         null,
         null,
         null,
         null,
         null,
         null,
         null,
         null,
         null,
         null,
         null,
         null,
         {
          "level": "information"
         },
         "2022-02-12T20:14:56.318Z",
         {
          "ephemeral_id": "7203285e-85aa-46f8-b9f1-ca88ef568144",
          "hostname": "wkst06",
          "id": "ede5221c-9b85-4b9c-a9df-65d46bd0af04",
          "name": "wkst06",
          "type": "winlogbeat",
          "version": "7.16.2"
         },
         "The Group Policy Client service entered the running state.",
         "1",
         {
          "code": "7036",
          "created": "2022-02-12T20:15:29.249Z",
          "kind": "event",
          "provider": "Service Control Manager"
         },
         {
          "architecture": "x86_64",
          "hostname": "wkst06",
          "id": "18e6654d-d024-4c71-ba09-cf96cd5e4a5a",
          "ip": "[\"fe80::a165:e292:4340:72a7\",\"172.16.50.135\",\"fe80::5efe:ac10:3287\"]",
          "mac": "[\"06:a3:be:71:d7:f0\",\"00:00:00:00:00:00:00:e0\"]",
          "name": "wkst06.magnumtempus.financial",
          "os": "{\"platform\":\"windows\",\"type\":\"windows\",\"family\":\"windows\",\"kernel\":\"10.0.14393.4770 (rs1_release.211101-1440)\",\"version\":\"10.0\",\"name\":\"Windows Server 2016 Datacenter\",\"build\":\"14393.4770\"}"
         },
         {
          "version": "1.12.0"
         }
        ]
       ],
       "datasetInfos": [
        {
         "name": "_sqldf",
         "schema": {
          "fields": [
           {
            "metadata": {},
            "name": "tags",
            "nullable": true,
            "type": {
             "containsNull": true,
             "elementType": "string",
             "type": "array"
            }
           },
           {
            "metadata": {},
            "name": "winlog",
            "nullable": true,
            "type": {
             "keyType": "string",
             "type": "map",
             "valueContainsNull": true,
             "valueType": "string"
            }
           },
           {
            "metadata": {},
            "name": "computer_name",
            "nullable": true,
            "type": "string"
           },
           {
            "metadata": {},
            "name": "event_id",
            "nullable": true,
            "type": "string"
           },
           {
            "metadata": {},
            "name": "api",
            "nullable": true,
            "type": "string"
           },
           {
            "metadata": {},
            "name": "channel",
            "nullable": true,
            "type": "string"
           },
           {
            "metadata": {},
            "name": "provider_guid",
            "nullable": true,
            "type": "string"
           },
           {
            "metadata": {},
            "name": "opcode",
            "nullable": true,
            "type": "string"
           },
           {
            "metadata": {},
            "name": "task",
            "nullable": true,
            "type": "string"
           },
           {
            "metadata": {},
            "name": "record_id",
            "nullable": true,
            "type": "integer"
           },
           {
            "metadata": {},
            "name": "version",
            "nullable": true,
            "type": "integer"
           },
           {
            "metadata": {},
            "name": "process",
            "nullable": true,
            "type": {
             "keyType": "string",
             "type": "map",
             "valueContainsNull": true,
             "valueType": "string"
            }
           },
           {
            "metadata": {},
            "name": "keywords",
            "nullable": true,
            "type": {
             "containsNull": true,
             "elementType": "string",
             "type": "array"
            }
           },
           {
            "metadata": {},
            "name": "provider_name",
            "nullable": true,
            "type": "string"
           },
           {
            "metadata": {},
            "name": "log",
            "nullable": true,
            "type": {
             "keyType": "string",
             "type": "map",
             "valueContainsNull": true,
             "valueType": "string"
            }
           },
           {
            "metadata": {},
            "name": "@timestamp",
            "nullable": true,
            "type": "string"
           },
           {
            "metadata": {},
            "name": "agent",
            "nullable": true,
            "type": {
             "keyType": "string",
             "type": "map",
             "valueContainsNull": true,
             "valueType": "string"
            }
           },
           {
            "metadata": {},
            "name": "message",
            "nullable": true,
            "type": "string"
           },
           {
            "metadata": {},
            "name": "@version",
            "nullable": true,
            "type": "string"
           },
           {
            "metadata": {},
            "name": "event",
            "nullable": true,
            "type": {
             "keyType": "string",
             "type": "map",
             "valueContainsNull": true,
             "valueType": "string"
            }
           },
           {
            "metadata": {},
            "name": "host",
            "nullable": true,
            "type": {
             "keyType": "string",
             "type": "map",
             "valueContainsNull": true,
             "valueType": "string"
            }
           },
           {
            "metadata": {},
            "name": "ecs",
            "nullable": true,
            "type": {
             "keyType": "string",
             "type": "map",
             "valueContainsNull": true,
             "valueType": "string"
            }
           }
          ],
          "type": "struct"
         },
         "tableIdentifier": null,
         "typeStr": "pyspark.sql.connect.dataframe.DataFrame"
        }
       ],
       "dbfsResultPath": null,
       "isJsonSchema": true,
       "metadata": {
        "createTempViewForImplicitDf": true,
        "dataframeName": "_sqldf",
        "executionCount": 173
       },
       "overflow": false,
       "plotOptions": {
        "customPlotOptions": {},
        "displayType": "table",
        "pivotAggregation": null,
        "pivotColumns": null,
        "xColumns": null,
        "yColumns": null
       },
       "removedWidgets": [],
       "schema": [
        {
         "metadata": "{}",
         "name": "tags",
         "type": "{\"containsNull\":true,\"elementType\":\"string\",\"type\":\"array\"}"
        },
        {
         "metadata": "{}",
         "name": "winlog",
         "type": "{\"keyType\":\"string\",\"type\":\"map\",\"valueContainsNull\":true,\"valueType\":\"string\"}"
        },
        {
         "metadata": "{}",
         "name": "computer_name",
         "type": "\"string\""
        },
        {
         "metadata": "{}",
         "name": "event_id",
         "type": "\"string\""
        },
        {
         "metadata": "{}",
         "name": "api",
         "type": "\"string\""
        },
        {
         "metadata": "{}",
         "name": "channel",
         "type": "\"string\""
        },
        {
         "metadata": "{}",
         "name": "provider_guid",
         "type": "\"string\""
        },
        {
         "metadata": "{}",
         "name": "opcode",
         "type": "\"string\""
        },
        {
         "metadata": "{}",
         "name": "task",
         "type": "\"string\""
        },
        {
         "metadata": "{}",
         "name": "record_id",
         "type": "\"integer\""
        },
        {
         "metadata": "{}",
         "name": "version",
         "type": "\"integer\""
        },
        {
         "metadata": "{}",
         "name": "process",
         "type": "{\"keyType\":\"string\",\"type\":\"map\",\"valueContainsNull\":true,\"valueType\":\"string\"}"
        },
        {
         "metadata": "{}",
         "name": "keywords",
         "type": "{\"containsNull\":true,\"elementType\":\"string\",\"type\":\"array\"}"
        },
        {
         "metadata": "{}",
         "name": "provider_name",
         "type": "\"string\""
        },
        {
         "metadata": "{}",
         "name": "log",
         "type": "{\"keyType\":\"string\",\"type\":\"map\",\"valueContainsNull\":true,\"valueType\":\"string\"}"
        },
        {
         "metadata": "{}",
         "name": "@timestamp",
         "type": "\"string\""
        },
        {
         "metadata": "{}",
         "name": "agent",
         "type": "{\"keyType\":\"string\",\"type\":\"map\",\"valueContainsNull\":true,\"valueType\":\"string\"}"
        },
        {
         "metadata": "{}",
         "name": "message",
         "type": "\"string\""
        },
        {
         "metadata": "{}",
         "name": "@version",
         "type": "\"string\""
        },
        {
         "metadata": "{}",
         "name": "event",
         "type": "{\"keyType\":\"string\",\"type\":\"map\",\"valueContainsNull\":true,\"valueType\":\"string\"}"
        },
        {
         "metadata": "{}",
         "name": "host",
         "type": "{\"keyType\":\"string\",\"type\":\"map\",\"valueContainsNull\":true,\"valueType\":\"string\"}"
        },
        {
         "metadata": "{}",
         "name": "ecs",
         "type": "{\"keyType\":\"string\",\"type\":\"map\",\"valueContainsNull\":true,\"valueType\":\"string\"}"
        }
       ],
       "type": "table"
      }
     },
     "output_type": "display_data"
    }
   ],
   "source": [
    "%sql\n",
    "SELECT * FROM btv_dc30.bronze.wineventlogs\n",
    "LIMIT 3"
   ]
  }
 ],
 "metadata": {
  "application/vnd.databricks.v1+notebook": {
   "computePreferences": null,
   "dashboards": [],
   "environmentMetadata": {
    "base_environment": "",
    "environment_version": "2"
   },
   "inputWidgetPreferences": null,
   "language": "python",
   "notebookMetadata": {
    "mostRecentlyExecutedCommandWithImplicitDF": {
     "commandId": 6700420096470104,
     "dataframes": [
      "_sqldf"
     ]
    },
    "pythonIndentUnit": 4
   },
   "notebookName": "create_bronze_tables",
   "widgets": {}
  },
  "language_info": {
   "name": "python"
  }
 },
 "nbformat": 4,
 "nbformat_minor": 0
}
